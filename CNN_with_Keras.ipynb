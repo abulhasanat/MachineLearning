{
  "nbformat": 4,
  "nbformat_minor": 0,
  "metadata": {
    "colab": {
      "name": "CNN with Keras.ipynb",
      "version": "0.3.2",
      "provenance": [],
      "include_colab_link": true
    },
    "kernelspec": {
      "name": "python3",
      "display_name": "Python 3"
    },
    "accelerator": "GPU"
  },
  "cells": [
    {
      "cell_type": "markdown",
      "metadata": {
        "id": "view-in-github",
        "colab_type": "text"
      },
      "source": [
        "<a href=\"https://colab.research.google.com/github/abulhasanat/MachineLearning/blob/master/CNN_with_Keras.ipynb\" target=\"_parent\"><img src=\"https://colab.research.google.com/assets/colab-badge.svg\" alt=\"Open In Colab\"/></a>"
      ]
    },
    {
      "cell_type": "markdown",
      "metadata": {
        "id": "NevWf-KskRA-",
        "colab_type": "text"
      },
      "source": [
        "# The Fashion-MNIST Data Set\n",
        "Before we go ahead and load in the data, it's good to take a look at what we'll exactly be working with! The Fashion-MNIST dataset is a dataset of Zalando's article images, with 28x28 grayscale images of 70,000 fashion products from 10 categories, and 7,000 images per category. The training set has 60,000 images, and the test set has 10,000 images. \n"
      ]
    },
    {
      "cell_type": "markdown",
      "metadata": {
        "id": "5Rq8EhEVoHwv",
        "colab_type": "text"
      },
      "source": [
        "# Load the Data\n",
        "Keras comes with a library called datasets, which we can use to load datasets out of the box: we download the data from the server and speeds up the process since we no longer have to download the data to wer computer. The train and test images along with the labels are loaded and stored in variables train_X, train_Y, test_X, test_Y, respectively."
      ]
    },
    {
      "cell_type": "code",
      "metadata": {
        "id": "9I_Ad0kin7zk",
        "colab_type": "code",
        "colab": {
          "base_uri": "https://localhost:8080/",
          "height": 170
        },
        "outputId": "74d90d4a-3df9-4516-e45d-80df5f4a2812"
      },
      "source": [
        "from keras.datasets import fashion_mnist\n",
        "(train_X,train_Y), (test_X,test_Y) = fashion_mnist.load_data()"
      ],
      "execution_count": 1,
      "outputs": [
        {
          "output_type": "stream",
          "text": [
            "Using TensorFlow backend.\n"
          ],
          "name": "stderr"
        },
        {
          "output_type": "stream",
          "text": [
            "Downloading data from http://fashion-mnist.s3-website.eu-central-1.amazonaws.com/train-labels-idx1-ubyte.gz\n",
            "32768/29515 [=================================] - 0s 3us/step\n",
            "Downloading data from http://fashion-mnist.s3-website.eu-central-1.amazonaws.com/train-images-idx3-ubyte.gz\n",
            "26427392/26421880 [==============================] - 2s 0us/step\n",
            "Downloading data from http://fashion-mnist.s3-website.eu-central-1.amazonaws.com/t10k-labels-idx1-ubyte.gz\n",
            "8192/5148 [===============================================] - 0s 0us/step\n",
            "Downloading data from http://fashion-mnist.s3-website.eu-central-1.amazonaws.com/t10k-images-idx3-ubyte.gz\n",
            "4423680/4422102 [==============================] - 1s 0us/step\n"
          ],
          "name": "stdout"
        }
      ]
    },
    {
      "cell_type": "markdown",
      "metadata": {
        "id": "QsrprBSeoYua",
        "colab_type": "text"
      },
      "source": [
        "# Analyze the Data\n",
        "Let's now analyze how images in the dataset look like. Even though we know the dimension of the images by now, it's still worth the effort to analyze it programmatically: we might have to rescale the image pixels and resize the images."
      ]
    },
    {
      "cell_type": "code",
      "metadata": {
        "id": "6xuiL5SvoC0W",
        "colab_type": "code",
        "colab": {
          "base_uri": "https://localhost:8080/",
          "height": 51
        },
        "outputId": "1baabcaa-4748-40d8-f3bf-8ef4bec256ce"
      },
      "source": [
        "import numpy as np\n",
        "from keras.utils import to_categorical\n",
        "import matplotlib.pyplot as plt\n",
        "%matplotlib inline\n",
        "\n",
        "print('Training data shape : ', train_X.shape, train_Y.shape)\n",
        "\n",
        "print('Testing data shape : ', test_X.shape, test_Y.shape)"
      ],
      "execution_count": 2,
      "outputs": [
        {
          "output_type": "stream",
          "text": [
            "Training data shape :  (60000, 28, 28) (60000,)\n",
            "Testing data shape :  (10000, 28, 28) (10000,)\n"
          ],
          "name": "stdout"
        }
      ]
    },
    {
      "cell_type": "markdown",
      "metadata": {
        "id": "QcYH6gHQk2No",
        "colab_type": "text"
      },
      "source": [
        "From the above output, we can see that the training data has a shape of 60000 x 28 x 28 since there are 60,000 training samples each of 28 x 28 dimension. Similarly, the test data has a shape of 10000 x 28 x 28 since there are 10,000 testing samples."
      ]
    },
    {
      "cell_type": "code",
      "metadata": {
        "id": "6tEUXTpToWIM",
        "colab_type": "code",
        "colab": {
          "base_uri": "https://localhost:8080/",
          "height": 51
        },
        "outputId": "168ea3e6-6bf7-47da-8ed5-334feef707b2"
      },
      "source": [
        "# Find the unique numbers from the train labels\n",
        "classes = np.unique(train_Y)\n",
        "nClasses = len(classes)\n",
        "print('Total number of outputs : ', nClasses)\n",
        "print('Output classes : ', classes)"
      ],
      "execution_count": 3,
      "outputs": [
        {
          "output_type": "stream",
          "text": [
            "Total number of outputs :  10\n",
            "Output classes :  [0 1 2 3 4 5 6 7 8 9]\n"
          ],
          "name": "stdout"
        }
      ]
    },
    {
      "cell_type": "markdown",
      "metadata": {
        "id": "wiB71kkwlBF5",
        "colab_type": "text"
      },
      "source": [
        "There's also a total of ten output classes that range from 0 to 9.\n",
        "\n",
        "Let's take a look at what the images in our dataset:"
      ]
    },
    {
      "cell_type": "code",
      "metadata": {
        "id": "KUVd8iiloeRV",
        "colab_type": "code",
        "colab": {
          "base_uri": "https://localhost:8080/",
          "height": 208
        },
        "outputId": "1249b3a5-922b-4587-d526-ebe3c8d0b384"
      },
      "source": [
        "plt.figure(figsize=[5,5])\n",
        "\n",
        "# Display the first image in training data\n",
        "plt.subplot(121)\n",
        "plt.imshow(train_X[0,:,:], cmap='gray')\n",
        "plt.title(\"Ground Truth : {}\".format(train_Y[0]))\n",
        "\n",
        "# Display the first image in testing data\n",
        "plt.subplot(122)\n",
        "plt.imshow(test_X[0,:,:], cmap='gray')\n",
        "plt.title(\"Ground Truth : {}\".format(test_Y[0]))"
      ],
      "execution_count": 4,
      "outputs": [
        {
          "output_type": "execute_result",
          "data": {
            "text/plain": [
              "Text(0.5, 1.0, 'Ground Truth : 9')"
            ]
          },
          "metadata": {
            "tags": []
          },
          "execution_count": 4
        },
        {
          "output_type": "display_data",
          "data": {
            "image/png": "[encoded data removed]",
            "text/plain": [
              "<Figure size 360x360 with 2 Axes>"
            ]
          },
          "metadata": {
            "tags": []
          }
        }
      ]
    },
    {
      "cell_type": "markdown",
      "metadata": {
        "id": "1frtrgndlq-k",
        "colab_type": "text"
      },
      "source": [
        "The output of above two plots looks like an ankle boot, and this class is assigned a class label of 9. Similarly, other fashion products will have different labels, but similar products will have same labels. This means that all the 7,000 ankle boot images will have a class label of 9."
      ]
    },
    {
      "cell_type": "markdown",
      "metadata": {
        "id": "5sb-0PUco1HU",
        "colab_type": "text"
      },
      "source": [
        "# Data Preprocessing\n",
        "As a first step, convert each 28 x 28 image of the train and test set into a matrix of size 28 x 28 x 1 which is fed into the network."
      ]
    },
    {
      "cell_type": "code",
      "metadata": {
        "id": "eFtNL1fTomOU",
        "colab_type": "code",
        "colab": {
          "base_uri": "https://localhost:8080/",
          "height": 34
        },
        "outputId": "42088949-19c0-407e-b727-1d7c1f1fc0b4"
      },
      "source": [
        "train_X = train_X.reshape(-1, 28,28, 1)\n",
        "test_X = test_X.reshape(-1, 28,28, 1)\n",
        "train_X.shape, test_X.shape"
      ],
      "execution_count": 5,
      "outputs": [
        {
          "output_type": "execute_result",
          "data": {
            "text/plain": [
              "((60000, 28, 28, 1), (10000, 28, 28, 1))"
            ]
          },
          "metadata": {
            "tags": []
          },
          "execution_count": 5
        }
      ]
    },
    {
      "cell_type": "markdown",
      "metadata": {
        "id": "2tmxckx4pOyj",
        "colab_type": "text"
      },
      "source": [
        "The data right now is in an int8 format, so before we feed it into the network we need to convert its type to float32, and we also have to rescale the pixel values in range 0 - 1 inclusive. So let's do that!"
      ]
    },
    {
      "cell_type": "code",
      "metadata": {
        "id": "zb6_pR4no8QJ",
        "colab_type": "code",
        "colab": {}
      },
      "source": [
        "train_X = train_X.astype('float32')\n",
        "test_X = test_X.astype('float32')\n",
        "train_X = train_X / 255.\n",
        "test_X = test_X / 255."
      ],
      "execution_count": 0,
      "outputs": []
    },
    {
      "cell_type": "markdown",
      "metadata": {
        "id": "hrfyRl9vpcU_",
        "colab_type": "text"
      },
      "source": [
        "Now we need to convert the class labels into a one-hot encoding vector."
      ]
    },
    {
      "cell_type": "code",
      "metadata": {
        "id": "CA58HEtjpYCT",
        "colab_type": "code",
        "colab": {
          "base_uri": "https://localhost:8080/",
          "height": 51
        },
        "outputId": "5b1d64dc-8d26-4114-e501-7dcf82e8f7d6"
      },
      "source": [
        "# Change the labels from categorical to one-hot encoding\n",
        "train_Y_one_hot = to_categorical(train_Y)\n",
        "test_Y_one_hot = to_categorical(test_Y)\n",
        "\n",
        "# Display the change for category label using one-hot encoding\n",
        "print('Original label:', train_Y[0])\n",
        "print('After conversion to one-hot:', train_Y_one_hot[0])"
      ],
      "execution_count": 7,
      "outputs": [
        {
          "output_type": "stream",
          "text": [
            "Original label: 9\n",
            "After conversion to one-hot: [0. 0. 0. 0. 0. 0. 0. 0. 0. 1.]\n"
          ],
          "name": "stdout"
        }
      ]
    },
    {
      "cell_type": "markdown",
      "metadata": {
        "id": "jgyDvxABrB4A",
        "colab_type": "text"
      },
      "source": [
        "We will train the model on 80\\% of the training data and validate it on 20\\% of the remaining training data."
      ]
    },
    {
      "cell_type": "code",
      "metadata": {
        "id": "V87tQaiXpdS2",
        "colab_type": "code",
        "colab": {}
      },
      "source": [
        "from sklearn.model_selection import train_test_split\n",
        "train_X,valid_X,train_label,valid_label = train_test_split(train_X, train_Y_one_hot, test_size=0.2, random_state=13)"
      ],
      "execution_count": 0,
      "outputs": []
    },
    {
      "cell_type": "markdown",
      "metadata": {
        "id": "2l4O5jQ7rNFg",
        "colab_type": "text"
      },
      "source": [
        "For one last time let's check the shape of training and validation set."
      ]
    },
    {
      "cell_type": "code",
      "metadata": {
        "id": "WG7R_pANq6Jd",
        "colab_type": "code",
        "colab": {
          "base_uri": "https://localhost:8080/",
          "height": 34
        },
        "outputId": "1bb9eb8f-519b-4447-8f89-e6c105754d65"
      },
      "source": [
        "train_X.shape,valid_X.shape,train_label.shape,valid_label.shape"
      ],
      "execution_count": 9,
      "outputs": [
        {
          "output_type": "execute_result",
          "data": {
            "text/plain": [
              "((48000, 28, 28, 1), (12000, 28, 28, 1), (48000, 10), (12000, 10))"
            ]
          },
          "metadata": {
            "tags": []
          },
          "execution_count": 9
        }
      ]
    },
    {
      "cell_type": "markdown",
      "metadata": {
        "id": "ak92qmZ8rXfj",
        "colab_type": "text"
      },
      "source": [
        "# The Network\n",
        "We'll use three convolutional layers:\n",
        "\n",
        "The first layer will have 32-3 x 3 filters,\n",
        "The second layer will have 64-3 x 3 filters and\n",
        "The third layer will have 128-3 x 3 filters.\n",
        "In addition, there are three max-pooling layers each of size 2 x 2."
      ]
    },
    {
      "cell_type": "markdown",
      "metadata": {
        "id": "WvxJMTFBr_xi",
        "colab_type": "text"
      },
      "source": [
        "# Model the Data\n",
        "First, let's import all the necessary modules required to train the model."
      ]
    },
    {
      "cell_type": "code",
      "metadata": {
        "id": "9zSv0o3brIpy",
        "colab_type": "code",
        "colab": {}
      },
      "source": [
        "import keras\n",
        "from keras.models import Sequential,Input,Model\n",
        "from keras.layers import Dense, Dropout, Flatten\n",
        "from keras.layers import Conv2D, MaxPooling2D\n",
        "from keras.layers.normalization import BatchNormalization\n",
        "from keras.layers.advanced_activations import LeakyReLU"
      ],
      "execution_count": 0,
      "outputs": []
    },
    {
      "cell_type": "markdown",
      "metadata": {
        "id": "x9cN7VeRsyP8",
        "colab_type": "text"
      },
      "source": [
        "We will use a batch size of 64 using a higher batch size of 128 or 256 is also preferable it all depends on the memory. It contributes massively to determining the learning parameters and affects the prediction accuracy. We will train the network for 20 epochs."
      ]
    },
    {
      "cell_type": "code",
      "metadata": {
        "id": "WSWf-zmRsFr9",
        "colab_type": "code",
        "colab": {}
      },
      "source": [
        "batch_size = 64\n",
        "epochs = 20\n",
        "num_classes = 10"
      ],
      "execution_count": 0,
      "outputs": []
    },
    {
      "cell_type": "markdown",
      "metadata": {
        "id": "ld8GOC5YtzX-",
        "colab_type": "text"
      },
      "source": [
        "# Neural Network Architecture\n",
        "In Keras, we can just stack up layers by adding the desired layer one by one. That's exactly what we'll do here: we'll first add a first convolutional layer with Conv2D(). Note that we use this function because we're working with images! Next, we add the Leaky ReLU activation function which helps the network learn non-linear decision boundaries. Since we have ten different classes, we'll need a non-linear decision boundary that could separate these ten classes which are not linearly separable.\n",
        "\n",
        "More specifically, we add Leaky ReLUs because they attempt to fix the problem of dying Rectified Linear Units (ReLUs). The ReLU activation function is used a lot in neural network architectures and more specifically in convolutional networks, where it has proven to be more effective than the widely used logistic sigmoid function. As of 2017, this activation function is the most popular one for deep neural networks. The ReLU function allows the activation to be thresholded at zero. However, during the training, ReLU units can \"die\". This can happen when a large gradient flows through a ReLU neuron: it can cause the weights to update in such a way that the neuron will never activate on any data point again. If this happens, then the gradient flowing through the unit will forever be zero from that point on. Leaky ReLUs attempt to solve this: the function will not be zero but will instead have a small negative slope.\n",
        "\n",
        "Next, we'll add the max-pooling layer with MaxPooling2D() and so on. The last layer is a Dense layer that has a softmax activation function with 10 units, which is needed for this multi-class classification problem."
      ]
    },
    {
      "cell_type": "code",
      "metadata": {
        "id": "F-0niNPNsu-u",
        "colab_type": "code",
        "colab": {
          "base_uri": "https://localhost:8080/",
          "height": 190
        },
        "outputId": "4cf2c941-ba36-4152-bfd1-e968d52d72e8"
      },
      "source": [
        "fashion_model = Sequential()\n",
        "fashion_model.add(Conv2D(32, kernel_size=(3, 3),activation='linear',input_shape=(28,28,1),padding='same'))\n",
        "fashion_model.add(LeakyReLU(alpha=0.1))\n",
        "fashion_model.add(MaxPooling2D((2, 2),padding='same'))\n",
        "fashion_model.add(Conv2D(64, (3, 3), activation='linear',padding='same'))\n",
        "fashion_model.add(LeakyReLU(alpha=0.1))\n",
        "fashion_model.add(MaxPooling2D(pool_size=(2, 2),padding='same'))\n",
        "fashion_model.add(Conv2D(128, (3, 3), activation='linear',padding='same'))\n",
        "fashion_model.add(LeakyReLU(alpha=0.1))                  \n",
        "fashion_model.add(MaxPooling2D(pool_size=(2, 2),padding='same'))\n",
        "fashion_model.add(Flatten())\n",
        "fashion_model.add(Dense(128, activation='linear'))\n",
        "fashion_model.add(LeakyReLU(alpha=0.1))                  \n",
        "fashion_model.add(Dense(num_classes, activation='softmax'))"
      ],
      "execution_count": 12,
      "outputs": [
        {
          "output_type": "stream",
          "text": [
            "WARNING: Logging before flag parsing goes to stderr.\n",
            "W0716 05:14:26.653809 140549233768320 deprecation_wrapper.py:119] From /usr/local/lib/python3.6/dist-packages/keras/backend/tensorflow_backend.py:74: The name tf.get_default_graph is deprecated. Please use tf.compat.v1.get_default_graph instead.\n",
            "\n",
            "W0716 05:14:26.693733 140549233768320 deprecation_wrapper.py:119] From /usr/local/lib/python3.6/dist-packages/keras/backend/tensorflow_backend.py:517: The name tf.placeholder is deprecated. Please use tf.compat.v1.placeholder instead.\n",
            "\n",
            "W0716 05:14:26.700169 140549233768320 deprecation_wrapper.py:119] From /usr/local/lib/python3.6/dist-packages/keras/backend/tensorflow_backend.py:4138: The name tf.random_uniform is deprecated. Please use tf.random.uniform instead.\n",
            "\n",
            "W0716 05:14:26.729456 140549233768320 deprecation_wrapper.py:119] From /usr/local/lib/python3.6/dist-packages/keras/backend/tensorflow_backend.py:3976: The name tf.nn.max_pool is deprecated. Please use tf.nn.max_pool2d instead.\n",
            "\n"
          ],
          "name": "stderr"
        }
      ]
    },
    {
      "cell_type": "markdown",
      "metadata": {
        "id": "lWWcrsGluUpM",
        "colab_type": "text"
      },
      "source": [
        "# Compile the Model\n",
        "After the model is created, we compile it using the Adam optimizer, one of the most popular optimization algorithms. "
      ]
    },
    {
      "cell_type": "code",
      "metadata": {
        "id": "SXyzzpS-uCpK",
        "colab_type": "code",
        "colab": {
          "base_uri": "https://localhost:8080/",
          "height": 105
        },
        "outputId": "d5fe0b64-c0d7-40ec-801b-67315dcc0763"
      },
      "source": [
        "fashion_model.compile(loss=keras.losses.categorical_crossentropy, optimizer=keras.optimizers.Adam(),metrics=['accuracy'])"
      ],
      "execution_count": 13,
      "outputs": [
        {
          "output_type": "stream",
          "text": [
            "W0716 05:14:31.951992 140549233768320 deprecation_wrapper.py:119] From /usr/local/lib/python3.6/dist-packages/keras/optimizers.py:790: The name tf.train.Optimizer is deprecated. Please use tf.compat.v1.train.Optimizer instead.\n",
            "\n",
            "W0716 05:14:31.961190 140549233768320 deprecation_wrapper.py:119] From /usr/local/lib/python3.6/dist-packages/keras/backend/tensorflow_backend.py:3295: The name tf.log is deprecated. Please use tf.math.log instead.\n",
            "\n"
          ],
          "name": "stderr"
        }
      ]
    },
    {
      "cell_type": "markdown",
      "metadata": {
        "id": "Q8kzsHrpundj",
        "colab_type": "text"
      },
      "source": [
        "Let's visualize the layers that you created in the above step by using the summary function. This will show some parameters (weights and biases) in each layer and also the total parameters in your model."
      ]
    },
    {
      "cell_type": "code",
      "metadata": {
        "id": "Teix9FzPub5l",
        "colab_type": "code",
        "colab": {
          "base_uri": "https://localhost:8080/",
          "height": 578
        },
        "outputId": "48af21f6-8826-4d16-dd5d-975a1ad7084c"
      },
      "source": [
        "fashion_model.summary()"
      ],
      "execution_count": 14,
      "outputs": [
        {
          "output_type": "stream",
          "text": [
            "_________________________________________________________________\n",
            "Layer (type)                 Output Shape              Param #   \n",
            "=================================================================\n",
            "conv2d_1 (Conv2D)            (None, 28, 28, 32)        320       \n",
            "_________________________________________________________________\n",
            "leaky_re_lu_1 (LeakyReLU)    (None, 28, 28, 32)        0         \n",
            "_________________________________________________________________\n",
            "max_pooling2d_1 (MaxPooling2 (None, 14, 14, 32)        0         \n",
            "_________________________________________________________________\n",
            "conv2d_2 (Conv2D)            (None, 14, 14, 64)        18496     \n",
            "_________________________________________________________________\n",
            "leaky_re_lu_2 (LeakyReLU)    (None, 14, 14, 64)        0         \n",
            "_________________________________________________________________\n",
            "max_pooling2d_2 (MaxPooling2 (None, 7, 7, 64)          0         \n",
            "_________________________________________________________________\n",
            "conv2d_3 (Conv2D)            (None, 7, 7, 128)         73856     \n",
            "_________________________________________________________________\n",
            "leaky_re_lu_3 (LeakyReLU)    (None, 7, 7, 128)         0         \n",
            "_________________________________________________________________\n",
            "max_pooling2d_3 (MaxPooling2 (None, 4, 4, 128)         0         \n",
            "_________________________________________________________________\n",
            "flatten_1 (Flatten)          (None, 2048)              0         \n",
            "_________________________________________________________________\n",
            "dense_1 (Dense)              (None, 128)               262272    \n",
            "_________________________________________________________________\n",
            "leaky_re_lu_4 (LeakyReLU)    (None, 128)               0         \n",
            "_________________________________________________________________\n",
            "dense_2 (Dense)              (None, 10)                1290      \n",
            "=================================================================\n",
            "Total params: 356,234\n",
            "Trainable params: 356,234\n",
            "Non-trainable params: 0\n",
            "_________________________________________________________________\n"
          ],
          "name": "stdout"
        }
      ]
    },
    {
      "cell_type": "markdown",
      "metadata": {
        "id": "Dsd5T0Y-ux8V",
        "colab_type": "text"
      },
      "source": [
        "# Train the Model\n",
        "It's finally time to train the model with Keras' fit() function! The model trains for 20 epochs. The fit() function will return a history object; By storying the result of this function in fashion_train, we can use it later to plot the accuracy and loss function plots between training and validation which will help us to analyze our model's performance visually."
      ]
    },
    {
      "cell_type": "code",
      "metadata": {
        "id": "pDAfQvouugkE",
        "colab_type": "code",
        "colab": {
          "base_uri": "https://localhost:8080/",
          "height": 819
        },
        "outputId": "1558e947-50fa-4ce4-d728-a5d8f42ef250"
      },
      "source": [
        "fashion_train = fashion_model.fit(train_X, train_label, batch_size=batch_size,epochs=epochs,verbose=1,validation_data=(valid_X, valid_label))"
      ],
      "execution_count": 15,
      "outputs": [
        {
          "output_type": "stream",
          "text": [
            "W0716 05:14:45.888357 140549233768320 deprecation.py:323] From /usr/local/lib/python3.6/dist-packages/tensorflow/python/ops/math_grad.py:1250: add_dispatch_support.<locals>.wrapper (from tensorflow.python.ops.array_ops) is deprecated and will be removed in a future version.\n",
            "Instructions for updating:\n",
            "Use tf.where in 2.0, which has the same broadcast rule as np.where\n",
            "W0716 05:14:45.959022 140549233768320 deprecation_wrapper.py:119] From /usr/local/lib/python3.6/dist-packages/keras/backend/tensorflow_backend.py:986: The name tf.assign_add is deprecated. Please use tf.compat.v1.assign_add instead.\n",
            "\n"
          ],
          "name": "stderr"
        },
        {
          "output_type": "stream",
          "text": [
            "Train on 48000 samples, validate on 12000 samples\n",
            "Epoch 1/20\n",
            "48000/48000 [==============================] - 12s 247us/step - loss: 0.4721 - acc: 0.8298 - val_loss: 0.3221 - val_acc: 0.8843\n",
            "Epoch 2/20\n",
            "48000/48000 [==============================] - 4s 92us/step - loss: 0.2894 - acc: 0.8946 - val_loss: 0.2674 - val_acc: 0.9011\n",
            "Epoch 3/20\n",
            "48000/48000 [==============================] - 4s 92us/step - loss: 0.2410 - acc: 0.9117 - val_loss: 0.2399 - val_acc: 0.9129\n",
            "Epoch 4/20\n",
            "48000/48000 [==============================] - 4s 93us/step - loss: 0.2070 - acc: 0.9238 - val_loss: 0.2256 - val_acc: 0.9199\n",
            "Epoch 5/20\n",
            "48000/48000 [==============================] - 4s 92us/step - loss: 0.1827 - acc: 0.9336 - val_loss: 0.2286 - val_acc: 0.9185\n",
            "Epoch 6/20\n",
            "48000/48000 [==============================] - 4s 93us/step - loss: 0.1586 - acc: 0.9400 - val_loss: 0.2166 - val_acc: 0.9208\n",
            "Epoch 7/20\n",
            "48000/48000 [==============================] - 4s 92us/step - loss: 0.1406 - acc: 0.9474 - val_loss: 0.2287 - val_acc: 0.9211\n",
            "Epoch 8/20\n",
            "48000/48000 [==============================] - 4s 94us/step - loss: 0.1209 - acc: 0.9549 - val_loss: 0.2577 - val_acc: 0.9132\n",
            "Epoch 9/20\n",
            "48000/48000 [==============================] - 4s 93us/step - loss: 0.1034 - acc: 0.9610 - val_loss: 0.2501 - val_acc: 0.9192\n",
            "Epoch 10/20\n",
            "48000/48000 [==============================] - 4s 92us/step - loss: 0.0866 - acc: 0.9671 - val_loss: 0.2570 - val_acc: 0.9217\n",
            "Epoch 11/20\n",
            "48000/48000 [==============================] - 4s 93us/step - loss: 0.0762 - acc: 0.9709 - val_loss: 0.3055 - val_acc: 0.9195\n",
            "Epoch 12/20\n",
            "48000/48000 [==============================] - 4s 93us/step - loss: 0.0647 - acc: 0.9754 - val_loss: 0.3404 - val_acc: 0.9134\n",
            "Epoch 13/20\n",
            "48000/48000 [==============================] - 4s 93us/step - loss: 0.0565 - acc: 0.9786 - val_loss: 0.3303 - val_acc: 0.9225\n",
            "Epoch 14/20\n",
            "48000/48000 [==============================] - 4s 93us/step - loss: 0.0496 - acc: 0.9821 - val_loss: 0.3337 - val_acc: 0.9230\n",
            "Epoch 15/20\n",
            "48000/48000 [==============================] - 4s 93us/step - loss: 0.0408 - acc: 0.9848 - val_loss: 0.3443 - val_acc: 0.9202\n",
            "Epoch 16/20\n",
            "48000/48000 [==============================] - 4s 92us/step - loss: 0.0428 - acc: 0.9837 - val_loss: 0.3836 - val_acc: 0.9219\n",
            "Epoch 17/20\n",
            "48000/48000 [==============================] - 4s 92us/step - loss: 0.0390 - acc: 0.9860 - val_loss: 0.3626 - val_acc: 0.9197\n",
            "Epoch 18/20\n",
            "48000/48000 [==============================] - 4s 92us/step - loss: 0.0325 - acc: 0.9879 - val_loss: 0.4100 - val_acc: 0.9191\n",
            "Epoch 19/20\n",
            "48000/48000 [==============================] - 5s 94us/step - loss: 0.0336 - acc: 0.9879 - val_loss: 0.4062 - val_acc: 0.9235\n",
            "Epoch 20/20\n",
            "48000/48000 [==============================] - 4s 93us/step - loss: 0.0301 - acc: 0.9890 - val_loss: 0.4393 - val_acc: 0.9226\n"
          ],
          "name": "stdout"
        }
      ]
    },
    {
      "cell_type": "markdown",
      "metadata": {
        "id": "mP2QLDjTvwoq",
        "colab_type": "text"
      },
      "source": [
        "# Model Evaluation on the Test Set"
      ]
    },
    {
      "cell_type": "code",
      "metadata": {
        "id": "iZcqhflhvCQi",
        "colab_type": "code",
        "colab": {
          "base_uri": "https://localhost:8080/",
          "height": 51
        },
        "outputId": "377c4957-bf68-43ff-8d41-1b72ccab5982"
      },
      "source": [
        "test_eval = fashion_model.evaluate(test_X, test_Y_one_hot, verbose=0)\n",
        "print('Test loss:', test_eval[0])\n",
        "print('Test accuracy:', test_eval[1])\n"
      ],
      "execution_count": 16,
      "outputs": [
        {
          "output_type": "stream",
          "text": [
            "Test loss: 0.4487285384787247\n",
            "Test accuracy: 0.9193\n"
          ],
          "name": "stdout"
        }
      ]
    },
    {
      "cell_type": "markdown",
      "metadata": {
        "id": "5n6Kgfp1wJ7J",
        "colab_type": "text"
      },
      "source": [
        "Let's put your model evaluation into perspective and plot the accuracy and loss plots between training and validation data:"
      ]
    },
    {
      "cell_type": "code",
      "metadata": {
        "id": "sx_L6WE_v4BC",
        "colab_type": "code",
        "colab": {
          "base_uri": "https://localhost:8080/",
          "height": 545
        },
        "outputId": "5b32ea85-eda2-44a0-a3ff-7b2649d04035"
      },
      "source": [
        "accuracy = fashion_train.history['acc']\n",
        "val_accuracy = fashion_train.history['val_acc']\n",
        "loss = fashion_train.history['loss']\n",
        "val_loss = fashion_train.history['val_loss']\n",
        "epochs = range(len(accuracy))\n",
        "plt.plot(epochs, accuracy, 'bo', label='Training accuracy')\n",
        "plt.plot(epochs, val_accuracy, 'b', label='Validation accuracy')\n",
        "plt.title('Training and validation accuracy')\n",
        "plt.legend()\n",
        "plt.figure()\n",
        "plt.plot(epochs, loss, 'bo', label='Training loss')\n",
        "plt.plot(epochs, val_loss, 'b', label='Validation loss')\n",
        "plt.title('Training and validation loss')\n",
        "plt.legend()\n",
        "plt.show()"
      ],
      "execution_count": 17,
      "outputs": [
        {
          "output_type": "display_data",
          "data": {
            "image/png": "[encoded data removed]",
            "text/plain": [
              "<Figure size 432x288 with 1 Axes>"
            ]
          },
          "metadata": {
            "tags": []
          }
        },
        {
          "output_type": "display_data",
          "data": {
            "image/png": "[encoded data removed]",
            "text/plain": [
              "<Figure size 432x288 with 1 Axes>"
            ]
          },
          "metadata": {
            "tags": []
          }
        }
      ]
    },
    {
      "cell_type": "markdown",
      "metadata": {
        "id": "VMXRp3j9YOXt",
        "colab_type": "text"
      },
      "source": [
        "From the above two plots, we can see that the validation accuracy almost became stagnant after 4-5 epochs and rarely increased at certain epochs. In the beginning, the validation accuracy was linearly increasing with loss, but then it did not increase much.\n",
        "\n",
        "The validation loss shows that this is the sign of overfitting, similar to validation accuracy it linearly decreased but after 4-5 epochs, it started to increase. This means that the model tried to memorize the data and succeeded.\n",
        "\n",
        "With this in mind, it's time to introduce some dropout into our model and see if it helps in reducing overfitting.\n"
      ]
    },
    {
      "cell_type": "markdown",
      "metadata": {
        "id": "hg9RStn5xXiW",
        "colab_type": "text"
      },
      "source": [
        "# Adding Dropout into the Network\n",
        "we can add a dropout layer to overcome the problem of overfitting to some extent. Dropout randomly turns off a fraction of neurons during the training process, reducing the dependency on the training set by some amount. How many fractions of neurons we want to turn off is decided by a hyperparameter, which can be tuned accordingly. This way, turning off some neurons will not allow the network to memorize the training data since not all the neurons will be active at the same time and the inactive neurons will not be able to learn anything.\n",
        "\n",
        "So let's create, compile and train the network again but this time with dropout. And we'll run it for 20 epochs with a batch size of 64."
      ]
    },
    {
      "cell_type": "code",
      "metadata": {
        "id": "NpGqiR5zwMzk",
        "colab_type": "code",
        "colab": {}
      },
      "source": [
        "batch_size = 64\n",
        "epochs = 20\n",
        "num_classes = 10"
      ],
      "execution_count": 0,
      "outputs": []
    },
    {
      "cell_type": "code",
      "metadata": {
        "id": "Jqj-0ob-xfEk",
        "colab_type": "code",
        "colab": {
          "base_uri": "https://localhost:8080/",
          "height": 88
        },
        "outputId": "04dd7bca-99e6-4e9f-abd1-77fc79f3c77c"
      },
      "source": [
        "fashion_model = Sequential()\n",
        "fashion_model.add(Conv2D(32, kernel_size=(3, 3),activation='linear',padding='same',input_shape=(28,28,1)))\n",
        "fashion_model.add(LeakyReLU(alpha=0.1))\n",
        "fashion_model.add(MaxPooling2D((2, 2),padding='same'))\n",
        "fashion_model.add(Dropout(0.25))\n",
        "fashion_model.add(Conv2D(64, (3, 3), activation='linear',padding='same'))\n",
        "fashion_model.add(LeakyReLU(alpha=0.1))\n",
        "fashion_model.add(MaxPooling2D(pool_size=(2, 2),padding='same'))\n",
        "fashion_model.add(Dropout(0.25))\n",
        "fashion_model.add(Conv2D(128, (3, 3), activation='linear',padding='same'))\n",
        "fashion_model.add(LeakyReLU(alpha=0.1))                  \n",
        "fashion_model.add(MaxPooling2D(pool_size=(2, 2),padding='same'))\n",
        "fashion_model.add(Dropout(0.4))\n",
        "fashion_model.add(Flatten())\n",
        "fashion_model.add(Dense(128, activation='linear'))\n",
        "fashion_model.add(LeakyReLU(alpha=0.1))           \n",
        "fashion_model.add(Dropout(0.3))\n",
        "fashion_model.add(Dense(num_classes, activation='softmax'))"
      ],
      "execution_count": 19,
      "outputs": [
        {
          "output_type": "stream",
          "text": [
            "W0716 05:19:54.714546 140549233768320 deprecation.py:506] From /usr/local/lib/python3.6/dist-packages/keras/backend/tensorflow_backend.py:3445: calling dropout (from tensorflow.python.ops.nn_ops) with keep_prob is deprecated and will be removed in a future version.\n",
            "Instructions for updating:\n",
            "Please use `rate` instead of `keep_prob`. Rate should be set to `rate = 1 - keep_prob`.\n"
          ],
          "name": "stderr"
        }
      ]
    },
    {
      "cell_type": "code",
      "metadata": {
        "id": "Xg0-ucFqxh_v",
        "colab_type": "code",
        "colab": {
          "base_uri": "https://localhost:8080/",
          "height": 714
        },
        "outputId": "e3495f5c-b770-411f-b076-decb2d76045b"
      },
      "source": [
        "fashion_model.summary()"
      ],
      "execution_count": 20,
      "outputs": [
        {
          "output_type": "stream",
          "text": [
            "_________________________________________________________________\n",
            "Layer (type)                 Output Shape              Param #   \n",
            "=================================================================\n",
            "conv2d_4 (Conv2D)            (None, 28, 28, 32)        320       \n",
            "_________________________________________________________________\n",
            "leaky_re_lu_5 (LeakyReLU)    (None, 28, 28, 32)        0         \n",
            "_________________________________________________________________\n",
            "max_pooling2d_4 (MaxPooling2 (None, 14, 14, 32)        0         \n",
            "_________________________________________________________________\n",
            "dropout_1 (Dropout)          (None, 14, 14, 32)        0         \n",
            "_________________________________________________________________\n",
            "conv2d_5 (Conv2D)            (None, 14, 14, 64)        18496     \n",
            "_________________________________________________________________\n",
            "leaky_re_lu_6 (LeakyReLU)    (None, 14, 14, 64)        0         \n",
            "_________________________________________________________________\n",
            "max_pooling2d_5 (MaxPooling2 (None, 7, 7, 64)          0         \n",
            "_________________________________________________________________\n",
            "dropout_2 (Dropout)          (None, 7, 7, 64)          0         \n",
            "_________________________________________________________________\n",
            "conv2d_6 (Conv2D)            (None, 7, 7, 128)         73856     \n",
            "_________________________________________________________________\n",
            "leaky_re_lu_7 (LeakyReLU)    (None, 7, 7, 128)         0         \n",
            "_________________________________________________________________\n",
            "max_pooling2d_6 (MaxPooling2 (None, 4, 4, 128)         0         \n",
            "_________________________________________________________________\n",
            "dropout_3 (Dropout)          (None, 4, 4, 128)         0         \n",
            "_________________________________________________________________\n",
            "flatten_2 (Flatten)          (None, 2048)              0         \n",
            "_________________________________________________________________\n",
            "dense_3 (Dense)              (None, 128)               262272    \n",
            "_________________________________________________________________\n",
            "leaky_re_lu_8 (LeakyReLU)    (None, 128)               0         \n",
            "_________________________________________________________________\n",
            "dropout_4 (Dropout)          (None, 128)               0         \n",
            "_________________________________________________________________\n",
            "dense_4 (Dense)              (None, 10)                1290      \n",
            "=================================================================\n",
            "Total params: 356,234\n",
            "Trainable params: 356,234\n",
            "Non-trainable params: 0\n",
            "_________________________________________________________________\n"
          ],
          "name": "stdout"
        }
      ]
    },
    {
      "cell_type": "code",
      "metadata": {
        "id": "a6eDaaxcxmCG",
        "colab_type": "code",
        "colab": {}
      },
      "source": [
        "fashion_model.compile(loss=keras.losses.categorical_crossentropy, optimizer=keras.optimizers.Adam(),metrics=['accuracy'])"
      ],
      "execution_count": 0,
      "outputs": []
    },
    {
      "cell_type": "code",
      "metadata": {
        "id": "snClCHC3xsHz",
        "colab_type": "code",
        "colab": {
          "base_uri": "https://localhost:8080/",
          "height": 714
        },
        "outputId": "e766489b-77be-45fc-cef7-ae9bcbdb9777"
      },
      "source": [
        "fashion_train_dropout = fashion_model.fit(train_X, train_label, batch_size=batch_size,epochs=epochs,verbose=1,validation_data=(valid_X, valid_label))"
      ],
      "execution_count": 22,
      "outputs": [
        {
          "output_type": "stream",
          "text": [
            "Train on 48000 samples, validate on 12000 samples\n",
            "Epoch 1/20\n",
            "48000/48000 [==============================] - 5s 111us/step - loss: 0.6097 - acc: 0.7739 - val_loss: 0.3761 - val_acc: 0.8612\n",
            "Epoch 2/20\n",
            "48000/48000 [==============================] - 5s 99us/step - loss: 0.3864 - acc: 0.8559 - val_loss: 0.3076 - val_acc: 0.8876\n",
            "Epoch 3/20\n",
            "48000/48000 [==============================] - 5s 100us/step - loss: 0.3347 - acc: 0.8761 - val_loss: 0.2809 - val_acc: 0.8956\n",
            "Epoch 4/20\n",
            "48000/48000 [==============================] - 5s 100us/step - loss: 0.3062 - acc: 0.8872 - val_loss: 0.2682 - val_acc: 0.8988\n",
            "Epoch 5/20\n",
            "48000/48000 [==============================] - 5s 99us/step - loss: 0.2904 - acc: 0.8938 - val_loss: 0.2454 - val_acc: 0.9106\n",
            "Epoch 6/20\n",
            "48000/48000 [==============================] - 5s 102us/step - loss: 0.2696 - acc: 0.8996 - val_loss: 0.2399 - val_acc: 0.9120\n",
            "Epoch 7/20\n",
            "48000/48000 [==============================] - 5s 100us/step - loss: 0.2611 - acc: 0.9019 - val_loss: 0.2419 - val_acc: 0.9095\n",
            "Epoch 8/20\n",
            "48000/48000 [==============================] - 5s 100us/step - loss: 0.2490 - acc: 0.9075 - val_loss: 0.2296 - val_acc: 0.9141\n",
            "Epoch 9/20\n",
            "48000/48000 [==============================] - 5s 99us/step - loss: 0.2430 - acc: 0.9097 - val_loss: 0.2303 - val_acc: 0.9154\n",
            "Epoch 10/20\n",
            "48000/48000 [==============================] - 5s 99us/step - loss: 0.2369 - acc: 0.9115 - val_loss: 0.2296 - val_acc: 0.9147\n",
            "Epoch 11/20\n",
            "48000/48000 [==============================] - 5s 100us/step - loss: 0.2310 - acc: 0.9137 - val_loss: 0.2198 - val_acc: 0.9218\n",
            "Epoch 12/20\n",
            "48000/48000 [==============================] - 5s 100us/step - loss: 0.2268 - acc: 0.9149 - val_loss: 0.2297 - val_acc: 0.9151\n",
            "Epoch 13/20\n",
            "48000/48000 [==============================] - 5s 100us/step - loss: 0.2202 - acc: 0.9172 - val_loss: 0.2103 - val_acc: 0.9218\n",
            "Epoch 14/20\n",
            "48000/48000 [==============================] - 5s 100us/step - loss: 0.2139 - acc: 0.9186 - val_loss: 0.2029 - val_acc: 0.9250\n",
            "Epoch 15/20\n",
            "48000/48000 [==============================] - 5s 100us/step - loss: 0.2109 - acc: 0.9200 - val_loss: 0.2156 - val_acc: 0.9205\n",
            "Epoch 16/20\n",
            "48000/48000 [==============================] - 5s 99us/step - loss: 0.2136 - acc: 0.9200 - val_loss: 0.2112 - val_acc: 0.9218\n",
            "Epoch 17/20\n",
            "48000/48000 [==============================] - 5s 100us/step - loss: 0.2040 - acc: 0.9235 - val_loss: 0.2119 - val_acc: 0.9260\n",
            "Epoch 18/20\n",
            "48000/48000 [==============================] - 5s 99us/step - loss: 0.2034 - acc: 0.9226 - val_loss: 0.2184 - val_acc: 0.9225\n",
            "Epoch 19/20\n",
            "48000/48000 [==============================] - 5s 100us/step - loss: 0.1994 - acc: 0.9242 - val_loss: 0.2229 - val_acc: 0.9198\n",
            "Epoch 20/20\n",
            "48000/48000 [==============================] - 5s 98us/step - loss: 0.1971 - acc: 0.9246 - val_loss: 0.2241 - val_acc: 0.9203\n"
          ],
          "name": "stdout"
        }
      ]
    },
    {
      "cell_type": "markdown",
      "metadata": {
        "id": "jOUjHYxWyMFZ",
        "colab_type": "text"
      },
      "source": [
        "# Save the model"
      ]
    },
    {
      "cell_type": "code",
      "metadata": {
        "id": "u796ozksxul_",
        "colab_type": "code",
        "colab": {}
      },
      "source": [
        "fashion_model.save(\"fashion_model_dropout.h5py\")"
      ],
      "execution_count": 0,
      "outputs": []
    },
    {
      "cell_type": "markdown",
      "metadata": {
        "id": "AnVeRyZXySrL",
        "colab_type": "text"
      },
      "source": [
        "Finally, let's also evaluate our new model and see how it performs!"
      ]
    },
    {
      "cell_type": "code",
      "metadata": {
        "id": "xonMr8Jdx_j9",
        "colab_type": "code",
        "colab": {
          "base_uri": "https://localhost:8080/",
          "height": 34
        },
        "outputId": "4a4f51e3-b333-4fc9-dbed-649a3035ee40"
      },
      "source": [
        "test_eval = fashion_model.evaluate(test_X, test_Y_one_hot, verbose=1)"
      ],
      "execution_count": 24,
      "outputs": [
        {
          "output_type": "stream",
          "text": [
            "10000/10000 [==============================] - 1s 70us/step\n"
          ],
          "name": "stdout"
        }
      ]
    },
    {
      "cell_type": "code",
      "metadata": {
        "id": "LVuU-glmyW7y",
        "colab_type": "code",
        "colab": {
          "base_uri": "https://localhost:8080/",
          "height": 51
        },
        "outputId": "0344a6a9-d865-41df-b77b-cb7f5a822b86"
      },
      "source": [
        "print('Test loss:', test_eval[0])\n",
        "print('Test accuracy:', test_eval[1])"
      ],
      "execution_count": 25,
      "outputs": [
        {
          "output_type": "stream",
          "text": [
            "Test loss: 0.2365914911031723\n",
            "Test accuracy: 0.9157\n"
          ],
          "name": "stdout"
        }
      ]
    },
    {
      "cell_type": "code",
      "metadata": {
        "id": "UXu-m_vzycZi",
        "colab_type": "code",
        "colab": {
          "base_uri": "https://localhost:8080/",
          "height": 545
        },
        "outputId": "2a036db0-ec69-4541-c810-728bdb762281"
      },
      "source": [
        "accuracy = fashion_train_dropout.history['acc']\n",
        "val_accuracy = fashion_train_dropout.history['val_acc']\n",
        "loss = fashion_train_dropout.history['loss']\n",
        "val_loss = fashion_train_dropout.history['val_loss']\n",
        "epochs = range(len(accuracy))\n",
        "plt.plot(epochs, accuracy, 'bo', label='Training accuracy')\n",
        "plt.plot(epochs, val_accuracy, 'b', label='Validation accuracy')\n",
        "plt.title('Training and validation accuracy')\n",
        "plt.legend()\n",
        "plt.figure()\n",
        "plt.plot(epochs, loss, 'bo', label='Training loss')\n",
        "plt.plot(epochs, val_loss, 'b', label='Validation loss')\n",
        "plt.title('Training and validation loss')\n",
        "plt.legend()\n",
        "plt.show()"
      ],
      "execution_count": 26,
      "outputs": [
        {
          "output_type": "display_data",
          "data": {
            "image/png": "[encoded data removed]",
            "text/plain": [
              "<Figure size 432x288 with 1 Axes>"
            ]
          },
          "metadata": {
            "tags": []
          }
        },
        {
          "output_type": "display_data",
          "data": {
            "image/png": "[encoded data removed]",
            "text/plain": [
              "<Figure size 432x288 with 1 Axes>"
            ]
          },
          "metadata": {
            "tags": []
          }
        }
      ]
    },
    {
      "cell_type": "markdown",
      "metadata": {
        "id": "URYu6LxpYtdZ",
        "colab_type": "text"
      },
      "source": [
        "Finally, we can see that the validation loss and validation accuracy both are in sync with the training loss and training accuracy. Even though the validation loss and accuracy line are not linear, but it shows that our model is not overfitting: the validation loss is decreasing and not increasing, and there is not much gap between training and validation accuracy.\n",
        "Therefore, we can say that our model's generalization capability became much better since the loss on both test set and validation set was only slightly more compared to the training loss.\n"
      ]
    },
    {
      "cell_type": "markdown",
      "metadata": {
        "id": "K46-iR6Cyyou",
        "colab_type": "text"
      },
      "source": [
        "# Predict Labels"
      ]
    },
    {
      "cell_type": "code",
      "metadata": {
        "id": "KBQnSEWTyjWt",
        "colab_type": "code",
        "colab": {}
      },
      "source": [
        "predicted_classes = fashion_model.predict(test_X)"
      ],
      "execution_count": 0,
      "outputs": []
    },
    {
      "cell_type": "code",
      "metadata": {
        "id": "EajW0khTyxn6",
        "colab_type": "code",
        "colab": {}
      },
      "source": [
        "predicted_classes = np.argmax(np.round(predicted_classes),axis=1)"
      ],
      "execution_count": 0,
      "outputs": []
    },
    {
      "cell_type": "code",
      "metadata": {
        "id": "A4hpCCoEy5Gq",
        "colab_type": "code",
        "colab": {
          "base_uri": "https://localhost:8080/",
          "height": 34
        },
        "outputId": "16b41bed-bdae-48b2-ea6d-a3106ac5290e"
      },
      "source": [
        "predicted_classes.shape, test_Y.shape"
      ],
      "execution_count": 29,
      "outputs": [
        {
          "output_type": "execute_result",
          "data": {
            "text/plain": [
              "((10000,), (10000,))"
            ]
          },
          "metadata": {
            "tags": []
          },
          "execution_count": 29
        }
      ]
    },
    {
      "cell_type": "code",
      "metadata": {
        "id": "vhvX92FUy72i",
        "colab_type": "code",
        "colab": {
          "base_uri": "https://localhost:8080/",
          "height": 314
        },
        "outputId": "19ec5c85-2d08-4030-934e-99690520a92f"
      },
      "source": [
        "correct = np.where(predicted_classes==test_Y)[0]\n",
        "print (\"Found %d correct labels\" % len(correct))\n",
        "for i, correct in enumerate(correct[:9]):\n",
        "    plt.subplot(3,3,i+1)\n",
        "    plt.imshow(test_X[correct].reshape(28,28), cmap='gray', interpolation='none')\n",
        "    plt.title(\"Predicted {}, Class {}\".format(predicted_classes[correct], test_Y[correct]))\n",
        "    plt.tight_layout()"
      ],
      "execution_count": 30,
      "outputs": [
        {
          "output_type": "stream",
          "text": [
            "Found 9145 correct labels\n"
          ],
          "name": "stdout"
        },
        {
          "output_type": "display_data",
          "data": {
            "image/png": "[encoded data removed]",
            "text/plain": [
              "<Figure size 432x288 with 9 Axes>"
            ]
          },
          "metadata": {
            "tags": []
          }
        }
      ]
    },
    {
      "cell_type": "code",
      "metadata": {
        "id": "idEEPRkRy-a5",
        "colab_type": "code",
        "colab": {
          "base_uri": "https://localhost:8080/",
          "height": 314
        },
        "outputId": "e4404cf2-947e-4ceb-c54b-82e82d57ff99"
      },
      "source": [
        "incorrect = np.where(predicted_classes!=test_Y)[0]\n",
        "print (\"Found %d incorrect labels\" % len(incorrect))\n",
        "for i, incorrect in enumerate(incorrect[:9]):\n",
        "    plt.subplot(3,3,i+1)\n",
        "    plt.imshow(test_X[incorrect].reshape(28,28), cmap='gray', interpolation='none')\n",
        "    plt.title(\"Predicted {}, Class {}\".format(predicted_classes[incorrect], test_Y[incorrect]))\n",
        "    plt.tight_layout()"
      ],
      "execution_count": 33,
      "outputs": [
        {
          "output_type": "stream",
          "text": [
            "Found 807 incorrect labels\n"
          ],
          "name": "stdout"
        },
        {
          "output_type": "display_data",
          "data": {
            "image/png": "[encoded data removed]",
            "text/plain": [
              "<Figure size 432x288 with 9 Axes>"
            ]
          },
          "metadata": {
            "tags": []
          }
        }
      ]
    },
    {
      "cell_type": "code",
      "metadata": {
        "id": "_KWA2HybzK8S",
        "colab_type": "code",
        "colab": {}
      },
      "source": [
        ""
      ],
      "execution_count": 0,
      "outputs": []
    }
  ]
}