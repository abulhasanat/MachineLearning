{
  "nbformat": 4,
  "nbformat_minor": 0,
  "metadata": {
    "colab": {
      "name": "Classifying movie reviews.ipynb",
      "provenance": [],
      "authorship_tag": "ABX9TyPle8rpZ+TiCVAruq0g4KsW",
      "include_colab_link": true
    },
    "kernelspec": {
      "name": "python3",
      "display_name": "Python 3"
    },
    "accelerator": "GPU"
  },
  "cells": [
    {
      "cell_type": "markdown",
      "metadata": {
        "id": "view-in-github",
        "colab_type": "text"
      },
      "source": [
        "<a href=\"https://colab.research.google.com/github/abulhasanat/MachineLearning/blob/master/Classifying_movie_reviews.ipynb\" target=\"_parent\"><img src=\"https://colab.research.google.com/assets/colab-badge.svg\" alt=\"Open In Colab\"/></a>"
      ]
    },
    {
      "cell_type": "markdown",
      "metadata": {
        "id": "IeDbJqOA4kII",
        "colab_type": "text"
      },
      "source": [
        "Loading the IMDB dataset"
      ]
    },
    {
      "cell_type": "code",
      "metadata": {
        "id": "rssICn0a23QL",
        "colab_type": "code",
        "colab": {
          "base_uri": "https://localhost:8080/",
          "height": 68
        },
        "outputId": "f00d8caf-be7a-40e7-f9dc-1970771af49a"
      },
      "source": [
        "from keras.datasets import imdb\n",
        "(train_data, train_labels), (test_data, test_labels) = imdb.load_data(\n",
        "num_words=10000)"
      ],
      "execution_count": 1,
      "outputs": [
        {
          "output_type": "stream",
          "text": [
            "Using TensorFlow backend.\n"
          ],
          "name": "stderr"
        },
        {
          "output_type": "stream",
          "text": [
            "Downloading data from https://s3.amazonaws.com/text-datasets/imdb.npz\n",
            "17465344/17464789 [==============================] - 1s 0us/step\n"
          ],
          "name": "stdout"
        }
      ]
    },
    {
      "cell_type": "markdown",
      "metadata": {
        "id": "59INrurb4myw",
        "colab_type": "text"
      },
      "source": [
        "The argument num_words=10000 means you’ll only keep the top 10,000 most frequently\n",
        "occurring words in the training data. Rare words will be discarded. This allows\n",
        "you to work with vector data of manageable size."
      ]
    },
    {
      "cell_type": "code",
      "metadata": {
        "id": "cig1l1a53pta",
        "colab_type": "code",
        "colab": {
          "base_uri": "https://localhost:8080/",
          "height": 34
        },
        "outputId": "9e5f6296-c7e4-4d5c-df78-2f6068f16f9b"
      },
      "source": [
        "train_data[1][0:10]"
      ],
      "execution_count": 30,
      "outputs": [
        {
          "output_type": "execute_result",
          "data": {
            "text/plain": [
              "[1, 194, 1153, 194, 8255, 78, 228, 5, 6, 1463]"
            ]
          },
          "metadata": {
            "tags": []
          },
          "execution_count": 30
        }
      ]
    },
    {
      "cell_type": "code",
      "metadata": {
        "id": "t_J5J1Zg4LHi",
        "colab_type": "code",
        "colab": {
          "base_uri": "https://localhost:8080/",
          "height": 34
        },
        "outputId": "ce9ef768-4ae3-4a18-96fe-6fbe652bec0d"
      },
      "source": [
        "train_labels[2]"
      ],
      "execution_count": 7,
      "outputs": [
        {
          "output_type": "execute_result",
          "data": {
            "text/plain": [
              "0"
            ]
          },
          "metadata": {
            "tags": []
          },
          "execution_count": 7
        }
      ]
    },
    {
      "cell_type": "markdown",
      "metadata": {
        "id": "YhKQdhgk4w-9",
        "colab_type": "text"
      },
      "source": [
        "Because we’re restricting ourself to the top 10,000 most frequent words, no word\n",
        "index will exceed 10,000:"
      ]
    },
    {
      "cell_type": "code",
      "metadata": {
        "id": "uLPcKm_j4NaC",
        "colab_type": "code",
        "colab": {
          "base_uri": "https://localhost:8080/",
          "height": 34
        },
        "outputId": "bd431b92-bc46-4a47-d02d-f877bde2e292"
      },
      "source": [
        "max([max(sequence) for sequence in train_data])"
      ],
      "execution_count": 8,
      "outputs": [
        {
          "output_type": "execute_result",
          "data": {
            "text/plain": [
              "9999"
            ]
          },
          "metadata": {
            "tags": []
          },
          "execution_count": 8
        }
      ]
    },
    {
      "cell_type": "markdown",
      "metadata": {
        "id": "bq_eui785Erl",
        "colab_type": "text"
      },
      "source": [
        "For kicks, here’s how we can quickly decode one of these reviews back to English\n",
        "words:"
      ]
    },
    {
      "cell_type": "code",
      "metadata": {
        "id": "l4jdDpDY43vg",
        "colab_type": "code",
        "colab": {
          "base_uri": "https://localhost:8080/",
          "height": 51
        },
        "outputId": "8d48ddf1-4459-4689-a353-94447b1f9d9b"
      },
      "source": [
        "word_index = imdb.get_word_index()\n",
        "reverse_word_index = dict(\n",
        "[(value, key) for (key, value) in word_index.items()])\n",
        "decoded_review = ' '.join(\n",
        "[reverse_word_index.get(i - 3, '?') for i in train_data[0]])"
      ],
      "execution_count": 9,
      "outputs": [
        {
          "output_type": "stream",
          "text": [
            "Downloading data from https://s3.amazonaws.com/text-datasets/imdb_word_index.json\n",
            "1646592/1641221 [==============================] - 1s 0us/step\n"
          ],
          "name": "stdout"
        }
      ]
    },
    {
      "cell_type": "code",
      "metadata": {
        "id": "9jXcnee45BTw",
        "colab_type": "code",
        "colab": {
          "base_uri": "https://localhost:8080/",
          "height": 54
        },
        "outputId": "8e824a59-1bdb-4757-8f6d-ded6eeaf3cf0"
      },
      "source": [
        "decoded_review"
      ],
      "execution_count": 11,
      "outputs": [
        {
          "output_type": "execute_result",
          "data": {
            "text/plain": [
              "\"? this film was just brilliant casting location scenery story direction everyone's really suited the part they played and you could just imagine being there robert ? is an amazing actor and now the same being director ? father came from the same scottish island as myself so i loved the fact there was a real connection with this film the witty remarks throughout the film were great it was just brilliant so much that i bought the film as soon as it was released for ? and would recommend it to everyone to watch and the fly fishing was amazing really cried at the end it was so sad and you know what they say if you cry at a film it must have been good and this definitely was also ? to the two little boy's that played the ? of norman and paul they were just brilliant children are often left out of the ? list i think because the stars that play them all grown up are such a big profile for the whole film but these children are amazing and should be praised for what they have done don't you think the whole story was so lovely because it was true and was someone's life after all that was shared with us all\""
            ]
          },
          "metadata": {
            "tags": []
          },
          "execution_count": 11
        }
      ]
    },
    {
      "cell_type": "markdown",
      "metadata": {
        "id": "zvGRiLF19_54",
        "colab_type": "text"
      },
      "source": [
        "Encoding the integer sequences into a binary matrix"
      ]
    },
    {
      "cell_type": "code",
      "metadata": {
        "id": "AwN1fBRQ5OBj",
        "colab_type": "code",
        "colab": {}
      },
      "source": [
        "import numpy as np\n",
        "def vectorize_sequences(sequences, dimension=10000):\n",
        "  results = np.zeros((len(sequences), dimension))\n",
        "  for i, sequence in enumerate(sequences):\n",
        "    results[i, sequence] = 1.\n",
        "  return results\n",
        "x_train = vectorize_sequences(train_data)\n",
        "x_test = vectorize_sequences(test_data)"
      ],
      "execution_count": 0,
      "outputs": []
    },
    {
      "cell_type": "code",
      "metadata": {
        "id": "wusKJXFB-N8q",
        "colab_type": "code",
        "colab": {
          "base_uri": "https://localhost:8080/",
          "height": 136
        },
        "outputId": "75b46693-bfe4-4458-9833-1bb1ebf2cd5e"
      },
      "source": [
        "x_train"
      ],
      "execution_count": 14,
      "outputs": [
        {
          "output_type": "execute_result",
          "data": {
            "text/plain": [
              "array([[0., 1., 1., ..., 0., 0., 0.],\n",
              "       [0., 1., 1., ..., 0., 0., 0.],\n",
              "       [0., 1., 1., ..., 0., 0., 0.],\n",
              "       ...,\n",
              "       [0., 1., 1., ..., 0., 0., 0.],\n",
              "       [0., 1., 1., ..., 0., 0., 0.],\n",
              "       [0., 1., 1., ..., 0., 0., 0.]])"
            ]
          },
          "metadata": {
            "tags": []
          },
          "execution_count": 14
        }
      ]
    },
    {
      "cell_type": "markdown",
      "metadata": {
        "id": "kGCayelC_NA_",
        "colab_type": "text"
      },
      "source": [
        "vectorize our labels"
      ]
    },
    {
      "cell_type": "code",
      "metadata": {
        "id": "DS8N1jC2_Jup",
        "colab_type": "code",
        "colab": {}
      },
      "source": [
        "y_train = np.asarray(train_labels).astype('float32')\n",
        "y_test = np.asarray(test_labels).astype('float32')"
      ],
      "execution_count": 0,
      "outputs": []
    },
    {
      "cell_type": "markdown",
      "metadata": {
        "id": "RVfFBt8AAWjR",
        "colab_type": "text"
      },
      "source": [
        "The model definition"
      ]
    },
    {
      "cell_type": "code",
      "metadata": {
        "id": "2nVzo3de-aIO",
        "colab_type": "code",
        "colab": {}
      },
      "source": [
        "from keras import models\n",
        "from keras import layers\n",
        "model = models.Sequential()\n",
        "model.add(layers.Dense(16, activation='relu', input_shape=(10000,)))\n",
        "model.add(layers.Dense(16, activation='relu'))\n",
        "model.add(layers.Dense(1, activation='sigmoid'))"
      ],
      "execution_count": 0,
      "outputs": []
    },
    {
      "cell_type": "markdown",
      "metadata": {
        "id": "4A81emnkAg4x",
        "colab_type": "text"
      },
      "source": [
        "Compiling the model"
      ]
    },
    {
      "cell_type": "code",
      "metadata": {
        "id": "IX9N1ZmwAV13",
        "colab_type": "code",
        "colab": {}
      },
      "source": [
        "model.compile(optimizer='rmsprop',\n",
        "loss='binary_crossentropy',\n",
        "metrics=['accuracy'])"
      ],
      "execution_count": 0,
      "outputs": []
    },
    {
      "cell_type": "markdown",
      "metadata": {
        "id": "RFCi-LxSAkRr",
        "colab_type": "text"
      },
      "source": [
        "Configuring the optimizer"
      ]
    },
    {
      "cell_type": "code",
      "metadata": {
        "id": "jauEA7BxAgQw",
        "colab_type": "code",
        "colab": {}
      },
      "source": [
        "from keras import optimizers\n",
        "model.compile(optimizer=optimizers.RMSprop(lr=0.001),\n",
        "loss='binary_crossentropy',\n",
        "metrics=['accuracy'])"
      ],
      "execution_count": 0,
      "outputs": []
    },
    {
      "cell_type": "markdown",
      "metadata": {
        "id": "df5bO4R_AqQn",
        "colab_type": "text"
      },
      "source": [
        "Using custom losses and metrics"
      ]
    },
    {
      "cell_type": "code",
      "metadata": {
        "id": "dpdw_ikSAnko",
        "colab_type": "code",
        "colab": {}
      },
      "source": [
        "from keras import losses\n",
        "from keras import metrics\n",
        "model.compile(optimizer=optimizers.RMSprop(lr=0.001),\n",
        "loss=losses.binary_crossentropy,\n",
        "metrics=[metrics.binary_accuracy])"
      ],
      "execution_count": 0,
      "outputs": []
    },
    {
      "cell_type": "markdown",
      "metadata": {
        "id": "ydTd3gCdA06g",
        "colab_type": "text"
      },
      "source": [
        "Configuring the optimizer"
      ]
    },
    {
      "cell_type": "code",
      "metadata": {
        "id": "FprQXd3HAss-",
        "colab_type": "code",
        "colab": {}
      },
      "source": [
        "from keras import optimizers\n",
        "model.compile(optimizer=optimizers.RMSprop(lr=0.001),\n",
        "loss='binary_crossentropy',\n",
        "metrics=['accuracy'])"
      ],
      "execution_count": 0,
      "outputs": []
    },
    {
      "cell_type": "markdown",
      "metadata": {
        "id": "-NuqJ4vWA6jt",
        "colab_type": "text"
      },
      "source": [
        "Using custom losses and metrics"
      ]
    },
    {
      "cell_type": "code",
      "metadata": {
        "id": "0sWLFQEfA0AY",
        "colab_type": "code",
        "colab": {}
      },
      "source": [
        "from keras import losses\n",
        "from keras import metrics\n",
        "model.compile(optimizer=optimizers.RMSprop(lr=0.001),\n",
        "loss=losses.binary_crossentropy,\n",
        "metrics=[metrics.binary_accuracy])"
      ],
      "execution_count": 0,
      "outputs": []
    },
    {
      "cell_type": "markdown",
      "metadata": {
        "id": "RtPckn2ABIQO",
        "colab_type": "text"
      },
      "source": [
        "Setting aside a validation set"
      ]
    },
    {
      "cell_type": "code",
      "metadata": {
        "id": "K6n3GtJiBKtL",
        "colab_type": "code",
        "colab": {}
      },
      "source": [
        "x_val = x_train[:10000]\n",
        "partial_x_train = x_train[10000:]\n",
        "y_val = y_train[:10000]\n",
        "partial_y_train = y_train[10000:]"
      ],
      "execution_count": 0,
      "outputs": []
    },
    {
      "cell_type": "markdown",
      "metadata": {
        "id": "TDz9qcdrCihg",
        "colab_type": "text"
      },
      "source": [
        "Training our model"
      ]
    },
    {
      "cell_type": "code",
      "metadata": {
        "id": "sT2TyJPzBQjJ",
        "colab_type": "code",
        "colab": {
          "base_uri": "https://localhost:8080/",
          "height": 714
        },
        "outputId": "c904adeb-5cc4-4e6c-fc52-2111f0c5b603"
      },
      "source": [
        "model.compile(optimizer='rmsprop',\n",
        "loss='binary_crossentropy',\n",
        "metrics=['acc'])\n",
        "history = model.fit(partial_x_train,\n",
        "partial_y_train,\n",
        "epochs=20,\n",
        "batch_size=512,\n",
        "validation_data=(x_val, y_val))"
      ],
      "execution_count": 23,
      "outputs": [
        {
          "output_type": "stream",
          "text": [
            "Train on 15000 samples, validate on 10000 samples\n",
            "Epoch 1/20\n",
            "15000/15000 [==============================] - 3s 190us/step - loss: 0.5244 - acc: 0.7807 - val_loss: 0.3933 - val_acc: 0.8660\n",
            "Epoch 2/20\n",
            "15000/15000 [==============================] - 1s 75us/step - loss: 0.3133 - acc: 0.9026 - val_loss: 0.3098 - val_acc: 0.8862\n",
            "Epoch 3/20\n",
            "15000/15000 [==============================] - 1s 76us/step - loss: 0.2285 - acc: 0.9280 - val_loss: 0.2868 - val_acc: 0.8862\n",
            "Epoch 4/20\n",
            "15000/15000 [==============================] - 1s 74us/step - loss: 0.1812 - acc: 0.9419 - val_loss: 0.2814 - val_acc: 0.8857\n",
            "Epoch 5/20\n",
            "15000/15000 [==============================] - 1s 75us/step - loss: 0.1431 - acc: 0.9561 - val_loss: 0.2924 - val_acc: 0.8832\n",
            "Epoch 6/20\n",
            "15000/15000 [==============================] - 1s 76us/step - loss: 0.1191 - acc: 0.9641 - val_loss: 0.2912 - val_acc: 0.8854\n",
            "Epoch 7/20\n",
            "15000/15000 [==============================] - 1s 76us/step - loss: 0.0960 - acc: 0.9725 - val_loss: 0.3256 - val_acc: 0.8792\n",
            "Epoch 8/20\n",
            "15000/15000 [==============================] - 1s 76us/step - loss: 0.0825 - acc: 0.9771 - val_loss: 0.3676 - val_acc: 0.8708\n",
            "Epoch 9/20\n",
            "15000/15000 [==============================] - 1s 78us/step - loss: 0.0652 - acc: 0.9837 - val_loss: 0.3643 - val_acc: 0.8756\n",
            "Epoch 10/20\n",
            "15000/15000 [==============================] - 1s 78us/step - loss: 0.0534 - acc: 0.9869 - val_loss: 0.4020 - val_acc: 0.8763\n",
            "Epoch 11/20\n",
            "15000/15000 [==============================] - 1s 77us/step - loss: 0.0462 - acc: 0.9892 - val_loss: 0.4285 - val_acc: 0.8666\n",
            "Epoch 12/20\n",
            "15000/15000 [==============================] - 1s 76us/step - loss: 0.0355 - acc: 0.9925 - val_loss: 0.4237 - val_acc: 0.8745\n",
            "Epoch 13/20\n",
            "15000/15000 [==============================] - 1s 76us/step - loss: 0.0297 - acc: 0.9942 - val_loss: 0.4534 - val_acc: 0.8741\n",
            "Epoch 14/20\n",
            "15000/15000 [==============================] - 1s 76us/step - loss: 0.0205 - acc: 0.9972 - val_loss: 0.4982 - val_acc: 0.8738\n",
            "Epoch 15/20\n",
            "15000/15000 [==============================] - 1s 77us/step - loss: 0.0164 - acc: 0.9985 - val_loss: 0.5818 - val_acc: 0.8664\n",
            "Epoch 16/20\n",
            "15000/15000 [==============================] - 1s 80us/step - loss: 0.0140 - acc: 0.9983 - val_loss: 0.5742 - val_acc: 0.8694\n",
            "Epoch 17/20\n",
            "15000/15000 [==============================] - 1s 81us/step - loss: 0.0091 - acc: 0.9993 - val_loss: 0.6078 - val_acc: 0.8699\n",
            "Epoch 18/20\n",
            "15000/15000 [==============================] - 1s 78us/step - loss: 0.0094 - acc: 0.9987 - val_loss: 0.6350 - val_acc: 0.8694\n",
            "Epoch 19/20\n",
            "15000/15000 [==============================] - 1s 80us/step - loss: 0.0052 - acc: 0.9996 - val_loss: 0.6687 - val_acc: 0.8684\n",
            "Epoch 20/20\n",
            "15000/15000 [==============================] - 1s 82us/step - loss: 0.0034 - acc: 0.9997 - val_loss: 0.8292 - val_acc: 0.8563\n"
          ],
          "name": "stdout"
        }
      ]
    },
    {
      "cell_type": "code",
      "metadata": {
        "id": "_EvXGm3nCn2Q",
        "colab_type": "code",
        "colab": {
          "base_uri": "https://localhost:8080/",
          "height": 34
        },
        "outputId": "f8fac27a-595f-45f3-bbf3-817ef9eecbf9"
      },
      "source": [
        "history_dict = history.history\n",
        "history_dict.keys()"
      ],
      "execution_count": 34,
      "outputs": [
        {
          "output_type": "execute_result",
          "data": {
            "text/plain": [
              "dict_keys(['val_loss', 'val_acc', 'loss', 'acc'])"
            ]
          },
          "metadata": {
            "tags": []
          },
          "execution_count": 34
        }
      ]
    },
    {
      "cell_type": "markdown",
      "metadata": {
        "id": "8uhpg_AgDakD",
        "colab_type": "text"
      },
      "source": [
        "Plotting the training and validation loss"
      ]
    },
    {
      "cell_type": "code",
      "metadata": {
        "id": "iK32aOqIC4hE",
        "colab_type": "code",
        "colab": {
          "base_uri": "https://localhost:8080/",
          "height": 295
        },
        "outputId": "0619bae2-093f-4887-9da0-7e7e78fa71c7"
      },
      "source": [
        "import matplotlib.pyplot as plt\n",
        "history_dict = history.history\n",
        "loss_values = history_dict['loss']\n",
        "val_loss_values = history_dict['val_loss']\n",
        "epochs = range(1, len(history_dict['acc']) + 1)\n",
        "plt.plot(epochs, loss_values, 'bo', label='Training loss')\n",
        "plt.plot(epochs, val_loss_values, 'b', label='Validation loss')\n",
        "plt.title('Training and validation loss')\n",
        "plt.xlabel('Epochs')\n",
        "plt.ylabel('Loss')\n",
        "plt.legend()\n",
        "plt.show()"
      ],
      "execution_count": 35,
      "outputs": [
        {
          "output_type": "display_data",
          "data": {
            "image/png": "[encoded data removed]",
            "text/plain": [
              "<Figure size 432x288 with 1 Axes>"
            ]
          },
          "metadata": {
            "tags": [],
            "needs_background": "light"
          }
        }
      ]
    },
    {
      "cell_type": "code",
      "metadata": {
        "id": "IqK2s6ncDem5",
        "colab_type": "code",
        "colab": {}
      },
      "source": [
        ""
      ],
      "execution_count": 0,
      "outputs": []
    }
  ]
}