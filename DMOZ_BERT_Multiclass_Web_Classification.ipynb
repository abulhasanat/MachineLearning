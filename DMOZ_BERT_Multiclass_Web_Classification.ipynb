{
  "nbformat": 4,
  "nbformat_minor": 0,
  "metadata": {
    "colab": {
      "name": "BERT Multiclass Text Classification.ipynb",
      "provenance": [],
      "collapsed_sections": [],
      "machine_shape": "hm",
      "include_colab_link": true
    },
    "kernelspec": {
      "name": "python3",
      "display_name": "Python 3"
    },
    "accelerator": "GPU"
  },
  "cells": [
    {
      "cell_type": "markdown",
      "metadata": {
        "id": "view-in-github",
        "colab_type": "text"
      },
      "source": [
        "<a href=\"https://colab.research.google.com/github/abulhasanat/MachineLearning/blob/master/DMOZ_BERT_Multiclass_Web_Classification.ipynb\" target=\"_parent\"><img src=\"https://colab.research.google.com/assets/colab-badge.svg\" alt=\"Open In Colab\"/></a>"
      ]
    },
    {
      "cell_type": "code",
      "metadata": {
        "id": "LodY-iiDCqf4",
        "colab_type": "code",
        "colab": {}
      },
      "source": [
        "import numpy as np\n",
        "import pandas as pd\n",
        "\n",
        "from pathlib import Path\n",
        "from typing import *\n",
        "\n",
        "import torch\n",
        "import torch.optim as optim"
      ],
      "execution_count": 0,
      "outputs": []
    },
    {
      "cell_type": "code",
      "metadata": {
        "id": "TYR_I0f4Cs8W",
        "colab_type": "code",
        "colab": {}
      },
      "source": [
        "from fastai import *\n",
        "from fastai.vision import *\n",
        "from fastai.text import *\n",
        "from fastai.callbacks import *"
      ],
      "execution_count": 0,
      "outputs": []
    },
    {
      "cell_type": "code",
      "metadata": {
        "id": "hQk2Gej4Cz8s",
        "colab_type": "code",
        "outputId": "e1df5cc1-1e5d-41fd-91cd-de2ff38e2ab5",
        "colab": {
          "base_uri": "https://localhost:8080/",
          "height": 326
        }
      },
      "source": [
        "%%bash\n",
        "pip install pytorch-pretrained-bert"
      ],
      "execution_count": 3,
      "outputs": [
        {
          "output_type": "stream",
          "text": [
            "Requirement already satisfied: pytorch-pretrained-bert in /usr/local/lib/python3.6/dist-packages (0.6.2)\n",
            "Requirement already satisfied: tqdm in /usr/local/lib/python3.6/dist-packages (from pytorch-pretrained-bert) (4.28.1)\n",
            "Requirement already satisfied: boto3 in /usr/local/lib/python3.6/dist-packages (from pytorch-pretrained-bert) (1.10.32)\n",
            "Requirement already satisfied: numpy in /usr/local/lib/python3.6/dist-packages (from pytorch-pretrained-bert) (1.17.4)\n",
            "Requirement already satisfied: regex in /usr/local/lib/python3.6/dist-packages (from pytorch-pretrained-bert) (2019.12.9)\n",
            "Requirement already satisfied: torch>=0.4.1 in /usr/local/lib/python3.6/dist-packages (from pytorch-pretrained-bert) (1.3.1)\n",
            "Requirement already satisfied: requests in /usr/local/lib/python3.6/dist-packages (from pytorch-pretrained-bert) (2.21.0)\n",
            "Requirement already satisfied: jmespath<1.0.0,>=0.7.1 in /usr/local/lib/python3.6/dist-packages (from boto3->pytorch-pretrained-bert) (0.9.4)\n",
            "Requirement already satisfied: botocore<1.14.0,>=1.13.32 in /usr/local/lib/python3.6/dist-packages (from boto3->pytorch-pretrained-bert) (1.13.32)\n",
            "Requirement already satisfied: s3transfer<0.3.0,>=0.2.0 in /usr/local/lib/python3.6/dist-packages (from boto3->pytorch-pretrained-bert) (0.2.1)\n",
            "Requirement already satisfied: chardet<3.1.0,>=3.0.2 in /usr/local/lib/python3.6/dist-packages (from requests->pytorch-pretrained-bert) (3.0.4)\n",
            "Requirement already satisfied: certifi>=2017.4.17 in /usr/local/lib/python3.6/dist-packages (from requests->pytorch-pretrained-bert) (2019.11.28)\n",
            "Requirement already satisfied: urllib3<1.25,>=1.21.1 in /usr/local/lib/python3.6/dist-packages (from requests->pytorch-pretrained-bert) (1.24.3)\n",
            "Requirement already satisfied: idna<2.9,>=2.5 in /usr/local/lib/python3.6/dist-packages (from requests->pytorch-pretrained-bert) (2.8)\n",
            "Requirement already satisfied: docutils<0.16,>=0.10 in /usr/local/lib/python3.6/dist-packages (from botocore<1.14.0,>=1.13.32->boto3->pytorch-pretrained-bert) (0.15.2)\n",
            "Requirement already satisfied: python-dateutil<2.8.1,>=2.1; python_version >= \"2.7\" in /usr/local/lib/python3.6/dist-packages (from botocore<1.14.0,>=1.13.32->boto3->pytorch-pretrained-bert) (2.6.1)\n",
            "Requirement already satisfied: six>=1.5 in /usr/local/lib/python3.6/dist-packages (from python-dateutil<2.8.1,>=2.1; python_version >= \"2.7\"->botocore<1.14.0,>=1.13.32->boto3->pytorch-pretrained-bert) (1.12.0)\n"
          ],
          "name": "stdout"
        }
      ]
    },
    {
      "cell_type": "code",
      "metadata": {
        "id": "44U7Z2tnC2tU",
        "colab_type": "code",
        "colab": {}
      },
      "source": [
        "class Config(dict):\n",
        "    def __init__(self, **kwargs):\n",
        "        super().__init__(**kwargs)\n",
        "        for k, v in kwargs.items():\n",
        "            setattr(self, k, v)\n",
        "    \n",
        "    def set(self, key, val):\n",
        "        self[key] = val\n",
        "        setattr(self, key, val)\n",
        "\n",
        "config = Config(\n",
        "    testing=True,\n",
        "    bert_model_name=\"bert-base-uncased\",\n",
        "    max_lr=3e-5,\n",
        "    epochs=4,\n",
        "    use_fp16=True,\n",
        "    bs=32,\n",
        "    discriminative=False,\n",
        "    max_seq_len=256,\n",
        ")"
      ],
      "execution_count": 0,
      "outputs": []
    },
    {
      "cell_type": "code",
      "metadata": {
        "id": "-PzCgJfJC--k",
        "colab_type": "code",
        "colab": {}
      },
      "source": [
        "from pytorch_pretrained_bert import BertTokenizer\n",
        "bert_tok = BertTokenizer.from_pretrained(\n",
        "    config.bert_model_name,\n",
        ")"
      ],
      "execution_count": 0,
      "outputs": []
    },
    {
      "cell_type": "code",
      "metadata": {
        "id": "CR7FW97-DDF8",
        "colab_type": "code",
        "colab": {}
      },
      "source": [
        "def _join_texts(texts:Collection[str], mark_fields:bool=False, sos_token:Optional[str]=BOS):\n",
        "    \"\"\"Borrowed from fast.ai source\"\"\"\n",
        "    if not isinstance(texts, np.ndarray): texts = np.array(texts)\n",
        "    if is1d(texts): texts = texts[:,None]\n",
        "    df = pd.DataFrame({i:texts[:,i] for i in range(texts.shape[1])})\n",
        "    text_col = f'{FLD} {1} ' + df[0].astype(str) if mark_fields else df[0].astype(str)\n",
        "    if sos_token is not None: text_col = f\"{sos_token} \" + text_col\n",
        "    for i in range(1,len(df.columns)):\n",
        "        #text_col += (f' {FLD} {i+1} ' if mark_fields else ' ') + df[i]\n",
        "        text_col += (f' {FLD} {i+1} ' if mark_fields else ' ') + df[i].astype(str)\n",
        "    return text_col.values"
      ],
      "execution_count": 0,
      "outputs": []
    },
    {
      "cell_type": "code",
      "metadata": {
        "id": "O8grIYq1DKA7",
        "colab_type": "code",
        "colab": {}
      },
      "source": [
        "class FastAiBertTokenizer(BaseTokenizer):\n",
        "    \"\"\"Wrapper around BertTokenizer to be compatible with fast.ai\"\"\"\n",
        "    def __init__(self, tokenizer: BertTokenizer, max_seq_len: int=128, **kwargs):\n",
        "        self._pretrained_tokenizer = tokenizer\n",
        "        self.max_seq_len = max_seq_len\n",
        "\n",
        "    def __call__(self, *args, **kwargs):\n",
        "        return self\n",
        "\n",
        "    def tokenizer(self, t:str) -> List[str]:\n",
        "        \"\"\"Limits the maximum sequence length\"\"\"\n",
        "        return [\"[CLS]\"] + self._pretrained_tokenizer.tokenize(t)[:self.max_seq_len - 2] + [\"[SEP]\"]"
      ],
      "execution_count": 0,
      "outputs": []
    },
    {
      "cell_type": "code",
      "metadata": {
        "id": "P1S-kdzwDZa7",
        "colab_type": "code",
        "outputId": "2fc15205-d016-4bc6-cdc6-454899ef9fee",
        "colab": {
          "base_uri": "https://localhost:8080/",
          "height": 34
        }
      },
      "source": [
        "from google.colab import drive\n",
        "drive.mount('/content/drive')"
      ],
      "execution_count": 8,
      "outputs": [
        {
          "output_type": "stream",
          "text": [
            "Drive already mounted at /content/drive; to attempt to forcibly remount, call drive.mount(\"/content/drive\", force_remount=True).\n"
          ],
          "name": "stdout"
        }
      ]
    },
    {
      "cell_type": "code",
      "metadata": {
        "id": "BOproF2LDPbs",
        "colab_type": "code",
        "colab": {}
      },
      "source": [
        "from sklearn.model_selection import train_test_split\n",
        "\n",
        "# DATA_ROOT = Path(\"..\") / \"input\"\n",
        "DATA_ROOT=Path('/content/drive/My Drive/Data/DMOZ')\n",
        "df = pd.read_csv(DATA_ROOT / \"train.csv\")\n",
        "# train, test = [pd.read_csv(DATA_ROOT / fname,sep='\\t') for fname in [\"train1.csv\", \"test1.csv\"]]\n",
        "# val = train # we won't be using a validation set but you can easily create one using train_test_split"
      ],
      "execution_count": 0,
      "outputs": []
    },
    {
      "cell_type": "code",
      "metadata": {
        "id": "Qv_YfqzecYK8",
        "colab_type": "code",
        "colab": {}
      },
      "source": [
        "try:\n",
        "  df.drop(['Unnamed: 0'],axis=1,inplace=True)\n",
        "except:\n",
        "  pass\n",
        "df.dropna(inplace=True)\n",
        "df['cat_id']=df['cat_id'].astype(int)"
      ],
      "execution_count": 0,
      "outputs": []
    },
    {
      "cell_type": "code",
      "metadata": {
        "id": "T8ie9O4knreG",
        "colab_type": "code",
        "colab": {}
      },
      "source": [
        "num_labels=df['cat_id'].nunique()"
      ],
      "execution_count": 0,
      "outputs": []
    },
    {
      "cell_type": "code",
      "metadata": {
        "id": "Qs7WBq6elLsF",
        "colab_type": "code",
        "colab": {}
      },
      "source": [
        "# df[df['cat_id']<10]['cat_id'].value_counts()\n",
        "# df_sample=df[df['cat_id']<9]"
      ],
      "execution_count": 0,
      "outputs": []
    },
    {
      "cell_type": "code",
      "metadata": {
        "id": "aCHC3F5VGIPl",
        "colab_type": "code",
        "colab": {}
      },
      "source": [
        "train=pd.concat([df,pd.get_dummies(df['cat_id'], prefix='label')],axis=1)\n",
        "# train=pd.concat([df_sample,pd.get_dummies(df_sample['cat_id'], prefix='label')],axis=1)"
      ],
      "execution_count": 0,
      "outputs": []
    },
    {
      "cell_type": "code",
      "metadata": {
        "id": "8P3wVYMsK48s",
        "colab_type": "code",
        "colab": {}
      },
      "source": [
        "train, test = train_test_split(train, random_state=42, test_size=0.33, shuffle=True)"
      ],
      "execution_count": 0,
      "outputs": []
    },
    {
      "cell_type": "code",
      "metadata": {
        "id": "a6wEWV05KnP5",
        "colab_type": "code",
        "colab": {}
      },
      "source": [
        "val=train"
      ],
      "execution_count": 0,
      "outputs": []
    },
    {
      "cell_type": "code",
      "metadata": {
        "id": "iztsvs7_I8rT",
        "colab_type": "code",
        "colab": {
          "base_uri": "https://localhost:8080/",
          "height": 406
        },
        "outputId": "f0001fc3-b4e1-47c8-d3cd-0263a93f801c"
      },
      "source": [
        "train.sample(5)"
      ],
      "execution_count": 16,
      "outputs": [
        {
          "output_type": "execute_result",
          "data": {
            "text/html": [
              "<div>\n",
              "<style scoped>\n",
              "    .dataframe tbody tr th:only-of-type {\n",
              "        vertical-align: middle;\n",
              "    }\n",
              "\n",
              "    .dataframe tbody tr th {\n",
              "        vertical-align: top;\n",
              "    }\n",
              "\n",
              "    .dataframe thead th {\n",
              "        text-align: right;\n",
              "    }\n",
              "</style>\n",
              "<table border=\"1\" class=\"dataframe\">\n",
              "  <thead>\n",
              "    <tr style=\"text-align: right;\">\n",
              "      <th></th>\n",
              "      <th>cat_id</th>\n",
              "      <th>category</th>\n",
              "      <th>label_1</th>\n",
              "      <th>label_3</th>\n",
              "      <th>label_5</th>\n",
              "      <th>label_6</th>\n",
              "      <th>label_7</th>\n",
              "      <th>label_8</th>\n",
              "      <th>label_9</th>\n",
              "      <th>label_11</th>\n",
              "      <th>label_12</th>\n",
              "      <th>label_13</th>\n",
              "      <th>label_14</th>\n",
              "      <th>label_15</th>\n",
              "      <th>label_16</th>\n",
              "      <th>label_17</th>\n",
              "      <th>label_18</th>\n",
              "      <th>label_19</th>\n",
              "      <th>label_20</th>\n",
              "      <th>label_21</th>\n",
              "      <th>label_22</th>\n",
              "      <th>label_24</th>\n",
              "      <th>label_25</th>\n",
              "      <th>label_26</th>\n",
              "      <th>label_27</th>\n",
              "      <th>label_28</th>\n",
              "      <th>label_29</th>\n",
              "      <th>label_30</th>\n",
              "      <th>label_31</th>\n",
              "      <th>label_33</th>\n",
              "      <th>label_34</th>\n",
              "      <th>label_35</th>\n",
              "      <th>label_36</th>\n",
              "      <th>label_37</th>\n",
              "      <th>label_38</th>\n",
              "      <th>label_39</th>\n",
              "      <th>label_40</th>\n",
              "      <th>label_41</th>\n",
              "      <th>label_42</th>\n",
              "      <th>label_43</th>\n",
              "      <th>...</th>\n",
              "      <th>label_552</th>\n",
              "      <th>label_553</th>\n",
              "      <th>label_554</th>\n",
              "      <th>label_555</th>\n",
              "      <th>label_556</th>\n",
              "      <th>label_557</th>\n",
              "      <th>label_558</th>\n",
              "      <th>label_559</th>\n",
              "      <th>label_560</th>\n",
              "      <th>label_561</th>\n",
              "      <th>label_562</th>\n",
              "      <th>label_563</th>\n",
              "      <th>label_565</th>\n",
              "      <th>label_566</th>\n",
              "      <th>label_567</th>\n",
              "      <th>label_569</th>\n",
              "      <th>label_571</th>\n",
              "      <th>label_573</th>\n",
              "      <th>label_574</th>\n",
              "      <th>label_575</th>\n",
              "      <th>label_577</th>\n",
              "      <th>label_578</th>\n",
              "      <th>label_579</th>\n",
              "      <th>label_580</th>\n",
              "      <th>label_581</th>\n",
              "      <th>label_582</th>\n",
              "      <th>label_583</th>\n",
              "      <th>label_584</th>\n",
              "      <th>label_586</th>\n",
              "      <th>label_587</th>\n",
              "      <th>label_588</th>\n",
              "      <th>label_589</th>\n",
              "      <th>label_590</th>\n",
              "      <th>label_591</th>\n",
              "      <th>label_592</th>\n",
              "      <th>label_593</th>\n",
              "      <th>label_594</th>\n",
              "      <th>label_596</th>\n",
              "      <th>label_597</th>\n",
              "      <th>label_598</th>\n",
              "    </tr>\n",
              "  </thead>\n",
              "  <tbody>\n",
              "    <tr>\n",
              "      <th>122291</th>\n",
              "      <td>300</td>\n",
              "      <td>Wines fr | Great french wines | Guide to buy w...</td>\n",
              "      <td>0</td>\n",
              "      <td>0</td>\n",
              "      <td>0</td>\n",
              "      <td>0</td>\n",
              "      <td>0</td>\n",
              "      <td>0</td>\n",
              "      <td>0</td>\n",
              "      <td>0</td>\n",
              "      <td>0</td>\n",
              "      <td>0</td>\n",
              "      <td>0</td>\n",
              "      <td>0</td>\n",
              "      <td>0</td>\n",
              "      <td>0</td>\n",
              "      <td>0</td>\n",
              "      <td>0</td>\n",
              "      <td>0</td>\n",
              "      <td>0</td>\n",
              "      <td>0</td>\n",
              "      <td>0</td>\n",
              "      <td>0</td>\n",
              "      <td>0</td>\n",
              "      <td>0</td>\n",
              "      <td>0</td>\n",
              "      <td>0</td>\n",
              "      <td>0</td>\n",
              "      <td>0</td>\n",
              "      <td>0</td>\n",
              "      <td>0</td>\n",
              "      <td>0</td>\n",
              "      <td>0</td>\n",
              "      <td>0</td>\n",
              "      <td>0</td>\n",
              "      <td>0</td>\n",
              "      <td>0</td>\n",
              "      <td>0</td>\n",
              "      <td>0</td>\n",
              "      <td>0</td>\n",
              "      <td>...</td>\n",
              "      <td>0</td>\n",
              "      <td>0</td>\n",
              "      <td>0</td>\n",
              "      <td>0</td>\n",
              "      <td>0</td>\n",
              "      <td>0</td>\n",
              "      <td>0</td>\n",
              "      <td>0</td>\n",
              "      <td>0</td>\n",
              "      <td>0</td>\n",
              "      <td>0</td>\n",
              "      <td>0</td>\n",
              "      <td>0</td>\n",
              "      <td>0</td>\n",
              "      <td>0</td>\n",
              "      <td>0</td>\n",
              "      <td>0</td>\n",
              "      <td>0</td>\n",
              "      <td>0</td>\n",
              "      <td>0</td>\n",
              "      <td>0</td>\n",
              "      <td>0</td>\n",
              "      <td>0</td>\n",
              "      <td>0</td>\n",
              "      <td>0</td>\n",
              "      <td>0</td>\n",
              "      <td>0</td>\n",
              "      <td>0</td>\n",
              "      <td>0</td>\n",
              "      <td>0</td>\n",
              "      <td>0</td>\n",
              "      <td>0</td>\n",
              "      <td>0</td>\n",
              "      <td>0</td>\n",
              "      <td>0</td>\n",
              "      <td>0</td>\n",
              "      <td>0</td>\n",
              "      <td>0</td>\n",
              "      <td>0</td>\n",
              "      <td>0</td>\n",
              "    </tr>\n",
              "    <tr>\n",
              "      <th>283569</th>\n",
              "      <td>587</td>\n",
              "      <td>The Gay Tunes Studio - Gay Lesbian Music &amp; Com...</td>\n",
              "      <td>0</td>\n",
              "      <td>0</td>\n",
              "      <td>0</td>\n",
              "      <td>0</td>\n",
              "      <td>0</td>\n",
              "      <td>0</td>\n",
              "      <td>0</td>\n",
              "      <td>0</td>\n",
              "      <td>0</td>\n",
              "      <td>0</td>\n",
              "      <td>0</td>\n",
              "      <td>0</td>\n",
              "      <td>0</td>\n",
              "      <td>0</td>\n",
              "      <td>0</td>\n",
              "      <td>0</td>\n",
              "      <td>0</td>\n",
              "      <td>0</td>\n",
              "      <td>0</td>\n",
              "      <td>0</td>\n",
              "      <td>0</td>\n",
              "      <td>0</td>\n",
              "      <td>0</td>\n",
              "      <td>0</td>\n",
              "      <td>0</td>\n",
              "      <td>0</td>\n",
              "      <td>0</td>\n",
              "      <td>0</td>\n",
              "      <td>0</td>\n",
              "      <td>0</td>\n",
              "      <td>0</td>\n",
              "      <td>0</td>\n",
              "      <td>0</td>\n",
              "      <td>0</td>\n",
              "      <td>0</td>\n",
              "      <td>0</td>\n",
              "      <td>0</td>\n",
              "      <td>0</td>\n",
              "      <td>...</td>\n",
              "      <td>0</td>\n",
              "      <td>0</td>\n",
              "      <td>0</td>\n",
              "      <td>0</td>\n",
              "      <td>0</td>\n",
              "      <td>0</td>\n",
              "      <td>0</td>\n",
              "      <td>0</td>\n",
              "      <td>0</td>\n",
              "      <td>0</td>\n",
              "      <td>0</td>\n",
              "      <td>0</td>\n",
              "      <td>0</td>\n",
              "      <td>0</td>\n",
              "      <td>0</td>\n",
              "      <td>0</td>\n",
              "      <td>0</td>\n",
              "      <td>0</td>\n",
              "      <td>0</td>\n",
              "      <td>0</td>\n",
              "      <td>0</td>\n",
              "      <td>0</td>\n",
              "      <td>0</td>\n",
              "      <td>0</td>\n",
              "      <td>0</td>\n",
              "      <td>0</td>\n",
              "      <td>0</td>\n",
              "      <td>0</td>\n",
              "      <td>0</td>\n",
              "      <td>1</td>\n",
              "      <td>0</td>\n",
              "      <td>0</td>\n",
              "      <td>0</td>\n",
              "      <td>0</td>\n",
              "      <td>0</td>\n",
              "      <td>0</td>\n",
              "      <td>0</td>\n",
              "      <td>0</td>\n",
              "      <td>0</td>\n",
              "      <td>0</td>\n",
              "    </tr>\n",
              "    <tr>\n",
              "      <th>134885</th>\n",
              "      <td>320</td>\n",
              "      <td>Click here for details...\" //messages[1]=\"Want...</td>\n",
              "      <td>0</td>\n",
              "      <td>0</td>\n",
              "      <td>0</td>\n",
              "      <td>0</td>\n",
              "      <td>0</td>\n",
              "      <td>0</td>\n",
              "      <td>0</td>\n",
              "      <td>0</td>\n",
              "      <td>0</td>\n",
              "      <td>0</td>\n",
              "      <td>0</td>\n",
              "      <td>0</td>\n",
              "      <td>0</td>\n",
              "      <td>0</td>\n",
              "      <td>0</td>\n",
              "      <td>0</td>\n",
              "      <td>0</td>\n",
              "      <td>0</td>\n",
              "      <td>0</td>\n",
              "      <td>0</td>\n",
              "      <td>0</td>\n",
              "      <td>0</td>\n",
              "      <td>0</td>\n",
              "      <td>0</td>\n",
              "      <td>0</td>\n",
              "      <td>0</td>\n",
              "      <td>0</td>\n",
              "      <td>0</td>\n",
              "      <td>0</td>\n",
              "      <td>0</td>\n",
              "      <td>0</td>\n",
              "      <td>0</td>\n",
              "      <td>0</td>\n",
              "      <td>0</td>\n",
              "      <td>0</td>\n",
              "      <td>0</td>\n",
              "      <td>0</td>\n",
              "      <td>0</td>\n",
              "      <td>...</td>\n",
              "      <td>0</td>\n",
              "      <td>0</td>\n",
              "      <td>0</td>\n",
              "      <td>0</td>\n",
              "      <td>0</td>\n",
              "      <td>0</td>\n",
              "      <td>0</td>\n",
              "      <td>0</td>\n",
              "      <td>0</td>\n",
              "      <td>0</td>\n",
              "      <td>0</td>\n",
              "      <td>0</td>\n",
              "      <td>0</td>\n",
              "      <td>0</td>\n",
              "      <td>0</td>\n",
              "      <td>0</td>\n",
              "      <td>0</td>\n",
              "      <td>0</td>\n",
              "      <td>0</td>\n",
              "      <td>0</td>\n",
              "      <td>0</td>\n",
              "      <td>0</td>\n",
              "      <td>0</td>\n",
              "      <td>0</td>\n",
              "      <td>0</td>\n",
              "      <td>0</td>\n",
              "      <td>0</td>\n",
              "      <td>0</td>\n",
              "      <td>0</td>\n",
              "      <td>0</td>\n",
              "      <td>0</td>\n",
              "      <td>0</td>\n",
              "      <td>0</td>\n",
              "      <td>0</td>\n",
              "      <td>0</td>\n",
              "      <td>0</td>\n",
              "      <td>0</td>\n",
              "      <td>0</td>\n",
              "      <td>0</td>\n",
              "      <td>0</td>\n",
              "    </tr>\n",
              "    <tr>\n",
              "      <th>232690</th>\n",
              "      <td>51</td>\n",
              "      <td>Die Laughing -- clean jokes jamboree ( Jackie ...</td>\n",
              "      <td>0</td>\n",
              "      <td>0</td>\n",
              "      <td>0</td>\n",
              "      <td>0</td>\n",
              "      <td>0</td>\n",
              "      <td>0</td>\n",
              "      <td>0</td>\n",
              "      <td>0</td>\n",
              "      <td>0</td>\n",
              "      <td>0</td>\n",
              "      <td>0</td>\n",
              "      <td>0</td>\n",
              "      <td>0</td>\n",
              "      <td>0</td>\n",
              "      <td>0</td>\n",
              "      <td>0</td>\n",
              "      <td>0</td>\n",
              "      <td>0</td>\n",
              "      <td>0</td>\n",
              "      <td>0</td>\n",
              "      <td>0</td>\n",
              "      <td>0</td>\n",
              "      <td>0</td>\n",
              "      <td>0</td>\n",
              "      <td>0</td>\n",
              "      <td>0</td>\n",
              "      <td>0</td>\n",
              "      <td>0</td>\n",
              "      <td>0</td>\n",
              "      <td>0</td>\n",
              "      <td>0</td>\n",
              "      <td>0</td>\n",
              "      <td>0</td>\n",
              "      <td>0</td>\n",
              "      <td>0</td>\n",
              "      <td>0</td>\n",
              "      <td>0</td>\n",
              "      <td>0</td>\n",
              "      <td>...</td>\n",
              "      <td>0</td>\n",
              "      <td>0</td>\n",
              "      <td>0</td>\n",
              "      <td>0</td>\n",
              "      <td>0</td>\n",
              "      <td>0</td>\n",
              "      <td>0</td>\n",
              "      <td>0</td>\n",
              "      <td>0</td>\n",
              "      <td>0</td>\n",
              "      <td>0</td>\n",
              "      <td>0</td>\n",
              "      <td>0</td>\n",
              "      <td>0</td>\n",
              "      <td>0</td>\n",
              "      <td>0</td>\n",
              "      <td>0</td>\n",
              "      <td>0</td>\n",
              "      <td>0</td>\n",
              "      <td>0</td>\n",
              "      <td>0</td>\n",
              "      <td>0</td>\n",
              "      <td>0</td>\n",
              "      <td>0</td>\n",
              "      <td>0</td>\n",
              "      <td>0</td>\n",
              "      <td>0</td>\n",
              "      <td>0</td>\n",
              "      <td>0</td>\n",
              "      <td>0</td>\n",
              "      <td>0</td>\n",
              "      <td>0</td>\n",
              "      <td>0</td>\n",
              "      <td>0</td>\n",
              "      <td>0</td>\n",
              "      <td>0</td>\n",
              "      <td>0</td>\n",
              "      <td>0</td>\n",
              "      <td>0</td>\n",
              "      <td>0</td>\n",
              "    </tr>\n",
              "    <tr>\n",
              "      <th>208270</th>\n",
              "      <td>458</td>\n",
              "      <td>Les Filles du Metal\\nThe Gathering, Lacuna Coi...</td>\n",
              "      <td>0</td>\n",
              "      <td>0</td>\n",
              "      <td>0</td>\n",
              "      <td>0</td>\n",
              "      <td>0</td>\n",
              "      <td>0</td>\n",
              "      <td>0</td>\n",
              "      <td>0</td>\n",
              "      <td>0</td>\n",
              "      <td>0</td>\n",
              "      <td>0</td>\n",
              "      <td>0</td>\n",
              "      <td>0</td>\n",
              "      <td>0</td>\n",
              "      <td>0</td>\n",
              "      <td>0</td>\n",
              "      <td>0</td>\n",
              "      <td>0</td>\n",
              "      <td>0</td>\n",
              "      <td>0</td>\n",
              "      <td>0</td>\n",
              "      <td>0</td>\n",
              "      <td>0</td>\n",
              "      <td>0</td>\n",
              "      <td>0</td>\n",
              "      <td>0</td>\n",
              "      <td>0</td>\n",
              "      <td>0</td>\n",
              "      <td>0</td>\n",
              "      <td>0</td>\n",
              "      <td>0</td>\n",
              "      <td>0</td>\n",
              "      <td>0</td>\n",
              "      <td>0</td>\n",
              "      <td>0</td>\n",
              "      <td>0</td>\n",
              "      <td>0</td>\n",
              "      <td>0</td>\n",
              "      <td>...</td>\n",
              "      <td>0</td>\n",
              "      <td>0</td>\n",
              "      <td>0</td>\n",
              "      <td>0</td>\n",
              "      <td>0</td>\n",
              "      <td>0</td>\n",
              "      <td>0</td>\n",
              "      <td>0</td>\n",
              "      <td>0</td>\n",
              "      <td>0</td>\n",
              "      <td>0</td>\n",
              "      <td>0</td>\n",
              "      <td>0</td>\n",
              "      <td>0</td>\n",
              "      <td>0</td>\n",
              "      <td>0</td>\n",
              "      <td>0</td>\n",
              "      <td>0</td>\n",
              "      <td>0</td>\n",
              "      <td>0</td>\n",
              "      <td>0</td>\n",
              "      <td>0</td>\n",
              "      <td>0</td>\n",
              "      <td>0</td>\n",
              "      <td>0</td>\n",
              "      <td>0</td>\n",
              "      <td>0</td>\n",
              "      <td>0</td>\n",
              "      <td>0</td>\n",
              "      <td>0</td>\n",
              "      <td>0</td>\n",
              "      <td>0</td>\n",
              "      <td>0</td>\n",
              "      <td>0</td>\n",
              "      <td>0</td>\n",
              "      <td>0</td>\n",
              "      <td>0</td>\n",
              "      <td>0</td>\n",
              "      <td>0</td>\n",
              "      <td>0</td>\n",
              "    </tr>\n",
              "  </tbody>\n",
              "</table>\n",
              "<p>5 rows × 538 columns</p>\n",
              "</div>"
            ],
            "text/plain": [
              "        cat_id  ... label_598\n",
              "122291     300  ...         0\n",
              "283569     587  ...         0\n",
              "134885     320  ...         0\n",
              "232690      51  ...         0\n",
              "208270     458  ...         0\n",
              "\n",
              "[5 rows x 538 columns]"
            ]
          },
          "metadata": {
            "tags": []
          },
          "execution_count": 16
        }
      ]
    },
    {
      "cell_type": "code",
      "metadata": {
        "id": "hHUcwrpYhzAP",
        "colab_type": "code",
        "colab": {
          "base_uri": "https://localhost:8080/",
          "height": 163
        },
        "outputId": "16931014-a3c7-4d09-f078-2fffefd6802f"
      },
      "source": [
        "test.sample()"
      ],
      "execution_count": 17,
      "outputs": [
        {
          "output_type": "execute_result",
          "data": {
            "text/html": [
              "<div>\n",
              "<style scoped>\n",
              "    .dataframe tbody tr th:only-of-type {\n",
              "        vertical-align: middle;\n",
              "    }\n",
              "\n",
              "    .dataframe tbody tr th {\n",
              "        vertical-align: top;\n",
              "    }\n",
              "\n",
              "    .dataframe thead th {\n",
              "        text-align: right;\n",
              "    }\n",
              "</style>\n",
              "<table border=\"1\" class=\"dataframe\">\n",
              "  <thead>\n",
              "    <tr style=\"text-align: right;\">\n",
              "      <th></th>\n",
              "      <th>cat_id</th>\n",
              "      <th>category</th>\n",
              "      <th>label_1</th>\n",
              "      <th>label_3</th>\n",
              "      <th>label_5</th>\n",
              "      <th>label_6</th>\n",
              "      <th>label_7</th>\n",
              "      <th>label_8</th>\n",
              "      <th>label_9</th>\n",
              "      <th>label_11</th>\n",
              "      <th>label_12</th>\n",
              "      <th>label_13</th>\n",
              "      <th>label_14</th>\n",
              "      <th>label_15</th>\n",
              "      <th>label_16</th>\n",
              "      <th>label_17</th>\n",
              "      <th>label_18</th>\n",
              "      <th>label_19</th>\n",
              "      <th>label_20</th>\n",
              "      <th>label_21</th>\n",
              "      <th>label_22</th>\n",
              "      <th>label_24</th>\n",
              "      <th>label_25</th>\n",
              "      <th>label_26</th>\n",
              "      <th>label_27</th>\n",
              "      <th>label_28</th>\n",
              "      <th>label_29</th>\n",
              "      <th>label_30</th>\n",
              "      <th>label_31</th>\n",
              "      <th>label_33</th>\n",
              "      <th>label_34</th>\n",
              "      <th>label_35</th>\n",
              "      <th>label_36</th>\n",
              "      <th>label_37</th>\n",
              "      <th>label_38</th>\n",
              "      <th>label_39</th>\n",
              "      <th>label_40</th>\n",
              "      <th>label_41</th>\n",
              "      <th>label_42</th>\n",
              "      <th>label_43</th>\n",
              "      <th>...</th>\n",
              "      <th>label_552</th>\n",
              "      <th>label_553</th>\n",
              "      <th>label_554</th>\n",
              "      <th>label_555</th>\n",
              "      <th>label_556</th>\n",
              "      <th>label_557</th>\n",
              "      <th>label_558</th>\n",
              "      <th>label_559</th>\n",
              "      <th>label_560</th>\n",
              "      <th>label_561</th>\n",
              "      <th>label_562</th>\n",
              "      <th>label_563</th>\n",
              "      <th>label_565</th>\n",
              "      <th>label_566</th>\n",
              "      <th>label_567</th>\n",
              "      <th>label_569</th>\n",
              "      <th>label_571</th>\n",
              "      <th>label_573</th>\n",
              "      <th>label_574</th>\n",
              "      <th>label_575</th>\n",
              "      <th>label_577</th>\n",
              "      <th>label_578</th>\n",
              "      <th>label_579</th>\n",
              "      <th>label_580</th>\n",
              "      <th>label_581</th>\n",
              "      <th>label_582</th>\n",
              "      <th>label_583</th>\n",
              "      <th>label_584</th>\n",
              "      <th>label_586</th>\n",
              "      <th>label_587</th>\n",
              "      <th>label_588</th>\n",
              "      <th>label_589</th>\n",
              "      <th>label_590</th>\n",
              "      <th>label_591</th>\n",
              "      <th>label_592</th>\n",
              "      <th>label_593</th>\n",
              "      <th>label_594</th>\n",
              "      <th>label_596</th>\n",
              "      <th>label_597</th>\n",
              "      <th>label_598</th>\n",
              "    </tr>\n",
              "  </thead>\n",
              "  <tbody>\n",
              "    <tr>\n",
              "      <th>162480</th>\n",
              "      <td>382</td>\n",
              "      <td>ReedLists.com:direct marketing business lists,...</td>\n",
              "      <td>0</td>\n",
              "      <td>0</td>\n",
              "      <td>0</td>\n",
              "      <td>0</td>\n",
              "      <td>0</td>\n",
              "      <td>0</td>\n",
              "      <td>0</td>\n",
              "      <td>0</td>\n",
              "      <td>0</td>\n",
              "      <td>0</td>\n",
              "      <td>0</td>\n",
              "      <td>0</td>\n",
              "      <td>0</td>\n",
              "      <td>0</td>\n",
              "      <td>0</td>\n",
              "      <td>0</td>\n",
              "      <td>0</td>\n",
              "      <td>0</td>\n",
              "      <td>0</td>\n",
              "      <td>0</td>\n",
              "      <td>0</td>\n",
              "      <td>0</td>\n",
              "      <td>0</td>\n",
              "      <td>0</td>\n",
              "      <td>0</td>\n",
              "      <td>0</td>\n",
              "      <td>0</td>\n",
              "      <td>0</td>\n",
              "      <td>0</td>\n",
              "      <td>0</td>\n",
              "      <td>0</td>\n",
              "      <td>0</td>\n",
              "      <td>0</td>\n",
              "      <td>0</td>\n",
              "      <td>0</td>\n",
              "      <td>0</td>\n",
              "      <td>0</td>\n",
              "      <td>0</td>\n",
              "      <td>...</td>\n",
              "      <td>0</td>\n",
              "      <td>0</td>\n",
              "      <td>0</td>\n",
              "      <td>0</td>\n",
              "      <td>0</td>\n",
              "      <td>0</td>\n",
              "      <td>0</td>\n",
              "      <td>0</td>\n",
              "      <td>0</td>\n",
              "      <td>0</td>\n",
              "      <td>0</td>\n",
              "      <td>0</td>\n",
              "      <td>0</td>\n",
              "      <td>0</td>\n",
              "      <td>0</td>\n",
              "      <td>0</td>\n",
              "      <td>0</td>\n",
              "      <td>0</td>\n",
              "      <td>0</td>\n",
              "      <td>0</td>\n",
              "      <td>0</td>\n",
              "      <td>0</td>\n",
              "      <td>0</td>\n",
              "      <td>0</td>\n",
              "      <td>0</td>\n",
              "      <td>0</td>\n",
              "      <td>0</td>\n",
              "      <td>0</td>\n",
              "      <td>0</td>\n",
              "      <td>0</td>\n",
              "      <td>0</td>\n",
              "      <td>0</td>\n",
              "      <td>0</td>\n",
              "      <td>0</td>\n",
              "      <td>0</td>\n",
              "      <td>0</td>\n",
              "      <td>0</td>\n",
              "      <td>0</td>\n",
              "      <td>0</td>\n",
              "      <td>0</td>\n",
              "    </tr>\n",
              "  </tbody>\n",
              "</table>\n",
              "<p>1 rows × 538 columns</p>\n",
              "</div>"
            ],
            "text/plain": [
              "        cat_id  ... label_598\n",
              "162480     382  ...         0\n",
              "\n",
              "[1 rows x 538 columns]"
            ]
          },
          "metadata": {
            "tags": []
          },
          "execution_count": 17
        }
      ]
    },
    {
      "cell_type": "code",
      "metadata": {
        "id": "aFpRRHrtDyE3",
        "colab_type": "code",
        "colab": {}
      },
      "source": [
        "if config.testing:\n",
        "    train = train.head(1024)\n",
        "    val = val.head(1024)\n",
        "    test = test.head(1024)"
      ],
      "execution_count": 0,
      "outputs": []
    },
    {
      "cell_type": "code",
      "metadata": {
        "id": "jMaHAzD4EDYu",
        "colab_type": "code",
        "colab": {}
      },
      "source": [
        "fastai_bert_vocab = Vocab(list(bert_tok.vocab.keys()))"
      ],
      "execution_count": 0,
      "outputs": []
    },
    {
      "cell_type": "code",
      "metadata": {
        "id": "sB6qLQkyEIWD",
        "colab_type": "code",
        "colab": {}
      },
      "source": [
        "fastai_tokenizer = Tokenizer(tok_func=FastAiBertTokenizer(bert_tok, max_seq_len=config.max_seq_len), pre_rules=[], post_rules=[])"
      ],
      "execution_count": 0,
      "outputs": []
    },
    {
      "cell_type": "code",
      "metadata": {
        "id": "3be4CzHIL6HI",
        "colab_type": "code",
        "colab": {}
      },
      "source": [
        "label_cols=train.columns\n",
        "label_cols[2:]\n",
        "label_cols = label_cols[2:]"
      ],
      "execution_count": 0,
      "outputs": []
    },
    {
      "cell_type": "code",
      "metadata": {
        "id": "N8YcFjOoPPXn",
        "colab_type": "code",
        "colab": {}
      },
      "source": [
        "label_cols=[str(item) for item in label_cols]"
      ],
      "execution_count": 0,
      "outputs": []
    },
    {
      "cell_type": "code",
      "metadata": {
        "id": "ljEqJGemPr0l",
        "colab_type": "code",
        "colab": {
          "base_uri": "https://localhost:8080/",
          "height": 34
        },
        "outputId": "0d3369b8-2080-46a0-a0b5-88173227322c"
      },
      "source": [
        "label_cols[0]"
      ],
      "execution_count": 23,
      "outputs": [
        {
          "output_type": "execute_result",
          "data": {
            "text/plain": [
              "'label_1'"
            ]
          },
          "metadata": {
            "tags": []
          },
          "execution_count": 23
        }
      ]
    },
    {
      "cell_type": "code",
      "metadata": {
        "id": "Jm9FR2GxEK_U",
        "colab_type": "code",
        "colab": {}
      },
      "source": [
        "# label_cols = [\"toxic\", \"severe_toxic\", \"obscene\", \"threat\", \"insult\", \"identity_hate\"]"
      ],
      "execution_count": 0,
      "outputs": []
    },
    {
      "cell_type": "code",
      "metadata": {
        "id": "ow8Yle5HEP6b",
        "colab_type": "code",
        "colab": {}
      },
      "source": [
        "class BertTokenizeProcessor(TokenizeProcessor):\n",
        "    def __init__(self, tokenizer):\n",
        "        super().__init__(tokenizer=tokenizer, include_bos=False, include_eos=False)\n",
        "\n",
        "class BertNumericalizeProcessor(NumericalizeProcessor):\n",
        "    def __init__(self, *args, **kwargs):\n",
        "        super().__init__(*args, vocab=Vocab(list(bert_tok.vocab.keys())), **kwargs)\n",
        "\n",
        "def get_bert_processor(tokenizer:Tokenizer=None, vocab:Vocab=None):\n",
        "    \"\"\"\n",
        "    Constructing preprocessors for BERT\n",
        "    We remove sos/eos tokens since we add that ourselves in the tokenizer.\n",
        "    We also use a custom vocabulary to match the numericalization with the original BERT model.\n",
        "    \"\"\"\n",
        "    return [BertTokenizeProcessor(tokenizer=tokenizer),NumericalizeProcessor(vocab=vocab)]"
      ],
      "execution_count": 0,
      "outputs": []
    },
    {
      "cell_type": "code",
      "metadata": {
        "id": "m1LmKYwZEUs8",
        "colab_type": "code",
        "colab": {}
      },
      "source": [
        "class BertDataBunch(TextDataBunch):\n",
        "    @classmethod\n",
        "    def from_df(cls, path:PathOrStr, train_df:DataFrame, valid_df:DataFrame, test_df:Optional[DataFrame]=None,\n",
        "                tokenizer:Tokenizer=None, vocab:Vocab=None, classes:Collection[str]=None, text_cols:IntsOrStrs=1,\n",
        "                label_cols:IntsOrStrs=0, label_delim:str=None, **kwargs) -> DataBunch:\n",
        "        \"Create a `TextDataBunch` from DataFrames.\"\n",
        "        p_kwargs, kwargs = split_kwargs_by_func(kwargs, get_bert_processor)\n",
        "        # use our custom processors while taking tokenizer and vocab as kwargs\n",
        "        processor = get_bert_processor(tokenizer=tokenizer, vocab=vocab, **p_kwargs)\n",
        "        if classes is None and is_listy(label_cols) and len(label_cols) > 1: classes = label_cols\n",
        "        src = ItemLists(path, TextList.from_df(train_df, path, cols=text_cols, processor=processor),\n",
        "                        TextList.from_df(valid_df, path, cols=text_cols, processor=processor))\n",
        "        src = src.label_for_lm() if cls==TextLMDataBunch else src.label_from_df(cols=label_cols, classes=classes)\n",
        "        if test_df is not None: src.add_test(TextList.from_df(test_df, path, cols=text_cols))\n",
        "        return src.databunch(**kwargs)"
      ],
      "execution_count": 0,
      "outputs": []
    },
    {
      "cell_type": "code",
      "metadata": {
        "id": "1v54gMXuEbaz",
        "colab_type": "code",
        "outputId": "105ab0ac-1215-4eda-ae5f-fbdc66fc3700",
        "colab": {
          "base_uri": "https://localhost:8080/",
          "height": 17
        }
      },
      "source": [
        "databunch = BertDataBunch.from_df(\".\", train, val, test,\n",
        "                  tokenizer=fastai_tokenizer,\n",
        "                  vocab=fastai_bert_vocab,\n",
        "                  text_cols=\"category\",\n",
        "                  label_cols=label_cols,\n",
        "                  bs=config.bs,\n",
        "                  collate_fn=partial(pad_collate, pad_first=False, pad_idx=0),\n",
        "             )"
      ],
      "execution_count": 27,
      "outputs": [
        {
          "output_type": "display_data",
          "data": {
            "text/html": [
              ""
            ],
            "text/plain": [
              "<IPython.core.display.HTML object>"
            ]
          },
          "metadata": {
            "tags": []
          }
        },
        {
          "output_type": "display_data",
          "data": {
            "text/html": [
              ""
            ],
            "text/plain": [
              "<IPython.core.display.HTML object>"
            ]
          },
          "metadata": {
            "tags": []
          }
        },
        {
          "output_type": "display_data",
          "data": {
            "text/html": [
              ""
            ],
            "text/plain": [
              "<IPython.core.display.HTML object>"
            ]
          },
          "metadata": {
            "tags": []
          }
        }
      ]
    },
    {
      "cell_type": "code",
      "metadata": {
        "id": "1gx2ERYwEgyD",
        "colab_type": "code",
        "colab": {}
      },
      "source": [
        "from pytorch_pretrained_bert.modeling import BertConfig, BertForSequenceClassification\n",
        "bert_model = BertForSequenceClassification.from_pretrained(config.bert_model_name, num_labels=num_labels)"
      ],
      "execution_count": 0,
      "outputs": []
    },
    {
      "cell_type": "code",
      "metadata": {
        "id": "DBtzsoVxF2HD",
        "colab_type": "code",
        "colab": {}
      },
      "source": [
        "loss_func = nn.BCEWithLogitsLoss()"
      ],
      "execution_count": 0,
      "outputs": []
    },
    {
      "cell_type": "code",
      "metadata": {
        "id": "rugTTOPAF6PT",
        "colab_type": "code",
        "colab": {}
      },
      "source": [
        "from fastai.callbacks import *\n",
        "device_cuda = torch.device(\"cuda\")\n",
        "learner = Learner(\n",
        "    databunch, bert_model,\n",
        "    loss_func=loss_func\n",
        ")\n",
        "if config.use_fp16: learner = learner.to_fp16()\n",
        "# learner.to_fp32()"
      ],
      "execution_count": 0,
      "outputs": []
    },
    {
      "cell_type": "code",
      "metadata": {
        "id": "gTJ-n679oVYw",
        "colab_type": "code",
        "colab": {}
      },
      "source": [
        "del df"
      ],
      "execution_count": 0,
      "outputs": []
    },
    {
      "cell_type": "code",
      "metadata": {
        "id": "YMD5cHmDF-Q8",
        "colab_type": "code",
        "outputId": "e6da5269-fb73-4044-ab27-87aa3bdfbd5d",
        "colab": {
          "base_uri": "https://localhost:8080/",
          "height": 34
        }
      },
      "source": [
        "learner.lr_find()"
      ],
      "execution_count": 32,
      "outputs": [
        {
          "output_type": "display_data",
          "data": {
            "text/html": [
              ""
            ],
            "text/plain": [
              "<IPython.core.display.HTML object>"
            ]
          },
          "metadata": {
            "tags": []
          }
        },
        {
          "output_type": "stream",
          "text": [
            "LR Finder is complete, type {learner_name}.recorder.plot() to see the graph.\n"
          ],
          "name": "stdout"
        }
      ]
    },
    {
      "cell_type": "code",
      "metadata": {
        "id": "CHa33A7-GAzE",
        "colab_type": "code",
        "outputId": "c4c9a997-8b5b-441a-f14e-30074bcff6c0",
        "colab": {
          "base_uri": "https://localhost:8080/",
          "height": 279
        }
      },
      "source": [
        "learner.recorder.plot()"
      ],
      "execution_count": 33,
      "outputs": [
        {
          "output_type": "display_data",
          "data": {
            "image/png": "[encoded data removed]",
            "text/plain": [
              "<Figure size 432x288 with 1 Axes>"
            ]
          },
          "metadata": {
            "tags": []
          }
        }
      ]
    },
    {
      "cell_type": "code",
      "metadata": {
        "id": "sUmfwMZrGEHr",
        "colab_type": "code",
        "outputId": "8ce32dbc-fca4-4bcb-b7c7-391bed41341e",
        "colab": {
          "base_uri": "https://localhost:8080/",
          "height": 173
        }
      },
      "source": [
        "learner.fit_one_cycle(config.epochs, max_lr=config.max_lr)\n",
        "# learner.fit_one_cycle(config.epochs, max_lr=1e-02)"
      ],
      "execution_count": 34,
      "outputs": [
        {
          "output_type": "display_data",
          "data": {
            "text/html": [
              "<table border=\"1\" class=\"dataframe\">\n",
              "  <thead>\n",
              "    <tr style=\"text-align: left;\">\n",
              "      <th>epoch</th>\n",
              "      <th>train_loss</th>\n",
              "      <th>valid_loss</th>\n",
              "      <th>time</th>\n",
              "    </tr>\n",
              "  </thead>\n",
              "  <tbody>\n",
              "    <tr>\n",
              "      <td>0</td>\n",
              "      <td>0.672943</td>\n",
              "      <td>0.595060</td>\n",
              "      <td>00:29</td>\n",
              "    </tr>\n",
              "    <tr>\n",
              "      <td>1</td>\n",
              "      <td>0.531161</td>\n",
              "      <td>0.350137</td>\n",
              "      <td>00:28</td>\n",
              "    </tr>\n",
              "    <tr>\n",
              "      <td>2</td>\n",
              "      <td>0.398044</td>\n",
              "      <td>0.253748</td>\n",
              "      <td>00:28</td>\n",
              "    </tr>\n",
              "    <tr>\n",
              "      <td>3</td>\n",
              "      <td>0.320082</td>\n",
              "      <td>0.239689</td>\n",
              "      <td>00:28</td>\n",
              "    </tr>\n",
              "  </tbody>\n",
              "</table>"
            ],
            "text/plain": [
              "<IPython.core.display.HTML object>"
            ]
          },
          "metadata": {
            "tags": []
          }
        }
      ]
    },
    {
      "cell_type": "code",
      "metadata": {
        "id": "zK-KciHgGLMz",
        "colab_type": "code",
        "colab": {}
      },
      "source": [
        "def get_preds_as_nparray(ds_type) -> np.ndarray:\n",
        "    \"\"\"\n",
        "    the get_preds method does not yield the elements in order by default\n",
        "    we borrow the code from the RNNLearner to resort the elements into their correct order\n",
        "    \"\"\"\n",
        "    preds = learner.get_preds(ds_type)[0].detach().cpu().numpy()\n",
        "    sampler = [i for i in databunch.dl(ds_type).sampler]\n",
        "    reverse_sampler = np.argsort(sampler)\n",
        "    return preds[reverse_sampler, :]"
      ],
      "execution_count": 0,
      "outputs": []
    },
    {
      "cell_type": "code",
      "metadata": {
        "id": "RnHEIDX3GRbz",
        "colab_type": "code",
        "outputId": "d698cadb-8850-4657-e368-d5349a52c207",
        "colab": {
          "base_uri": "https://localhost:8080/",
          "height": 17
        }
      },
      "source": [
        "# learner.load(file=DATA_ROOT/'model1.pkl')\n",
        "test_preds = get_preds_as_nparray(DatasetType.Test)"
      ],
      "execution_count": 36,
      "outputs": [
        {
          "output_type": "display_data",
          "data": {
            "text/html": [
              ""
            ],
            "text/plain": [
              "<IPython.core.display.HTML object>"
            ]
          },
          "metadata": {
            "tags": []
          }
        }
      ]
    },
    {
      "cell_type": "code",
      "metadata": {
        "id": "vviaLNkeGVB_",
        "colab_type": "code",
        "colab": {}
      },
      "source": [
        "# sample_submission = pd.read_csv(DATA_ROOT / \"sample_submission.csv\")\n",
        "# if config.testing: sample_submission = sample_submission.head(test.shape[0])\n",
        "# sample_submission[label_cols] = test_preds\n",
        "# sample_submission.to_csv(DATA_ROOT /\"predictions.csv\", index=False)"
      ],
      "execution_count": 0,
      "outputs": []
    },
    {
      "cell_type": "code",
      "metadata": {
        "id": "owGBzah1hJYb",
        "colab_type": "code",
        "colab": {}
      },
      "source": [
        "sample_submission=test\n",
        "for label in label_cols:\n",
        "  sample_submission[label]=0\n",
        "sample_submission[label_cols] = test_preds\n",
        "# sample_submission.to_csv(DATA_ROOT /\"predictions_1.csv\", index=False)\n",
        "# sample_submission.sample(10000).to_csv(DATA_ROOT /\"predictions_sample.csv\", index=False)\n"
      ],
      "execution_count": 0,
      "outputs": []
    },
    {
      "cell_type": "code",
      "metadata": {
        "id": "0kcSoj_dt_yT",
        "colab_type": "code",
        "outputId": "4e285fad-4305-4bb1-b72d-84f8d555ec0a",
        "colab": {
          "base_uri": "https://localhost:8080/",
          "height": 610
        }
      },
      "source": [
        "sample_submission.head(5)"
      ],
      "execution_count": 39,
      "outputs": [
        {
          "output_type": "execute_result",
          "data": {
            "text/html": [
              "<div>\n",
              "<style scoped>\n",
              "    .dataframe tbody tr th:only-of-type {\n",
              "        vertical-align: middle;\n",
              "    }\n",
              "\n",
              "    .dataframe tbody tr th {\n",
              "        vertical-align: top;\n",
              "    }\n",
              "\n",
              "    .dataframe thead th {\n",
              "        text-align: right;\n",
              "    }\n",
              "</style>\n",
              "<table border=\"1\" class=\"dataframe\">\n",
              "  <thead>\n",
              "    <tr style=\"text-align: right;\">\n",
              "      <th></th>\n",
              "      <th>cat_id</th>\n",
              "      <th>category</th>\n",
              "      <th>label_1</th>\n",
              "      <th>label_3</th>\n",
              "      <th>label_5</th>\n",
              "      <th>label_6</th>\n",
              "      <th>label_7</th>\n",
              "      <th>label_8</th>\n",
              "      <th>label_9</th>\n",
              "      <th>label_11</th>\n",
              "      <th>label_12</th>\n",
              "      <th>label_13</th>\n",
              "      <th>label_14</th>\n",
              "      <th>label_15</th>\n",
              "      <th>label_16</th>\n",
              "      <th>label_17</th>\n",
              "      <th>label_18</th>\n",
              "      <th>label_19</th>\n",
              "      <th>label_20</th>\n",
              "      <th>label_21</th>\n",
              "      <th>label_22</th>\n",
              "      <th>label_24</th>\n",
              "      <th>label_25</th>\n",
              "      <th>label_26</th>\n",
              "      <th>label_27</th>\n",
              "      <th>label_28</th>\n",
              "      <th>label_29</th>\n",
              "      <th>label_30</th>\n",
              "      <th>label_31</th>\n",
              "      <th>label_33</th>\n",
              "      <th>label_34</th>\n",
              "      <th>label_35</th>\n",
              "      <th>label_36</th>\n",
              "      <th>label_37</th>\n",
              "      <th>label_38</th>\n",
              "      <th>label_39</th>\n",
              "      <th>label_40</th>\n",
              "      <th>label_41</th>\n",
              "      <th>label_42</th>\n",
              "      <th>label_43</th>\n",
              "      <th>...</th>\n",
              "      <th>label_552</th>\n",
              "      <th>label_553</th>\n",
              "      <th>label_554</th>\n",
              "      <th>label_555</th>\n",
              "      <th>label_556</th>\n",
              "      <th>label_557</th>\n",
              "      <th>label_558</th>\n",
              "      <th>label_559</th>\n",
              "      <th>label_560</th>\n",
              "      <th>label_561</th>\n",
              "      <th>label_562</th>\n",
              "      <th>label_563</th>\n",
              "      <th>label_565</th>\n",
              "      <th>label_566</th>\n",
              "      <th>label_567</th>\n",
              "      <th>label_569</th>\n",
              "      <th>label_571</th>\n",
              "      <th>label_573</th>\n",
              "      <th>label_574</th>\n",
              "      <th>label_575</th>\n",
              "      <th>label_577</th>\n",
              "      <th>label_578</th>\n",
              "      <th>label_579</th>\n",
              "      <th>label_580</th>\n",
              "      <th>label_581</th>\n",
              "      <th>label_582</th>\n",
              "      <th>label_583</th>\n",
              "      <th>label_584</th>\n",
              "      <th>label_586</th>\n",
              "      <th>label_587</th>\n",
              "      <th>label_588</th>\n",
              "      <th>label_589</th>\n",
              "      <th>label_590</th>\n",
              "      <th>label_591</th>\n",
              "      <th>label_592</th>\n",
              "      <th>label_593</th>\n",
              "      <th>label_594</th>\n",
              "      <th>label_596</th>\n",
              "      <th>label_597</th>\n",
              "      <th>label_598</th>\n",
              "    </tr>\n",
              "  </thead>\n",
              "  <tbody>\n",
              "    <tr>\n",
              "      <th>267993</th>\n",
              "      <td>565</td>\n",
              "      <td>Eastrend Enterprises: Wholesale distributor of...</td>\n",
              "      <td>0.209470</td>\n",
              "      <td>0.174692</td>\n",
              "      <td>0.196826</td>\n",
              "      <td>0.148788</td>\n",
              "      <td>0.311951</td>\n",
              "      <td>0.236516</td>\n",
              "      <td>0.167219</td>\n",
              "      <td>0.172729</td>\n",
              "      <td>0.233532</td>\n",
              "      <td>0.191630</td>\n",
              "      <td>0.224905</td>\n",
              "      <td>0.144390</td>\n",
              "      <td>0.188922</td>\n",
              "      <td>0.155976</td>\n",
              "      <td>0.142709</td>\n",
              "      <td>0.341912</td>\n",
              "      <td>0.190423</td>\n",
              "      <td>0.193147</td>\n",
              "      <td>0.187133</td>\n",
              "      <td>0.158304</td>\n",
              "      <td>0.225076</td>\n",
              "      <td>0.168309</td>\n",
              "      <td>0.255901</td>\n",
              "      <td>0.114171</td>\n",
              "      <td>0.174270</td>\n",
              "      <td>0.295128</td>\n",
              "      <td>0.178383</td>\n",
              "      <td>0.158304</td>\n",
              "      <td>0.145237</td>\n",
              "      <td>0.347648</td>\n",
              "      <td>0.192995</td>\n",
              "      <td>0.263220</td>\n",
              "      <td>0.163179</td>\n",
              "      <td>0.219337</td>\n",
              "      <td>0.256832</td>\n",
              "      <td>0.122523</td>\n",
              "      <td>0.176672</td>\n",
              "      <td>0.311846</td>\n",
              "      <td>...</td>\n",
              "      <td>0.168720</td>\n",
              "      <td>0.256832</td>\n",
              "      <td>0.216508</td>\n",
              "      <td>0.259450</td>\n",
              "      <td>0.107250</td>\n",
              "      <td>0.320183</td>\n",
              "      <td>0.259450</td>\n",
              "      <td>0.165863</td>\n",
              "      <td>0.114369</td>\n",
              "      <td>0.269422</td>\n",
              "      <td>0.304352</td>\n",
              "      <td>0.223886</td>\n",
              "      <td>0.159872</td>\n",
              "      <td>0.129954</td>\n",
              "      <td>0.282196</td>\n",
              "      <td>0.082846</td>\n",
              "      <td>0.268749</td>\n",
              "      <td>0.297674</td>\n",
              "      <td>0.145115</td>\n",
              "      <td>0.134776</td>\n",
              "      <td>0.165189</td>\n",
              "      <td>0.240775</td>\n",
              "      <td>0.142113</td>\n",
              "      <td>0.153549</td>\n",
              "      <td>0.216674</td>\n",
              "      <td>0.339718</td>\n",
              "      <td>0.124959</td>\n",
              "      <td>0.262464</td>\n",
              "      <td>0.126138</td>\n",
              "      <td>0.200714</td>\n",
              "      <td>0.364325</td>\n",
              "      <td>0.337422</td>\n",
              "      <td>0.255344</td>\n",
              "      <td>0.214362</td>\n",
              "      <td>0.161056</td>\n",
              "      <td>0.227813</td>\n",
              "      <td>0.130285</td>\n",
              "      <td>0.319440</td>\n",
              "      <td>0.252016</td>\n",
              "      <td>0.196826</td>\n",
              "    </tr>\n",
              "    <tr>\n",
              "      <th>323508</th>\n",
              "      <td>70</td>\n",
              "      <td>Home - The Mobility Cup 2006\\n\"How to Race a M...</td>\n",
              "      <td>0.209631</td>\n",
              "      <td>0.174973</td>\n",
              "      <td>0.196518</td>\n",
              "      <td>0.148664</td>\n",
              "      <td>0.311951</td>\n",
              "      <td>0.237222</td>\n",
              "      <td>0.167763</td>\n",
              "      <td>0.172869</td>\n",
              "      <td>0.234231</td>\n",
              "      <td>0.191177</td>\n",
              "      <td>0.223038</td>\n",
              "      <td>0.144994</td>\n",
              "      <td>0.189371</td>\n",
              "      <td>0.156362</td>\n",
              "      <td>0.143068</td>\n",
              "      <td>0.342132</td>\n",
              "      <td>0.190875</td>\n",
              "      <td>0.192995</td>\n",
              "      <td>0.185357</td>\n",
              "      <td>0.159741</td>\n",
              "      <td>0.226612</td>\n",
              "      <td>0.167763</td>\n",
              "      <td>0.255901</td>\n",
              "      <td>0.113580</td>\n",
              "      <td>0.174270</td>\n",
              "      <td>0.295840</td>\n",
              "      <td>0.178240</td>\n",
              "      <td>0.157525</td>\n",
              "      <td>0.145237</td>\n",
              "      <td>0.347648</td>\n",
              "      <td>0.192236</td>\n",
              "      <td>0.261331</td>\n",
              "      <td>0.161982</td>\n",
              "      <td>0.218669</td>\n",
              "      <td>0.257765</td>\n",
              "      <td>0.122313</td>\n",
              "      <td>0.176388</td>\n",
              "      <td>0.309650</td>\n",
              "      <td>...</td>\n",
              "      <td>0.167900</td>\n",
              "      <td>0.257765</td>\n",
              "      <td>0.217005</td>\n",
              "      <td>0.258326</td>\n",
              "      <td>0.107250</td>\n",
              "      <td>0.320502</td>\n",
              "      <td>0.259263</td>\n",
              "      <td>0.166675</td>\n",
              "      <td>0.113973</td>\n",
              "      <td>0.270480</td>\n",
              "      <td>0.303422</td>\n",
              "      <td>0.224055</td>\n",
              "      <td>0.160792</td>\n",
              "      <td>0.129513</td>\n",
              "      <td>0.282691</td>\n",
              "      <td>0.082254</td>\n",
              "      <td>0.268174</td>\n",
              "      <td>0.297062</td>\n",
              "      <td>0.146453</td>\n",
              "      <td>0.134321</td>\n",
              "      <td>0.164920</td>\n",
              "      <td>0.240953</td>\n",
              "      <td>0.143308</td>\n",
              "      <td>0.153803</td>\n",
              "      <td>0.215021</td>\n",
              "      <td>0.338296</td>\n",
              "      <td>0.124213</td>\n",
              "      <td>0.260954</td>\n",
              "      <td>0.126246</td>\n",
              "      <td>0.199776</td>\n",
              "      <td>0.362631</td>\n",
              "      <td>0.337749</td>\n",
              "      <td>0.256459</td>\n",
              "      <td>0.215021</td>\n",
              "      <td>0.161056</td>\n",
              "      <td>0.228501</td>\n",
              "      <td>0.129733</td>\n",
              "      <td>0.319440</td>\n",
              "      <td>0.251648</td>\n",
              "      <td>0.196363</td>\n",
              "    </tr>\n",
              "    <tr>\n",
              "      <th>41181</th>\n",
              "      <td>156</td>\n",
              "      <td>RTD is now one of the largest suppliers of kit...</td>\n",
              "      <td>0.211580</td>\n",
              "      <td>0.173849</td>\n",
              "      <td>0.197599</td>\n",
              "      <td>0.148788</td>\n",
              "      <td>0.317109</td>\n",
              "      <td>0.237930</td>\n",
              "      <td>0.169681</td>\n",
              "      <td>0.173989</td>\n",
              "      <td>0.234582</td>\n",
              "      <td>0.191933</td>\n",
              "      <td>0.223377</td>\n",
              "      <td>0.143788</td>\n",
              "      <td>0.190875</td>\n",
              "      <td>0.155463</td>\n",
              "      <td>0.144149</td>\n",
              "      <td>0.341363</td>\n",
              "      <td>0.192388</td>\n",
              "      <td>0.193300</td>\n",
              "      <td>0.184327</td>\n",
              "      <td>0.160135</td>\n",
              "      <td>0.227298</td>\n",
              "      <td>0.168446</td>\n",
              "      <td>0.258326</td>\n",
              "      <td>0.112795</td>\n",
              "      <td>0.174129</td>\n",
              "      <td>0.294316</td>\n",
              "      <td>0.179531</td>\n",
              "      <td>0.158174</td>\n",
              "      <td>0.143068</td>\n",
              "      <td>0.348091</td>\n",
              "      <td>0.193452</td>\n",
              "      <td>0.261142</td>\n",
              "      <td>0.161452</td>\n",
              "      <td>0.219003</td>\n",
              "      <td>0.257952</td>\n",
              "      <td>0.120853</td>\n",
              "      <td>0.176388</td>\n",
              "      <td>0.312895</td>\n",
              "      <td>...</td>\n",
              "      <td>0.167763</td>\n",
              "      <td>0.257392</td>\n",
              "      <td>0.216674</td>\n",
              "      <td>0.260013</td>\n",
              "      <td>0.107437</td>\n",
              "      <td>0.322206</td>\n",
              "      <td>0.260578</td>\n",
              "      <td>0.164651</td>\n",
              "      <td>0.113580</td>\n",
              "      <td>0.272411</td>\n",
              "      <td>0.302288</td>\n",
              "      <td>0.223208</td>\n",
              "      <td>0.159087</td>\n",
              "      <td>0.128416</td>\n",
              "      <td>0.283583</td>\n",
              "      <td>0.082994</td>\n",
              "      <td>0.272121</td>\n",
              "      <td>0.299208</td>\n",
              "      <td>0.146820</td>\n",
              "      <td>0.133415</td>\n",
              "      <td>0.164920</td>\n",
              "      <td>0.239527</td>\n",
              "      <td>0.143788</td>\n",
              "      <td>0.154567</td>\n",
              "      <td>0.216012</td>\n",
              "      <td>0.337204</td>\n",
              "      <td>0.124213</td>\n",
              "      <td>0.259450</td>\n",
              "      <td>0.125708</td>\n",
              "      <td>0.201656</td>\n",
              "      <td>0.361615</td>\n",
              "      <td>0.336876</td>\n",
              "      <td>0.256087</td>\n",
              "      <td>0.213541</td>\n",
              "      <td>0.162646</td>\n",
              "      <td>0.229363</td>\n",
              "      <td>0.130175</td>\n",
              "      <td>0.317744</td>\n",
              "      <td>0.250913</td>\n",
              "      <td>0.195134</td>\n",
              "    </tr>\n",
              "    <tr>\n",
              "      <th>82282</th>\n",
              "      <td>225</td>\n",
              "      <td>L &amp; L Publishing - The best in magic videos, d...</td>\n",
              "      <td>0.209146</td>\n",
              "      <td>0.174551</td>\n",
              "      <td>0.196518</td>\n",
              "      <td>0.148047</td>\n",
              "      <td>0.314682</td>\n",
              "      <td>0.236693</td>\n",
              "      <td>0.168446</td>\n",
              "      <td>0.172450</td>\n",
              "      <td>0.234582</td>\n",
              "      <td>0.190423</td>\n",
              "      <td>0.223716</td>\n",
              "      <td>0.143908</td>\n",
              "      <td>0.189221</td>\n",
              "      <td>0.155848</td>\n",
              "      <td>0.144028</td>\n",
              "      <td>0.343012</td>\n",
              "      <td>0.191328</td>\n",
              "      <td>0.192691</td>\n",
              "      <td>0.183740</td>\n",
              "      <td>0.159479</td>\n",
              "      <td>0.225587</td>\n",
              "      <td>0.167763</td>\n",
              "      <td>0.255715</td>\n",
              "      <td>0.112991</td>\n",
              "      <td>0.173568</td>\n",
              "      <td>0.295942</td>\n",
              "      <td>0.178383</td>\n",
              "      <td>0.156749</td>\n",
              "      <td>0.144028</td>\n",
              "      <td>0.348091</td>\n",
              "      <td>0.191026</td>\n",
              "      <td>0.260954</td>\n",
              "      <td>0.161982</td>\n",
              "      <td>0.218836</td>\n",
              "      <td>0.259263</td>\n",
              "      <td>0.122104</td>\n",
              "      <td>0.176388</td>\n",
              "      <td>0.310067</td>\n",
              "      <td>...</td>\n",
              "      <td>0.168309</td>\n",
              "      <td>0.257392</td>\n",
              "      <td>0.217670</td>\n",
              "      <td>0.259263</td>\n",
              "      <td>0.107813</td>\n",
              "      <td>0.319652</td>\n",
              "      <td>0.260578</td>\n",
              "      <td>0.166269</td>\n",
              "      <td>0.113580</td>\n",
              "      <td>0.271445</td>\n",
              "      <td>0.302906</td>\n",
              "      <td>0.224395</td>\n",
              "      <td>0.160266</td>\n",
              "      <td>0.129403</td>\n",
              "      <td>0.282988</td>\n",
              "      <td>0.082254</td>\n",
              "      <td>0.268941</td>\n",
              "      <td>0.296960</td>\n",
              "      <td>0.146820</td>\n",
              "      <td>0.133981</td>\n",
              "      <td>0.164920</td>\n",
              "      <td>0.240775</td>\n",
              "      <td>0.142829</td>\n",
              "      <td>0.153803</td>\n",
              "      <td>0.213705</td>\n",
              "      <td>0.338186</td>\n",
              "      <td>0.123683</td>\n",
              "      <td>0.259450</td>\n",
              "      <td>0.126353</td>\n",
              "      <td>0.199308</td>\n",
              "      <td>0.362743</td>\n",
              "      <td>0.337749</td>\n",
              "      <td>0.256646</td>\n",
              "      <td>0.213213</td>\n",
              "      <td>0.160924</td>\n",
              "      <td>0.228501</td>\n",
              "      <td>0.129183</td>\n",
              "      <td>0.319865</td>\n",
              "      <td>0.250913</td>\n",
              "      <td>0.195902</td>\n",
              "    </tr>\n",
              "    <tr>\n",
              "      <th>150090</th>\n",
              "      <td>345</td>\n",
              "      <td>Private Health Insurance - Next Day Delivery!\\...</td>\n",
              "      <td>0.209793</td>\n",
              "      <td>0.175538</td>\n",
              "      <td>0.195440</td>\n",
              "      <td>0.148788</td>\n",
              "      <td>0.311217</td>\n",
              "      <td>0.236693</td>\n",
              "      <td>0.167491</td>\n",
              "      <td>0.171616</td>\n",
              "      <td>0.233357</td>\n",
              "      <td>0.191630</td>\n",
              "      <td>0.223547</td>\n",
              "      <td>0.146331</td>\n",
              "      <td>0.190573</td>\n",
              "      <td>0.155976</td>\n",
              "      <td>0.143427</td>\n",
              "      <td>0.342022</td>\n",
              "      <td>0.190875</td>\n",
              "      <td>0.193757</td>\n",
              "      <td>0.185357</td>\n",
              "      <td>0.159610</td>\n",
              "      <td>0.228156</td>\n",
              "      <td>0.168994</td>\n",
              "      <td>0.255158</td>\n",
              "      <td>0.113187</td>\n",
              "      <td>0.175256</td>\n",
              "      <td>0.295433</td>\n",
              "      <td>0.178669</td>\n",
              "      <td>0.158304</td>\n",
              "      <td>0.145601</td>\n",
              "      <td>0.347094</td>\n",
              "      <td>0.193300</td>\n",
              "      <td>0.262086</td>\n",
              "      <td>0.161188</td>\n",
              "      <td>0.218169</td>\n",
              "      <td>0.255715</td>\n",
              "      <td>0.122944</td>\n",
              "      <td>0.174833</td>\n",
              "      <td>0.310381</td>\n",
              "      <td>...</td>\n",
              "      <td>0.168173</td>\n",
              "      <td>0.256832</td>\n",
              "      <td>0.217338</td>\n",
              "      <td>0.256087</td>\n",
              "      <td>0.106691</td>\n",
              "      <td>0.318591</td>\n",
              "      <td>0.259263</td>\n",
              "      <td>0.166134</td>\n",
              "      <td>0.114567</td>\n",
              "      <td>0.271445</td>\n",
              "      <td>0.303938</td>\n",
              "      <td>0.224565</td>\n",
              "      <td>0.160135</td>\n",
              "      <td>0.129513</td>\n",
              "      <td>0.283980</td>\n",
              "      <td>0.082549</td>\n",
              "      <td>0.268174</td>\n",
              "      <td>0.296247</td>\n",
              "      <td>0.146331</td>\n",
              "      <td>0.134208</td>\n",
              "      <td>0.166134</td>\n",
              "      <td>0.240061</td>\n",
              "      <td>0.143788</td>\n",
              "      <td>0.153169</td>\n",
              "      <td>0.216674</td>\n",
              "      <td>0.337859</td>\n",
              "      <td>0.124319</td>\n",
              "      <td>0.261519</td>\n",
              "      <td>0.126461</td>\n",
              "      <td>0.199620</td>\n",
              "      <td>0.361052</td>\n",
              "      <td>0.339061</td>\n",
              "      <td>0.257205</td>\n",
              "      <td>0.215516</td>\n",
              "      <td>0.161056</td>\n",
              "      <td>0.227985</td>\n",
              "      <td>0.130618</td>\n",
              "      <td>0.319652</td>\n",
              "      <td>0.251280</td>\n",
              "      <td>0.196209</td>\n",
              "    </tr>\n",
              "  </tbody>\n",
              "</table>\n",
              "<p>5 rows × 538 columns</p>\n",
              "</div>"
            ],
            "text/plain": [
              "        cat_id  ... label_598\n",
              "267993     565  ...  0.196826\n",
              "323508      70  ...  0.196363\n",
              "41181      156  ...  0.195134\n",
              "82282      225  ...  0.195902\n",
              "150090     345  ...  0.196209\n",
              "\n",
              "[5 rows x 538 columns]"
            ]
          },
          "metadata": {
            "tags": []
          },
          "execution_count": 39
        }
      ]
    },
    {
      "cell_type": "code",
      "metadata": {
        "id": "2qIkX6fVlZgb",
        "colab_type": "code",
        "colab": {}
      },
      "source": [
        "# sample_submission.to_csv(DATA_ROOT /\"predictions.csv\", index=False)"
      ],
      "execution_count": 0,
      "outputs": []
    },
    {
      "cell_type": "code",
      "metadata": {
        "id": "K2oIINu7GZFr",
        "colab_type": "code",
        "colab": {}
      },
      "source": [
        "# learner.export(file=DATA_ROOT /\"Model1.pkl\")\n",
        "# learner.save(file=DATA_ROOT/'Final_Model_BERT.pkl')"
      ],
      "execution_count": 0,
      "outputs": []
    },
    {
      "cell_type": "code",
      "metadata": {
        "id": "4UvKZ30gQCYM",
        "colab_type": "code",
        "outputId": "b307ec8f-97d5-4e23-90d3-17ee1405da37",
        "colab": {
          "base_uri": "https://localhost:8080/",
          "height": 34
        }
      },
      "source": [
        "learner.validate()"
      ],
      "execution_count": 42,
      "outputs": [
        {
          "output_type": "display_data",
          "data": {
            "text/html": [
              ""
            ],
            "text/plain": [
              "<IPython.core.display.HTML object>"
            ]
          },
          "metadata": {
            "tags": []
          }
        },
        {
          "output_type": "execute_result",
          "data": {
            "text/plain": [
              "[0.23968941]"
            ]
          },
          "metadata": {
            "tags": []
          },
          "execution_count": 42
        }
      ]
    },
    {
      "cell_type": "code",
      "metadata": {
        "id": "dp6NbEjgsyOm",
        "colab_type": "code",
        "colab": {}
      },
      "source": [
        ""
      ],
      "execution_count": 0,
      "outputs": []
    },
    {
      "cell_type": "code",
      "metadata": {
        "id": "uZIFzEC8cOFU",
        "colab_type": "code",
        "colab": {}
      },
      "source": [
        ""
      ],
      "execution_count": 0,
      "outputs": []
    },
    {
      "cell_type": "code",
      "metadata": {
        "id": "Neslg0FBDlkh",
        "colab_type": "code",
        "colab": {}
      },
      "source": [
        "learner.save(file=DATA_ROOT/'Model_DMOZ(all_cat).pkl')"
      ],
      "execution_count": 0,
      "outputs": []
    },
    {
      "cell_type": "code",
      "metadata": {
        "id": "Qghe_JTMDmdh",
        "colab_type": "code",
        "colab": {}
      },
      "source": [
        ""
      ],
      "execution_count": 0,
      "outputs": []
    }
  ]
}