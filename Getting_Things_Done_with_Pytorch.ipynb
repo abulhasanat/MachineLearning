{
  "nbformat": 4,
  "nbformat_minor": 0,
  "metadata": {
    "colab": {
      "name": "Getting-Things-Done-with-Pytorch.ipynb",
      "provenance": [],
      "authorship_tag": "ABX9TyPjYtnTfWELIYjjF4KZGV9H",
      "include_colab_link": true
    },
    "kernelspec": {
      "name": "python3",
      "display_name": "Python 3"
    }
  },
  "cells": [
    {
      "cell_type": "markdown",
      "metadata": {
        "id": "view-in-github",
        "colab_type": "text"
      },
      "source": [
        "<a href=\"https://colab.research.google.com/github/abulhasanat/MachineLearning/blob/master/Getting_Things_Done_with_Pytorch.ipynb\" target=\"_parent\"><img src=\"https://colab.research.google.com/assets/colab-badge.svg\" alt=\"Open In Colab\"/></a>"
      ]
    },
    {
      "cell_type": "code",
      "metadata": {
        "id": "Vb5MTVwEOkKs",
        "colab_type": "code",
        "colab": {
          "base_uri": "https://localhost:8080/",
          "height": 51
        },
        "outputId": "9a6d0091-0e03-4832-fb80-340d91983b7b"
      },
      "source": [
        "!pip install -qq google-play-scraper"
      ],
      "execution_count": 2,
      "outputs": [
        {
          "output_type": "stream",
          "text": [
            "\u001b[?25l\r\u001b[K     |██████▉                         | 10kB 21.7MB/s eta 0:00:01\r\u001b[K     |█████████████▋                  | 20kB 2.2MB/s eta 0:00:01\r\u001b[K     |████████████████████▍           | 30kB 2.6MB/s eta 0:00:01\r\u001b[K     |███████████████████████████▎    | 40kB 2.9MB/s eta 0:00:01\r\u001b[K     |████████████████████████████████| 51kB 2.0MB/s \n",
            "\u001b[?25h  Building wheel for google-play-scraper (setup.py) ... \u001b[?25l\u001b[?25hdone\n"
          ],
          "name": "stdout"
        }
      ]
    },
    {
      "cell_type": "code",
      "metadata": {
        "id": "tzFS4VH5OzlN",
        "colab_type": "code",
        "colab": {
          "base_uri": "https://localhost:8080/",
          "height": 71
        },
        "outputId": "89ec8d7d-a27e-45c4-a6c0-0941c109af8d"
      },
      "source": [
        "import json\n",
        "import pandas as pd\n",
        "from tqdm import tqdm\n",
        "\n",
        "import seaborn as sns\n",
        "import matplotlib.pyplot as plt\n",
        "\n",
        "from pygments import highlight\n",
        "from pygments.lexers import JsonLexer\n",
        "from pygments.formatters import TerminalFormatter\n",
        "\n",
        "from google_play_scraper import Sort, reviews, app\n",
        "\n",
        "%matplotlib inline\n",
        "%config InlineBackend.figure_format='retina'\n",
        "\n",
        "sns.set(style='whitegrid', palette='muted', font_scale=1.2)"
      ],
      "execution_count": 3,
      "outputs": [
        {
          "output_type": "stream",
          "text": [
            "/usr/local/lib/python3.6/dist-packages/statsmodels/tools/_testing.py:19: FutureWarning: pandas.util.testing is deprecated. Use the functions in the public API at pandas.testing instead.\n",
            "  import pandas.util.testing as tm\n"
          ],
          "name": "stderr"
        }
      ]
    },
    {
      "cell_type": "markdown",
      "metadata": {
        "id": "zBOA6QOMWm5z",
        "colab_type": "text"
      },
      "source": [
        "# The Goal of the Dataset\n",
        "You want to get feedback for your app. Both negative and positive are good. But the negative one can reveal critical features that are missing or downtime of your service (when it is much more frequent).\n",
        "\n",
        "Lucky for us, Google Play has plenty of apps, reviews, and scores. We can scrape app info and reviews using the google-play-scraper package.\n",
        "\n",
        "You can choose plenty of apps to analyze. But different app categories contain different audiences, domain-specific quirks, and more. We'll start simple.\n",
        "\n",
        "We want apps that have been around some time, so opinion is collected organically. We want to mitigate advertising strategies as much as possible. Apps are constantly being updated, so the time of the review is an important factor.\n",
        "\n",
        "Ideally, you would want to collect every possible review and work with that. However, in the real world data is often limited (too large, inaccessible, etc). So, we'll do the best we can.\n",
        "\n",
        "Let's choose some apps that fit the criteria from the Productivity category. We'll use AppAnnie to select some of the top US apps:"
      ]
    },
    {
      "cell_type": "code",
      "metadata": {
        "id": "V1c63RSyUKkv",
        "colab_type": "code",
        "colab": {}
      },
      "source": [
        "app_packages = [\n",
        "  'com.anydo',\n",
        "  'com.todoist',\n",
        "  'com.ticktick.task',\n",
        "  'com.habitrpg.android.habitica',\n",
        "  'cc.forestapp',\n",
        "  'com.oristats.habitbull',\n",
        "  'com.levor.liferpgtasks',\n",
        "  'com.habitnow',\n",
        "  'com.microsoft.todos',\n",
        "  'prox.lab.calclock',\n",
        "  'com.gmail.jmartindev.timetune',\n",
        "  'com.artfulagenda.app',\n",
        "  'com.tasks.android',\n",
        "  'com.appgenix.bizcal',\n",
        "  'com.appxy.planner'\n",
        "]"
      ],
      "execution_count": 0,
      "outputs": []
    },
    {
      "cell_type": "code",
      "metadata": {
        "id": "uPvtuZhnWUHY",
        "colab_type": "code",
        "colab": {
          "base_uri": "https://localhost:8080/",
          "height": 34
        },
        "outputId": "fe2dfd8b-ac41-4607-8df5-9ff96c4a26e0"
      },
      "source": [
        "app_infos = []\n",
        "\n",
        "for ap in tqdm(app_packages):\n",
        "  info = app(ap, lang='en', country='us')\n",
        "  del info['comments']\n",
        "  app_infos.append(info)"
      ],
      "execution_count": 5,
      "outputs": [
        {
          "output_type": "stream",
          "text": [
            "100%|██████████| 15/15 [00:02<00:00,  5.63it/s]\n"
          ],
          "name": "stderr"
        }
      ]
    },
    {
      "cell_type": "code",
      "metadata": {
        "id": "zq8dbU3FWZA1",
        "colab_type": "code",
        "colab": {}
      },
      "source": [
        "def print_json(json_object):\n",
        "  json_str = json.dumps(\n",
        "    json_object, \n",
        "    indent=2, \n",
        "    sort_keys=True, \n",
        "    default=str\n",
        "  )\n",
        "  print(highlight(json_str, JsonLexer(), TerminalFormatter()))"
      ],
      "execution_count": 0,
      "outputs": []
    },
    {
      "cell_type": "code",
      "metadata": {
        "id": "KKO1M7i-W2gv",
        "colab_type": "code",
        "colab": {
          "base_uri": "https://localhost:8080/",
          "height": 1000
        },
        "outputId": "23b0e865-afcf-44be-d781-4bae60ab674a"
      },
      "source": [
        "print_json(app_infos[0])"
      ],
      "execution_count": 7,
      "outputs": [
        {
          "output_type": "stream",
          "text": [
            "{\n",
            "  \u001b[34;01m\"adSupported\"\u001b[39;49;00m: \u001b[34mnull\u001b[39;49;00m,\n",
            "  \u001b[34;01m\"androidVersion\"\u001b[39;49;00m: \u001b[33m\"Varies\"\u001b[39;49;00m,\n",
            "  \u001b[34;01m\"androidVersionText\"\u001b[39;49;00m: \u001b[33m\"Varies with device\"\u001b[39;49;00m,\n",
            "  \u001b[34;01m\"appId\"\u001b[39;49;00m: \u001b[33m\"com.anydo\"\u001b[39;49;00m,\n",
            "  \u001b[34;01m\"containsAds\"\u001b[39;49;00m: \u001b[34mnull\u001b[39;49;00m,\n",
            "  \u001b[34;01m\"contentRating\"\u001b[39;49;00m: \u001b[33m\"Everyone\"\u001b[39;49;00m,\n",
            "  \u001b[34;01m\"contentRatingDescription\"\u001b[39;49;00m: \u001b[34mnull\u001b[39;49;00m,\n",
            "  \u001b[34;01m\"currency\"\u001b[39;49;00m: \u001b[33m\"USD\"\u001b[39;49;00m,\n",
            "  \u001b[34;01m\"description\"\u001b[39;49;00m: \u001b[33m\"<b>\\ud83c\\udfc6 Editor's Choice by Google</b>\\r\\n\\r\\nAny.do is a To Do List, Calendar, Planner, Tasks & Reminders App That Helps Over 25M People Stay Organized and Get More Done.\\r\\n\\r\\n<b>\\ud83e\\udd47 \\\"It\\u2019s A MUST HAVE PLANNER & TO DO LIST APP\\\" (NYTimes, USA TODAY, WSJ & Lifehacker).</b>\\r\\n\\r\\nAny.do is a free to-do list, planner & calendar app for managing and organizing your daily tasks, to-do lists, notes, reminders, checklists, calendar events, grocery lists and more.\\r\\n\\r\\n\\ud83d\\udcc5 Organize Your Tasks & To-Do List in Seconds\\r\\n\\r\\n\\u2022 ADVANCED CALENDAR & DAILY PLANNER - Keep your to-do list and calendar events always at hand with our calendar widget. Any.do to-do list & planner support daily calendar view, 3-day Calendar view, Weekly calendar view & agenda view, with built-in reminders. Review and organize your calendar events and to do list side by side.\\r\\n\\r\\n\\u2022 SYNCS SEAMLESSLY - Keeps all your to do list, tasks, reminders, notes, calendar & agenda always in sync so you\\u2019ll never forget a thing. Sync your phone\\u2019s calendar, google calendar, Facebook events, outlook calendar or any other calendar so you don\\u2019t forget an important event.\\r\\n\\r\\n\\u2022 SET REMINDERS - One time reminders, recurring reminders, Location reminders & voice reminders. NEW! Easily create tasks and get reminders in WhatsApp.\\r\\n\\r\\n\\u2022 WORK TOGETHER - Share your to do list and assign tasks with your friends, family & colleagues from your task list to collaborate and get more done. \\r\\n\\r\\n---\\r\\n\\r\\nALL-IN-ONE PLANNER & CALENDAR APP FOR GETTING THINGS DONE\\r\\nCreate and set reminders with voice to your to do list. \\r\\nFor better task management flow we added a calendar integration to keep your agenda always up to date. \\r\\nFor better productivity, we added recurring reminders, location reminders, one-time reminder, sub-tasks, notes & file attachments. \\r\\nTo keep your to do list up to date, we\\u2019ve added a daily planner and focus mode.\\r\\n\\r\\nINTEGRATIONS\\r\\nAny.do To do list, Calendar, planner & Reminders Integrates with Google Calendar, Outlook, WhatsApp, Slack, Gmail, Google Tasks, Evernote, Trello, Wunderlist, Todoist, Zapier, Asana, Microsoft to-do, Salesforce, OneNote, Google Assistant, Amazon Alexa, Office 365, Exchange, Jira & More.\\r\\n\\r\\nTO DO LIST, CALENDAR, PLANNER & REMINDERS MADE SIMPLE\\r\\nDesigned to keep you on top of your to do list, tasks and calendar events with no hassle. With intuitive drag and drop of tasks, swiping to mark to-do's as complete, and shaking your device to remove completed from your to do list - you can stay organized and enjoy every minute of it.\\r\\n\\r\\nPOWERFUL TO DO LIST TASK MANAGEMENT\\r\\nAdd a to do list item straight from your email / Gmail / Outlook inbox by forwarding do@Any.do. Attach files from your computer, Dropbox, or Google Drive to your to- tasks.\\r\\n\\r\\nDAILY PLANNER & LIFE ORGANIZER\\r\\nAny.do is a to do list, a calendar, an inbox, a notepad, a checklist, task list, a board for post its or sticky notes, a task & project management tool, a reminder app, a daily planner, a family organizer, an agenda, a bill planner and overall the simplest productivity tool you will ever have. \\r\\n\\r\\nSHARE LISTS, ASSIGN & ORGANIZE TASKS\\r\\nTo plan & organize projects has never been easier. Now you can share lists between family members, assign tasks to each other, chat and much more. Any.do will help you and the people around you stay in-sync and get reminders so that you can focus on what matters, knowing you had a productive day and crossed off your to do list.\\r\\n\\r\\nGROCERY LIST & SHOPPING LIST\\r\\nAny.do task list, calendar, agenda, reminders & planner is also great for shopping lists at the grocery store. Simply create a list on Any.do, share it with your loved ones and see them adding their shopping items in real-time.\"\u001b[39;49;00m,\n",
            "  \u001b[34;01m\"descriptionHTML\"\u001b[39;49;00m: \u001b[33m\"<b>\\ud83c\\udfc6 Editor&#39;s Choice by Google</b><br><br>Any.do is a To Do List, Calendar, Planner, Tasks &amp; Reminders App That Helps Over 25M People Stay Organized and Get More Done.<br><br><b>\\ud83e\\udd47 &quot;It\\u2019s A MUST HAVE PLANNER &amp; TO DO LIST APP&quot; (NYTimes, USA TODAY, WSJ &amp; Lifehacker).</b><br><br>Any.do is a free to-do list, planner &amp; calendar app for managing and organizing your daily tasks, to-do lists, notes, reminders, checklists, calendar events, grocery lists and more.<br><br>\\ud83d\\udcc5 Organize Your Tasks &amp; To-Do List in Seconds<br><br>\\u2022 ADVANCED CALENDAR &amp; DAILY PLANNER - Keep your to-do list and calendar events always at hand with our calendar widget. Any.do to-do list &amp; planner support daily calendar view, 3-day Calendar view, Weekly calendar view &amp; agenda view, with built-in reminders. Review and organize your calendar events and to do list side by side.<br><br>\\u2022 SYNCS SEAMLESSLY - Keeps all your to do list, tasks, reminders, notes, calendar &amp; agenda always in sync so you\\u2019ll never forget a thing. Sync your phone\\u2019s calendar, google calendar, Facebook events, outlook calendar or any other calendar so you don\\u2019t forget an important event.<br><br>\\u2022 SET REMINDERS - One time reminders, recurring reminders, Location reminders &amp; voice reminders. NEW! Easily create tasks and get reminders in WhatsApp.<br><br>\\u2022 WORK TOGETHER - Share your to do list and assign tasks with your friends, family &amp; colleagues from your task list to collaborate and get more done. <br><br>---<br><br>ALL-IN-ONE PLANNER &amp; CALENDAR APP FOR GETTING THINGS DONE<br>Create and set reminders with voice to your to do list. <br>For better task management flow we added a calendar integration to keep your agenda always up to date. <br>For better productivity, we added recurring reminders, location reminders, one-time reminder, sub-tasks, notes &amp; file attachments. <br>To keep your to do list up to date, we\\u2019ve added a daily planner and focus mode.<br><br>INTEGRATIONS<br>Any.do To do list, Calendar, planner &amp; Reminders Integrates with Google Calendar, Outlook, WhatsApp, Slack, Gmail, Google Tasks, Evernote, Trello, Wunderlist, Todoist, Zapier, Asana, Microsoft to-do, Salesforce, OneNote, Google Assistant, Amazon Alexa, Office 365, Exchange, Jira &amp; More.<br><br>TO DO LIST, CALENDAR, PLANNER &amp; REMINDERS MADE SIMPLE<br>Designed to keep you on top of your to do list, tasks and calendar events with no hassle. With intuitive drag and drop of tasks, swiping to mark to-do&#39;s as complete, and shaking your device to remove completed from your to do list - you can stay organized and enjoy every minute of it.<br><br>POWERFUL TO DO LIST TASK MANAGEMENT<br>Add a to do list item straight from your email / Gmail / Outlook inbox by forwarding do@Any.do. Attach files from your computer, Dropbox, or Google Drive to your to- tasks.<br><br>DAILY PLANNER &amp; LIFE ORGANIZER<br>Any.do is a to do list, a calendar, an inbox, a notepad, a checklist, task list, a board for post its or sticky notes, a task &amp; project management tool, a reminder app, a daily planner, a family organizer, an agenda, a bill planner and overall the simplest productivity tool you will ever have. <br><br>SHARE LISTS, ASSIGN &amp; ORGANIZE TASKS<br>To plan &amp; organize projects has never been easier. Now you can share lists between family members, assign tasks to each other, chat and much more. Any.do will help you and the people around you stay in-sync and get reminders so that you can focus on what matters, knowing you had a productive day and crossed off your to do list.<br><br>GROCERY LIST &amp; SHOPPING LIST<br>Any.do task list, calendar, agenda, reminders &amp; planner is also great for shopping lists at the grocery store. Simply create a list on Any.do, share it with your loved ones and see them adding their shopping items in real-time.\"\u001b[39;49;00m,\n",
            "  \u001b[34;01m\"developer\"\u001b[39;49;00m: \u001b[33m\"Any.do Calendar & To-Do List\"\u001b[39;49;00m,\n",
            "  \u001b[34;01m\"developerAddress\"\u001b[39;49;00m: \u001b[33m\"Any.do Inc.\\n\\n6  Agripas Street, Tel Aviv\\n6249106 ISRAEL\"\u001b[39;49;00m,\n",
            "  \u001b[34;01m\"developerEmail\"\u001b[39;49;00m: \u001b[33m\"feedback+androidtodo@any.do\"\u001b[39;49;00m,\n",
            "  \u001b[34;01m\"developerId\"\u001b[39;49;00m: \u001b[33m\"5304780265295461149\"\u001b[39;49;00m,\n",
            "  \u001b[34;01m\"developerInternalID\"\u001b[39;49;00m: \u001b[33m\"5304780265295461149\"\u001b[39;49;00m,\n",
            "  \u001b[34;01m\"developerWebsite\"\u001b[39;49;00m: \u001b[33m\"https://www.any.do\"\u001b[39;49;00m,\n",
            "  \u001b[34;01m\"free\"\u001b[39;49;00m: \u001b[34mtrue\u001b[39;49;00m,\n",
            "  \u001b[34;01m\"genre\"\u001b[39;49;00m: \u001b[33m\"Productivity\"\u001b[39;49;00m,\n",
            "  \u001b[34;01m\"genreId\"\u001b[39;49;00m: \u001b[33m\"PRODUCTIVITY\"\u001b[39;49;00m,\n",
            "  \u001b[34;01m\"headerImage\"\u001b[39;49;00m: \u001b[33m\"https://lh3.googleusercontent.com/umhDP6phYKbuh-WzrSu6_bgFmAWP4qf9WsktFVBWDCMmkIwArJmyQKka7A1VcjFoEQc\"\u001b[39;49;00m,\n",
            "  \u001b[34;01m\"histogram\"\u001b[39;49;00m: [\n",
            "    \u001b[34m29558\u001b[39;49;00m,\n",
            "    \u001b[34m9737\u001b[39;49;00m,\n",
            "    \u001b[34m14879\u001b[39;49;00m,\n",
            "    \u001b[34m31298\u001b[39;49;00m,\n",
            "    \u001b[34m261555\u001b[39;49;00m\n",
            "  ],\n",
            "  \u001b[34;01m\"icon\"\u001b[39;49;00m: \u001b[33m\"https://lh3.googleusercontent.com/zgOLUXCHkF91H8xuMTMLT17smwgLPwSBjUlKVWF-cZRFjlv-Uvtman7DiHEii54fbEE\"\u001b[39;49;00m,\n",
            "  \u001b[34;01m\"installs\"\u001b[39;49;00m: \u001b[33m\"10,000,000+\"\u001b[39;49;00m,\n",
            "  \u001b[34;01m\"minInstalls\"\u001b[39;49;00m: \u001b[34m10000000\u001b[39;49;00m,\n",
            "  \u001b[34;01m\"offersIAP\"\u001b[39;49;00m: \u001b[34mtrue\u001b[39;49;00m,\n",
            "  \u001b[34;01m\"originalPrice\"\u001b[39;49;00m: \u001b[34mnull\u001b[39;49;00m,\n",
            "  \u001b[34;01m\"price\"\u001b[39;49;00m: \u001b[34m0\u001b[39;49;00m,\n",
            "  \u001b[34;01m\"privacyPolicy\"\u001b[39;49;00m: \u001b[33m\"https://www.any.do/privacy\"\u001b[39;49;00m,\n",
            "  \u001b[34;01m\"ratings\"\u001b[39;49;00m: \u001b[34m347031\u001b[39;49;00m,\n",
            "  \u001b[34;01m\"recentChanges\"\u001b[39;49;00m: \u001b[33m\"\\u2192 Create tasks and reminders with natural language - works in all languages\\r\\n\\u2192 Improved security and enhanced performance\\r\\n\\u2192 Improved localization\"\u001b[39;49;00m,\n",
            "  \u001b[34;01m\"recentChangesHTML\"\u001b[39;49;00m: \u001b[33m\"\\u2192 Create tasks and reminders with natural language - works in all languages<br>\\u2192 Improved security and enhanced performance<br>\\u2192 Improved localization\"\u001b[39;49;00m,\n",
            "  \u001b[34;01m\"released\"\u001b[39;49;00m: \u001b[33m\"Nov 10, 2011\"\u001b[39;49;00m,\n",
            "  \u001b[34;01m\"reviews\"\u001b[39;49;00m: \u001b[34m123429\u001b[39;49;00m,\n",
            "  \u001b[34;01m\"sale\"\u001b[39;49;00m: \u001b[34mfalse\u001b[39;49;00m,\n",
            "  \u001b[34;01m\"saleText\"\u001b[39;49;00m: \u001b[34mnull\u001b[39;49;00m,\n",
            "  \u001b[34;01m\"saleTime\"\u001b[39;49;00m: \u001b[34mnull\u001b[39;49;00m,\n",
            "  \u001b[34;01m\"score\"\u001b[39;49;00m: \u001b[34m4.399171\u001b[39;49;00m,\n",
            "  \u001b[34;01m\"screenshots\"\u001b[39;49;00m: [\n",
            "    \u001b[33m\"https://lh3.googleusercontent.com/DKoi-PetUjxA72WfW5xkZFYdJiTWF11octVoepNaNRZ5NQaG4S_Hi285zpvFud8otQ\"\u001b[39;49;00m,\n",
            "    \u001b[33m\"https://lh3.googleusercontent.com/Zpjana_e6VV4qAWkOiE3QJOQYEEjLfuwCSLorLDZTVYPtQKf10tOD4jY-5S3b-oB5OMg\"\u001b[39;49;00m,\n",
            "    \u001b[33m\"https://lh3.googleusercontent.com/vgM8-VcnNjgNBTtuneMZRUahF7qTTJuKqc5WlGibjhFHnafavryGE60mFJPo4GGeIdY0\"\u001b[39;49;00m,\n",
            "    \u001b[33m\"https://lh3.googleusercontent.com/s9moD1j9s782_sdZM8lGr86Pg1XDr4cYME4_DgzA0YJ2mKJIWPYD-nQMtPm5R1pygxrF\"\u001b[39;49;00m,\n",
            "    \u001b[33m\"https://lh3.googleusercontent.com/V1cOBNSz9IW1ffAhGQL6i9b2axRUqq5j-GNPxJaOXPL9xXLc1EP34UoEDEHD11zA3Vcs\"\u001b[39;49;00m,\n",
            "    \u001b[33m\"https://lh3.googleusercontent.com/RyosdOslfoGFNYMOpD9L9t0_c3cZTGuixoY_NkDpWC2T8kw3t2MvKuXmbTCM81oKlhFy\"\u001b[39;49;00m,\n",
            "    \u001b[33m\"https://lh3.googleusercontent.com/F7T_Rn097p5lidy3dQ2q_cXXcHCy4T1FUThFWADfJAL9M7DxgpDhdKJD9yg0PduKNAY\"\u001b[39;49;00m,\n",
            "    \u001b[33m\"https://lh3.googleusercontent.com/pumURJtxxldoaNnkI_Iylbk-RMMosUg8Rk6QeZu262jEnba85Ui4JHpc1VXPc6Eb\"\u001b[39;49;00m,\n",
            "    \u001b[33m\"https://lh3.googleusercontent.com/Ag6B_DGk9_1MRUBOuG7Sxf_rV3lrEEH5HSPhDN7ASoUf3J19DzWUzCbyT-jD2dQFzh1q\"\u001b[39;49;00m,\n",
            "    \u001b[33m\"https://lh3.googleusercontent.com/850qSgeDZTPHrAY_jN0gKMNUw4mSxgXYC4DJpr5VNIjIYw11FWQuhfx40WjuvKToFUo\"\u001b[39;49;00m,\n",
            "    \u001b[33m\"https://lh3.googleusercontent.com/LT5jCSeyTRUFBrurelvAj1Q4bWyEHO6J_EV1THGJK7ueTswZ8uKEp6y99k3gVf0DUvQ\"\u001b[39;49;00m,\n",
            "    \u001b[33m\"https://lh3.googleusercontent.com/KqtRzKOlh3m_hHXiLOqdHmxbhNPIk0C51LZQE4YcgVCMb4BaJipTlc9ow3CGlpYHqJs\"\u001b[39;49;00m,\n",
            "    \u001b[33m\"https://lh3.googleusercontent.com/mwr_IfWGsGjPpXWqHybCWoWqaCvZErObdEvFwgSoT6s6x8S6g4uy98h1fwAL3S4yMlsF\"\u001b[39;49;00m,\n",
            "    \u001b[33m\"https://lh3.googleusercontent.com/Cb5cWer5CQ_qsKjfopkB5_8X8YvlwjniXPDyXoidprpQW2ThLGUYc4rm5PEEnVQ2Ht8\"\u001b[39;49;00m,\n",
            "    \u001b[33m\"https://lh3.googleusercontent.com/SO4phZcVgxoxGQErCTMnB-meQoL3ICFJ2e0bXDODZUX_6cUow5IFbGJZEX2VRhPRF2qZ\"\u001b[39;49;00m,\n",
            "    \u001b[33m\"https://lh3.googleusercontent.com/f7HPf00RWiZwSKFFoZjJV0x0QwYpNYhvQrF1sgjepSGN3tvQoWeiP35jPTq9PKull4g\"\u001b[39;49;00m,\n",
            "    \u001b[33m\"https://lh3.googleusercontent.com/BlKhDEn00mfTXO85wiI9x-69-4V7m3ISqJcz_ivS-TM_ks-U1DyIZJI_ZjW3MqBmgCy7\"\u001b[39;49;00m,\n",
            "    \u001b[33m\"https://lh3.googleusercontent.com/umiy-JmCTjmzX6jZ1cvbawA9BJxnzjthYSO8xbAZYPCR5wM7UyrNgIcOa_Q6zosnkA\"\u001b[39;49;00m,\n",
            "    \u001b[33m\"https://lh3.googleusercontent.com/M3VXLgGhwCoLwGYHIC1CGzlVhLjMs7RtN8WS4ceCq70Hk5j3x2hLXBrWplJBn4Nyt6k\"\u001b[39;49;00m,\n",
            "    \u001b[33m\"https://lh3.googleusercontent.com/PO2t_R8WPdKLcoG941_2RZt0Iwn_OzeMHEBO_2Q6fGXAr3ckGT8ZKDpcgdBiS2Wqk5o\"\u001b[39;49;00m,\n",
            "    \u001b[33m\"https://lh3.googleusercontent.com/yQKx03JkhBV-hHEU7nmuE08Li_PERLF2W0QiFW78nyz5tzwNdpFEjTExhqOQAzk-6EQv\"\u001b[39;49;00m,\n",
            "    \u001b[33m\"https://lh3.googleusercontent.com/W5n_c18XVBzN9nH9oX4V3ByxVRfsfrBj65NW8vAjLNtCJcjOxAV-PgF_9FWV6Z-myCE\"\u001b[39;49;00m,\n",
            "    \u001b[33m\"https://lh3.googleusercontent.com/byMaI7LjOUnAaNtIy9FeL3yeJbqXIQUlH8fcqAADy90oEQZ-65eEf6IETLobV9U6jw4\"\u001b[39;49;00m,\n",
            "    \u001b[33m\"https://lh3.googleusercontent.com/fq8Ly_fz4KNkOVocao8B5VPx8yfoPS3iCBpZiYFR1SC6YPGYl9C9KZ1tEN6VuQEKev_C\"\u001b[39;49;00m\n",
            "  ],\n",
            "  \u001b[34;01m\"size\"\u001b[39;49;00m: \u001b[33m\"Varies with device\"\u001b[39;49;00m,\n",
            "  \u001b[34;01m\"summary\"\u001b[39;49;00m: \u001b[33m\"Task Manager \\u2705 Organizer \\ud83d\\udcc5 Agenda \\ud83d\\udcdd Daily Reminders \\ud83d\\udd14 All-in-One Simple App.\"\u001b[39;49;00m,\n",
            "  \u001b[34;01m\"summaryHTML\"\u001b[39;49;00m: \u001b[33m\"Task Manager \\u2705 Organizer \\ud83d\\udcc5 Agenda \\ud83d\\udcdd Daily Reminders \\ud83d\\udd14 All-in-One Simple App.\"\u001b[39;49;00m,\n",
            "  \u001b[34;01m\"title\"\u001b[39;49;00m: \u001b[33m\"Any.do: To do list, Calendar, Planner & Reminders\"\u001b[39;49;00m,\n",
            "  \u001b[34;01m\"updated\"\u001b[39;49;00m: \u001b[34m1590387444\u001b[39;49;00m,\n",
            "  \u001b[34;01m\"url\"\u001b[39;49;00m: \u001b[33m\"https://play.google.com/store/apps/details?id=com.anydo&hl=en&gl=us\"\u001b[39;49;00m,\n",
            "  \u001b[34;01m\"version\"\u001b[39;49;00m: \u001b[33m\"Varies with device\"\u001b[39;49;00m,\n",
            "  \u001b[34;01m\"video\"\u001b[39;49;00m: \u001b[33m\"https://www.youtube.com/embed/2nkllLD0x6o?ps=play&vq=large&rel=0&autohide=1&showinfo=0\"\u001b[39;49;00m,\n",
            "  \u001b[34;01m\"videoImage\"\u001b[39;49;00m: \u001b[33m\"https://i.ytimg.com/vi/2nkllLD0x6o/hqdefault.jpg\"\u001b[39;49;00m\n",
            "}\n",
            "\n"
          ],
          "name": "stdout"
        }
      ]
    },
    {
      "cell_type": "code",
      "metadata": {
        "id": "mCGFpUwYW9X1",
        "colab_type": "code",
        "colab": {}
      },
      "source": [
        ""
      ],
      "execution_count": 0,
      "outputs": []
    }
  ]
}