{
 "cells": [
  {
   "cell_type": "code",
   "execution_count": 5,
   "metadata": {},
   "outputs": [],
   "source": [
    "# This Python 3 environment comes with many helpful analytics libraries installed\n",
    "# It is defined by the kaggle/python docker image: https://github.com/kaggle/docker-python\n",
    "# For example, here's several helpful packages to load in \n",
    "\n",
    "import numpy as np # linear algebra\n",
    "import pandas as pd # data processing, CSV file I/O (e.g. pd.read_csv)\n",
    "import re"
   ]
  },
  {
   "cell_type": "code",
   "execution_count": 69,
   "metadata": {},
   "outputs": [
    {
     "data": {
      "text/html": [
       "<div>\n",
       "<style scoped>\n",
       "    .dataframe tbody tr th:only-of-type {\n",
       "        vertical-align: middle;\n",
       "    }\n",
       "\n",
       "    .dataframe tbody tr th {\n",
       "        vertical-align: top;\n",
       "    }\n",
       "\n",
       "    .dataframe thead th {\n",
       "        text-align: right;\n",
       "    }\n",
       "</style>\n",
       "<table border=\"1\" class=\"dataframe\">\n",
       "  <thead>\n",
       "    <tr style=\"text-align: right;\">\n",
       "      <th></th>\n",
       "      <th>Task Description</th>\n",
       "      <th>category_ref</th>\n",
       "    </tr>\n",
       "  </thead>\n",
       "  <tbody>\n",
       "    <tr>\n",
       "      <th>0</th>\n",
       "      <td>failover the only database moss aicomplianceex...</td>\n",
       "      <td>[4.2.2.k]</td>\n",
       "    </tr>\n",
       "    <tr>\n",
       "      <th>1</th>\n",
       "      <td>hello hp team task 1 please verify if the data...</td>\n",
       "      <td>[4.2.2.k]</td>\n",
       "    </tr>\n",
       "    <tr>\n",
       "      <th>2</th>\n",
       "      <td>provide support during dhs failover process ve...</td>\n",
       "      <td>[4.2.2.k]</td>\n",
       "    </tr>\n",
       "    <tr>\n",
       "      <th>3</th>\n",
       "      <td>chg0000328576 application failback change fail...</td>\n",
       "      <td>[4.2.2.k]</td>\n",
       "    </tr>\n",
       "    <tr>\n",
       "      <th>4</th>\n",
       "      <td>move the database frfat1p1 prd to orginal node...</td>\n",
       "      <td>[4.2.2.k]</td>\n",
       "    </tr>\n",
       "  </tbody>\n",
       "</table>\n",
       "</div>"
      ],
      "text/plain": [
       "                                    Task Description category_ref\n",
       "0  failover the only database moss aicomplianceex...    [4.2.2.k]\n",
       "1  hello hp team task 1 please verify if the data...    [4.2.2.k]\n",
       "2  provide support during dhs failover process ve...    [4.2.2.k]\n",
       "3  chg0000328576 application failback change fail...    [4.2.2.k]\n",
       "4  move the database frfat1p1 prd to orginal node...    [4.2.2.k]"
      ]
     },
     "execution_count": 69,
     "metadata": {},
     "output_type": "execute_result"
    }
   ],
   "source": [
    "import pandas as pd\n",
    "df = pd.read_excel('C:/Db Analytics/Database Change Classification/SampleData170619.xlsx')\n",
    "df.head()"
   ]
  },
  {
   "cell_type": "code",
   "execution_count": 70,
   "metadata": {},
   "outputs": [],
   "source": [
    "def clean_text(text):\n",
    "    text = text.lower()\n",
    "    text = re.sub(r\"what's\", \"what is \", text)\n",
    "    text = re.sub(r\"\\'s\", \" \", text)\n",
    "    text = re.sub(r\"\\'ve\", \" have \", text)\n",
    "    text = re.sub(r\"can't\", \"can not \", text)\n",
    "    text = re.sub(r\"n't\", \" not \", text)\n",
    "    text = re.sub(r\"i'm\", \"i am \", text)\n",
    "    text = re.sub(r\"\\'re\", \" are \", text)\n",
    "    text = re.sub(r\"\\'d\", \" would \", text)\n",
    "    text = re.sub(r\"\\'ll\", \" will \", text)\n",
    "    text = re.sub(r\"\\'scuse\", \" excuse \", text)\n",
    "    text = re.sub('\\W', ' ', text)\n",
    "    text = re.sub('\\s+', ' ', text)\n",
    "    text = text.strip(' ')\n",
    "    return text"
   ]
  },
  {
   "cell_type": "code",
   "execution_count": 71,
   "metadata": {},
   "outputs": [
    {
     "data": {
      "text/plain": [
       "'1 please failover the database vision db events from prod londbnvnetp2 to dr londbnvnetb2 and inform to perry austin before failover so that application will be shutdown 2 run the script on dr db use vision db update t server info set ipaddress 10 235 199 43 where servername application server go 3 confirm this to secops systems perry austin db com 4 secops systems will then confirm verification task after testing application that the failover has been successful and the implementation is complete'"
      ]
     },
     "execution_count": 71,
     "metadata": {},
     "output_type": "execute_result"
    }
   ],
   "source": [
    "df['Task Description'] = df['Task Description'].map(lambda com : clean_text(com))\n",
    "df['Task Description'][6]"
   ]
  },
  {
   "cell_type": "code",
   "execution_count": 72,
   "metadata": {},
   "outputs": [
    {
     "data": {
      "text/html": [
       "<div>\n",
       "<style scoped>\n",
       "    .dataframe tbody tr th:only-of-type {\n",
       "        vertical-align: middle;\n",
       "    }\n",
       "\n",
       "    .dataframe tbody tr th {\n",
       "        vertical-align: top;\n",
       "    }\n",
       "\n",
       "    .dataframe thead th {\n",
       "        text-align: right;\n",
       "    }\n",
       "</style>\n",
       "<table border=\"1\" class=\"dataframe\">\n",
       "  <thead>\n",
       "    <tr style=\"text-align: right;\">\n",
       "      <th></th>\n",
       "      <th>category</th>\n",
       "      <th>task_description</th>\n",
       "      <th>category_id</th>\n",
       "    </tr>\n",
       "  </thead>\n",
       "  <tbody>\n",
       "    <tr>\n",
       "      <th>414</th>\n",
       "      <td>[4.2.2.d]</td>\n",
       "      <td>rename cda orm 1801 to cda orm 1801 and rename...</td>\n",
       "      <td>13</td>\n",
       "    </tr>\n",
       "    <tr>\n",
       "      <th>49</th>\n",
       "      <td>[4.2.2.nn]</td>\n",
       "      <td>oracle bestshore team task data export from ln...</td>\n",
       "      <td>8</td>\n",
       "    </tr>\n",
       "    <tr>\n",
       "      <th>36</th>\n",
       "      <td>[0.0.0.-]</td>\n",
       "      <td>modify user groups permission revoke sysadmin ...</td>\n",
       "      <td>7</td>\n",
       "    </tr>\n",
       "    <tr>\n",
       "      <th>450</th>\n",
       "      <td>[4.2.2.q]</td>\n",
       "      <td>we would like to setup full database refresh w...</td>\n",
       "      <td>5</td>\n",
       "    </tr>\n",
       "    <tr>\n",
       "      <th>154</th>\n",
       "      <td>[10.2.1.a]</td>\n",
       "      <td>add space to the database as mentioned below d...</td>\n",
       "      <td>14</td>\n",
       "    </tr>\n",
       "  </tbody>\n",
       "</table>\n",
       "</div>"
      ],
      "text/plain": [
       "       category                                   task_description  \\\n",
       "414   [4.2.2.d]  rename cda orm 1801 to cda orm 1801 and rename...   \n",
       "49   [4.2.2.nn]  oracle bestshore team task data export from ln...   \n",
       "36    [0.0.0.-]  modify user groups permission revoke sysadmin ...   \n",
       "450   [4.2.2.q]  we would like to setup full database refresh w...   \n",
       "154  [10.2.1.a]  add space to the database as mentioned below d...   \n",
       "\n",
       "     category_id  \n",
       "414           13  \n",
       "49             8  \n",
       "36             7  \n",
       "450            5  \n",
       "154           14  "
      ]
     },
     "execution_count": 72,
     "metadata": {},
     "output_type": "execute_result"
    }
   ],
   "source": [
    "# Remove Missing values\n",
    "# Add a column encoding the product as an integer\n",
    "\n",
    "from io import StringIO\n",
    "col = ['category_ref', 'Task Description']\n",
    "df = df[col]\n",
    "df = df[pd.notnull(df['Task Description'])]\n",
    "df.columns = ['category', 'task_description']\n",
    "df['category_id'] = df['category'].factorize()[0]\n",
    "category_id_df = df[['category', 'category_id']].drop_duplicates().sort_values('category_id')\n",
    "category_to_id = dict(category_id_df.values)\n",
    "id_to_category = dict(category_id_df[['category_id', 'category']].values)\n",
    "df.sample(5)"
   ]
  },
  {
   "cell_type": "code",
   "execution_count": 73,
   "metadata": {
    "scrolled": true
   },
   "outputs": [
    {
     "data": {
      "text/html": [
       "<div>\n",
       "<style scoped>\n",
       "    .dataframe tbody tr th:only-of-type {\n",
       "        vertical-align: middle;\n",
       "    }\n",
       "\n",
       "    .dataframe tbody tr th {\n",
       "        vertical-align: top;\n",
       "    }\n",
       "\n",
       "    .dataframe thead th {\n",
       "        text-align: right;\n",
       "    }\n",
       "</style>\n",
       "<table border=\"1\" class=\"dataframe\">\n",
       "  <thead>\n",
       "    <tr style=\"text-align: right;\">\n",
       "      <th></th>\n",
       "      <th>category</th>\n",
       "      <th>category_id</th>\n",
       "    </tr>\n",
       "  </thead>\n",
       "  <tbody>\n",
       "    <tr>\n",
       "      <th>0</th>\n",
       "      <td>[4.2.2.k]</td>\n",
       "      <td>0</td>\n",
       "    </tr>\n",
       "    <tr>\n",
       "      <th>9</th>\n",
       "      <td>[4..3.1.g]</td>\n",
       "      <td>1</td>\n",
       "    </tr>\n",
       "    <tr>\n",
       "      <th>12</th>\n",
       "      <td>[4.1.1.d]</td>\n",
       "      <td>2</td>\n",
       "    </tr>\n",
       "    <tr>\n",
       "      <th>13</th>\n",
       "      <td>[4.2.2.mmm]</td>\n",
       "      <td>3</td>\n",
       "    </tr>\n",
       "    <tr>\n",
       "      <th>14</th>\n",
       "      <td>[4.2.2.b]</td>\n",
       "      <td>4</td>\n",
       "    </tr>\n",
       "    <tr>\n",
       "      <th>15</th>\n",
       "      <td>[4.2.2.q]</td>\n",
       "      <td>5</td>\n",
       "    </tr>\n",
       "    <tr>\n",
       "      <th>18</th>\n",
       "      <td>[4.2.2.ss]</td>\n",
       "      <td>6</td>\n",
       "    </tr>\n",
       "    <tr>\n",
       "      <th>20</th>\n",
       "      <td>[0.0.0.-]</td>\n",
       "      <td>7</td>\n",
       "    </tr>\n",
       "    <tr>\n",
       "      <th>38</th>\n",
       "      <td>[4.2.2.nn]</td>\n",
       "      <td>8</td>\n",
       "    </tr>\n",
       "    <tr>\n",
       "      <th>39</th>\n",
       "      <td>[4.2.2.a]</td>\n",
       "      <td>9</td>\n",
       "    </tr>\n",
       "    <tr>\n",
       "      <th>42</th>\n",
       "      <td>[4.1.1.a]</td>\n",
       "      <td>10</td>\n",
       "    </tr>\n",
       "    <tr>\n",
       "      <th>47</th>\n",
       "      <td>[4.1.1.p]</td>\n",
       "      <td>11</td>\n",
       "    </tr>\n",
       "    <tr>\n",
       "      <th>51</th>\n",
       "      <td>[4.2.2.uu]</td>\n",
       "      <td>12</td>\n",
       "    </tr>\n",
       "    <tr>\n",
       "      <th>57</th>\n",
       "      <td>[4.2.2.d]</td>\n",
       "      <td>13</td>\n",
       "    </tr>\n",
       "    <tr>\n",
       "      <th>68</th>\n",
       "      <td>[10.2.1.a]</td>\n",
       "      <td>14</td>\n",
       "    </tr>\n",
       "    <tr>\n",
       "      <th>69</th>\n",
       "      <td>[12.1.1.e]</td>\n",
       "      <td>15</td>\n",
       "    </tr>\n",
       "    <tr>\n",
       "      <th>87</th>\n",
       "      <td>[4.2.2.i]</td>\n",
       "      <td>16</td>\n",
       "    </tr>\n",
       "    <tr>\n",
       "      <th>91</th>\n",
       "      <td>[4.2.2.g]</td>\n",
       "      <td>17</td>\n",
       "    </tr>\n",
       "    <tr>\n",
       "      <th>97</th>\n",
       "      <td>[4.2.2.kk]</td>\n",
       "      <td>18</td>\n",
       "    </tr>\n",
       "    <tr>\n",
       "      <th>121</th>\n",
       "      <td>[4.1.1.q]</td>\n",
       "      <td>19</td>\n",
       "    </tr>\n",
       "    <tr>\n",
       "      <th>124</th>\n",
       "      <td>[4.3.1.b]</td>\n",
       "      <td>20</td>\n",
       "    </tr>\n",
       "    <tr>\n",
       "      <th>125</th>\n",
       "      <td>[4.2.2.v]</td>\n",
       "      <td>21</td>\n",
       "    </tr>\n",
       "    <tr>\n",
       "      <th>131</th>\n",
       "      <td>[4.3.1.d]</td>\n",
       "      <td>22</td>\n",
       "    </tr>\n",
       "    <tr>\n",
       "      <th>140</th>\n",
       "      <td>[4.3.1.k]</td>\n",
       "      <td>23</td>\n",
       "    </tr>\n",
       "    <tr>\n",
       "      <th>142</th>\n",
       "      <td>[4.3.1.i]</td>\n",
       "      <td>24</td>\n",
       "    </tr>\n",
       "    <tr>\n",
       "      <th>141</th>\n",
       "      <td>[4.2.2.ii]</td>\n",
       "      <td>25</td>\n",
       "    </tr>\n",
       "    <tr>\n",
       "      <th>143</th>\n",
       "      <td>[4.1.1.c]</td>\n",
       "      <td>26</td>\n",
       "    </tr>\n",
       "    <tr>\n",
       "      <th>194</th>\n",
       "      <td>[4.3.1.c]</td>\n",
       "      <td>27</td>\n",
       "    </tr>\n",
       "    <tr>\n",
       "      <th>340</th>\n",
       "      <td>[4.3.1.h]</td>\n",
       "      <td>28</td>\n",
       "    </tr>\n",
       "  </tbody>\n",
       "</table>\n",
       "</div>"
      ],
      "text/plain": [
       "        category  category_id\n",
       "0      [4.2.2.k]            0\n",
       "9     [4..3.1.g]            1\n",
       "12     [4.1.1.d]            2\n",
       "13   [4.2.2.mmm]            3\n",
       "14     [4.2.2.b]            4\n",
       "15     [4.2.2.q]            5\n",
       "18    [4.2.2.ss]            6\n",
       "20     [0.0.0.-]            7\n",
       "38    [4.2.2.nn]            8\n",
       "39     [4.2.2.a]            9\n",
       "42     [4.1.1.a]           10\n",
       "47     [4.1.1.p]           11\n",
       "51    [4.2.2.uu]           12\n",
       "57     [4.2.2.d]           13\n",
       "68    [10.2.1.a]           14\n",
       "69    [12.1.1.e]           15\n",
       "87     [4.2.2.i]           16\n",
       "91     [4.2.2.g]           17\n",
       "97    [4.2.2.kk]           18\n",
       "121    [4.1.1.q]           19\n",
       "124    [4.3.1.b]           20\n",
       "125    [4.2.2.v]           21\n",
       "131    [4.3.1.d]           22\n",
       "140    [4.3.1.k]           23\n",
       "142    [4.3.1.i]           24\n",
       "141   [4.2.2.ii]           25\n",
       "143    [4.1.1.c]           26\n",
       "194    [4.3.1.c]           27\n",
       "340    [4.3.1.h]           28"
      ]
     },
     "execution_count": 73,
     "metadata": {},
     "output_type": "execute_result"
    }
   ],
   "source": [
    "category_id_df"
   ]
  },
  {
   "cell_type": "code",
   "execution_count": 74,
   "metadata": {
    "scrolled": true
   },
   "outputs": [
    {
     "data": {
      "text/plain": [
       "{'[4.2.2.k]': 0,\n",
       " '[4..3.1.g]': 1,\n",
       " '[4.1.1.d]': 2,\n",
       " '[4.2.2.mmm]': 3,\n",
       " '[4.2.2.b]': 4,\n",
       " '[4.2.2.q]': 5,\n",
       " '[4.2.2.ss]': 6,\n",
       " '[0.0.0.-]': 7,\n",
       " '[4.2.2.nn]': 8,\n",
       " '[4.2.2.a]': 9,\n",
       " '[4.1.1.a]': 10,\n",
       " '[4.1.1.p]': 11,\n",
       " '[4.2.2.uu]': 12,\n",
       " '[4.2.2.d]': 13,\n",
       " '[10.2.1.a]': 14,\n",
       " '[12.1.1.e]': 15,\n",
       " '[4.2.2.i]': 16,\n",
       " '[4.2.2.g]': 17,\n",
       " '[4.2.2.kk]': 18,\n",
       " '[4.1.1.q]': 19,\n",
       " '[4.3.1.b]': 20,\n",
       " '[4.2.2.v]': 21,\n",
       " '[4.3.1.d]': 22,\n",
       " '[4.3.1.k]': 23,\n",
       " '[4.3.1.i]': 24,\n",
       " '[4.2.2.ii]': 25,\n",
       " '[4.1.1.c]': 26,\n",
       " '[4.3.1.c]': 27,\n",
       " '[4.3.1.h]': 28}"
      ]
     },
     "execution_count": 74,
     "metadata": {},
     "output_type": "execute_result"
    }
   ],
   "source": [
    "category_to_id"
   ]
  },
  {
   "cell_type": "code",
   "execution_count": 75,
   "metadata": {
    "scrolled": true
   },
   "outputs": [
    {
     "data": {
      "text/plain": [
       "{0: '[4.2.2.k]',\n",
       " 1: '[4..3.1.g]',\n",
       " 2: '[4.1.1.d]',\n",
       " 3: '[4.2.2.mmm]',\n",
       " 4: '[4.2.2.b]',\n",
       " 5: '[4.2.2.q]',\n",
       " 6: '[4.2.2.ss]',\n",
       " 7: '[0.0.0.-]',\n",
       " 8: '[4.2.2.nn]',\n",
       " 9: '[4.2.2.a]',\n",
       " 10: '[4.1.1.a]',\n",
       " 11: '[4.1.1.p]',\n",
       " 12: '[4.2.2.uu]',\n",
       " 13: '[4.2.2.d]',\n",
       " 14: '[10.2.1.a]',\n",
       " 15: '[12.1.1.e]',\n",
       " 16: '[4.2.2.i]',\n",
       " 17: '[4.2.2.g]',\n",
       " 18: '[4.2.2.kk]',\n",
       " 19: '[4.1.1.q]',\n",
       " 20: '[4.3.1.b]',\n",
       " 21: '[4.2.2.v]',\n",
       " 22: '[4.3.1.d]',\n",
       " 23: '[4.3.1.k]',\n",
       " 24: '[4.3.1.i]',\n",
       " 25: '[4.2.2.ii]',\n",
       " 26: '[4.1.1.c]',\n",
       " 27: '[4.3.1.c]',\n",
       " 28: '[4.3.1.h]'}"
      ]
     },
     "execution_count": 75,
     "metadata": {},
     "output_type": "execute_result"
    }
   ],
   "source": [
    "id_to_category"
   ]
  },
  {
   "cell_type": "code",
   "execution_count": 76,
   "metadata": {},
   "outputs": [
    {
     "data": {
      "image/png": "[encoded data removed]",
      "text/plain": [
       "<Figure size 576x432 with 1 Axes>"
      ]
     },
     "metadata": {},
     "output_type": "display_data"
    }
   ],
   "source": [
    "import matplotlib.pyplot as plt\n",
    "fig = plt.figure(figsize=(8,6))\n",
    "df.groupby('category').task_description.count().plot.bar(ylim=0)\n",
    "plt.show()"
   ]
  },
  {
   "cell_type": "code",
   "execution_count": 77,
   "metadata": {},
   "outputs": [
    {
     "data": {
      "text/plain": [
       "(578, 927)"
      ]
     },
     "execution_count": 77,
     "metadata": {},
     "output_type": "execute_result"
    }
   ],
   "source": [
    "# Model: Bag-of-words\n",
    "\n",
    "from sklearn.feature_extraction.text import TfidfVectorizer\n",
    "tfidf = TfidfVectorizer(sublinear_tf=True, min_df=5, norm='l2', encoding='latin-1', ngram_range=(1, 2), stop_words='english')\n",
    "features = tfidf.fit_transform(df.task_description).toarray()\n",
    "labels = df.category\n",
    "features.shape"
   ]
  },
  {
   "cell_type": "code",
   "execution_count": 78,
   "metadata": {
    "scrolled": true
   },
   "outputs": [
    {
     "name": "stdout",
     "output_type": "stream",
     "text": [
      "--> '[0.0.0.-]':\n",
      "  . Most Correlated Unigrams are :\n",
      ". enabled\n",
      ". xdb\n",
      "  . Most Correlated Bigrams are :\n",
      ". dump files\n",
      ". em12 dhs\n",
      "--> '[10.2.1.a]':\n",
      "  . Most Correlated Unigrams are :\n",
      ". enabled\n",
      ". xdb\n",
      "  . Most Correlated Bigrams are :\n",
      ". dump files\n",
      ". em12 dhs\n",
      "--> '[12.1.1.e]':\n",
      "  . Most Correlated Unigrams are :\n",
      ". enabled\n",
      ". xdb\n",
      "  . Most Correlated Bigrams are :\n",
      ". dump files\n",
      ". em12 dhs\n",
      "--> '[4..3.1.g]':\n",
      "  . Most Correlated Unigrams are :\n",
      ". enabled\n",
      ". xdb\n",
      "  . Most Correlated Bigrams are :\n",
      ". dump files\n",
      ". em12 dhs\n",
      "--> '[4.1.1.a]':\n",
      "  . Most Correlated Unigrams are :\n",
      ". enabled\n",
      ". xdb\n",
      "  . Most Correlated Bigrams are :\n",
      ". dump files\n",
      ". em12 dhs\n",
      "--> '[4.1.1.c]':\n",
      "  . Most Correlated Unigrams are :\n",
      ". enabled\n",
      ". xdb\n",
      "  . Most Correlated Bigrams are :\n",
      ". dump files\n",
      ". em12 dhs\n",
      "--> '[4.1.1.d]':\n",
      "  . Most Correlated Unigrams are :\n",
      ". enabled\n",
      ". xdb\n",
      "  . Most Correlated Bigrams are :\n",
      ". dump files\n",
      ". em12 dhs\n",
      "--> '[4.1.1.p]':\n",
      "  . Most Correlated Unigrams are :\n",
      ". enabled\n",
      ". xdb\n",
      "  . Most Correlated Bigrams are :\n",
      ". dump files\n",
      ". em12 dhs\n",
      "--> '[4.1.1.q]':\n",
      "  . Most Correlated Unigrams are :\n",
      ". enabled\n",
      ". xdb\n",
      "  . Most Correlated Bigrams are :\n",
      ". dump files\n",
      ". em12 dhs\n",
      "--> '[4.2.2.a]':\n",
      "  . Most Correlated Unigrams are :\n",
      ". enabled\n",
      ". xdb\n",
      "  . Most Correlated Bigrams are :\n",
      ". dump files\n",
      ". em12 dhs\n",
      "--> '[4.2.2.b]':\n",
      "  . Most Correlated Unigrams are :\n",
      ". enabled\n",
      ". xdb\n",
      "  . Most Correlated Bigrams are :\n",
      ". dump files\n",
      ". em12 dhs\n",
      "--> '[4.2.2.d]':\n",
      "  . Most Correlated Unigrams are :\n",
      ". enabled\n",
      ". xdb\n",
      "  . Most Correlated Bigrams are :\n",
      ". dump files\n",
      ". em12 dhs\n",
      "--> '[4.2.2.g]':\n",
      "  . Most Correlated Unigrams are :\n",
      ". enabled\n",
      ". xdb\n",
      "  . Most Correlated Bigrams are :\n",
      ". dump files\n",
      ". em12 dhs\n",
      "--> '[4.2.2.i]':\n",
      "  . Most Correlated Unigrams are :\n",
      ". enabled\n",
      ". xdb\n",
      "  . Most Correlated Bigrams are :\n",
      ". dump files\n",
      ". em12 dhs\n",
      "--> '[4.2.2.ii]':\n",
      "  . Most Correlated Unigrams are :\n",
      ". enabled\n",
      ". xdb\n",
      "  . Most Correlated Bigrams are :\n",
      ". dump files\n",
      ". em12 dhs\n",
      "--> '[4.2.2.k]':\n",
      "  . Most Correlated Unigrams are :\n",
      ". enabled\n",
      ". xdb\n",
      "  . Most Correlated Bigrams are :\n",
      ". dump files\n",
      ". em12 dhs\n",
      "--> '[4.2.2.kk]':\n",
      "  . Most Correlated Unigrams are :\n",
      ". enabled\n",
      ". xdb\n",
      "  . Most Correlated Bigrams are :\n",
      ". dump files\n",
      ". em12 dhs\n",
      "--> '[4.2.2.mmm]':\n",
      "  . Most Correlated Unigrams are :\n",
      ". enabled\n",
      ". xdb\n",
      "  . Most Correlated Bigrams are :\n",
      ". dump files\n",
      ". em12 dhs\n",
      "--> '[4.2.2.nn]':\n",
      "  . Most Correlated Unigrams are :\n",
      ". enabled\n",
      ". xdb\n",
      "  . Most Correlated Bigrams are :\n",
      ". dump files\n",
      ". em12 dhs\n",
      "--> '[4.2.2.q]':\n",
      "  . Most Correlated Unigrams are :\n",
      ". enabled\n",
      ". xdb\n",
      "  . Most Correlated Bigrams are :\n",
      ". dump files\n",
      ". em12 dhs\n",
      "--> '[4.2.2.ss]':\n",
      "  . Most Correlated Unigrams are :\n",
      ". enabled\n",
      ". xdb\n",
      "  . Most Correlated Bigrams are :\n",
      ". dump files\n",
      ". em12 dhs\n",
      "--> '[4.2.2.uu]':\n",
      "  . Most Correlated Unigrams are :\n",
      ". enabled\n",
      ". xdb\n",
      "  . Most Correlated Bigrams are :\n",
      ". dump files\n",
      ". em12 dhs\n",
      "--> '[4.2.2.v]':\n",
      "  . Most Correlated Unigrams are :\n",
      ". enabled\n",
      ". xdb\n",
      "  . Most Correlated Bigrams are :\n",
      ". dump files\n",
      ". em12 dhs\n",
      "--> '[4.3.1.b]':\n",
      "  . Most Correlated Unigrams are :\n",
      ". enabled\n",
      ". xdb\n",
      "  . Most Correlated Bigrams are :\n",
      ". dump files\n",
      ". em12 dhs\n",
      "--> '[4.3.1.c]':\n",
      "  . Most Correlated Unigrams are :\n",
      ". enabled\n",
      ". xdb\n",
      "  . Most Correlated Bigrams are :\n",
      ". dump files\n",
      ". em12 dhs\n",
      "--> '[4.3.1.d]':\n",
      "  . Most Correlated Unigrams are :\n",
      ". enabled\n",
      ". xdb\n",
      "  . Most Correlated Bigrams are :\n",
      ". dump files\n",
      ". em12 dhs\n",
      "--> '[4.3.1.h]':\n",
      "  . Most Correlated Unigrams are :\n",
      ". enabled\n",
      ". xdb\n",
      "  . Most Correlated Bigrams are :\n",
      ". dump files\n",
      ". em12 dhs\n",
      "--> '[4.3.1.i]':\n",
      "  . Most Correlated Unigrams are :\n",
      ". enabled\n",
      ". xdb\n",
      "  . Most Correlated Bigrams are :\n",
      ". dump files\n",
      ". em12 dhs\n",
      "--> '[4.3.1.k]':\n",
      "  . Most Correlated Unigrams are :\n",
      ". enabled\n",
      ". xdb\n",
      "  . Most Correlated Bigrams are :\n",
      ". dump files\n",
      ". em12 dhs\n"
     ]
    }
   ],
   "source": [
    "# Use 'sklearn.feature_selection.chi2' to find the terms that are the most correlated with each of the products\n",
    "\n",
    "from sklearn.feature_selection import chi2\n",
    "import numpy as np\n",
    "N = 2\n",
    "for category, category_id in sorted(category_to_id.items()):\n",
    "  features_chi2 = chi2(features, labels == category_id)\n",
    "  indices = np.argsort(features_chi2[0])\n",
    "  feature_names = np.array(tfidf.get_feature_names())[indices]\n",
    "  unigrams = [v for v in feature_names if len(v.split(' ')) == 1]\n",
    "  bigrams = [v for v in feature_names if len(v.split(' ')) == 2]\n",
    "  print(\"--> '{}':\".format(category))\n",
    "  print(\"  . Most Correlated Unigrams are :\\n. {}\".format('\\n. '.join(unigrams[-N:])))\n",
    "  print(\"  . Most Correlated Bigrams are :\\n. {}\".format('\\n. '.join(bigrams[-N:])))"
   ]
  },
  {
   "cell_type": "code",
   "execution_count": 97,
   "metadata": {},
   "outputs": [],
   "source": [
    "from sklearn.model_selection import train_test_split\n",
    "from sklearn.feature_extraction.text import CountVectorizer\n",
    "from sklearn.feature_extraction.text import TfidfTransformer\n",
    "from sklearn.naive_bayes import MultinomialNB\n",
    "X_train, X_test, y_train, y_test = train_test_split(df['task_description'], df['category'],test_size=0.25, random_state = 0)\n",
    "count_vect = CountVectorizer()\n",
    "X_train_counts = count_vect.fit_transform(X_train)\n",
    "tfidf_transformer = TfidfTransformer()\n",
    "X_train_tfidf = tfidf_transformer.fit_transform(X_train_counts)\n",
    "clf = MultinomialNB().fit(X_train_tfidf, y_train)"
   ]
  },
  {
   "cell_type": "code",
   "execution_count": 98,
   "metadata": {},
   "outputs": [
    {
     "data": {
      "text/plain": [
       "(433,)"
      ]
     },
     "execution_count": 98,
     "metadata": {},
     "output_type": "execute_result"
    }
   ],
   "source": [
    "X_train.shape"
   ]
  },
  {
   "cell_type": "code",
   "execution_count": 99,
   "metadata": {
    "scrolled": true
   },
   "outputs": [
    {
     "data": {
      "text/plain": [
       "(145,)"
      ]
     },
     "execution_count": 99,
     "metadata": {},
     "output_type": "execute_result"
    }
   ],
   "source": [
    "X_test.shape\n",
    "# (191, 927)"
   ]
  },
  {
   "cell_type": "code",
   "execution_count": 81,
   "metadata": {},
   "outputs": [
    {
     "name": "stdout",
     "output_type": "stream",
     "text": [
      "['[0.0.0.-]']\n"
     ]
    }
   ],
   "source": [
    "print(clf.predict(count_vect.transform([\"This company refuses to provide me verification and validation of debt per my right under the FDCPA. I do not believe this debt is mine.\"])))"
   ]
  },
  {
   "cell_type": "code",
   "execution_count": 82,
   "metadata": {},
   "outputs": [
    {
     "data": {
      "text/html": [
       "<div>\n",
       "<style scoped>\n",
       "    .dataframe tbody tr th:only-of-type {\n",
       "        vertical-align: middle;\n",
       "    }\n",
       "\n",
       "    .dataframe tbody tr th {\n",
       "        vertical-align: top;\n",
       "    }\n",
       "\n",
       "    .dataframe thead th {\n",
       "        text-align: right;\n",
       "    }\n",
       "</style>\n",
       "<table border=\"1\" class=\"dataframe\">\n",
       "  <thead>\n",
       "    <tr style=\"text-align: right;\">\n",
       "      <th></th>\n",
       "      <th>category</th>\n",
       "      <th>task_description</th>\n",
       "      <th>category_id</th>\n",
       "    </tr>\n",
       "  </thead>\n",
       "  <tbody>\n",
       "  </tbody>\n",
       "</table>\n",
       "</div>"
      ],
      "text/plain": [
       "Empty DataFrame\n",
       "Columns: [category, task_description, category_id]\n",
       "Index: []"
      ]
     },
     "execution_count": 82,
     "metadata": {},
     "output_type": "execute_result"
    }
   ],
   "source": [
    "df[df['task_description'] == \"This company refuses to provide me verification and validation of debt per my right under the FDCPA. I do not believe this debt is mine.\"]"
   ]
  },
  {
   "cell_type": "code",
   "execution_count": 83,
   "metadata": {},
   "outputs": [],
   "source": [
    "# clf = LinearSVC().fit(X_train_tfidf, y_train)"
   ]
  },
  {
   "cell_type": "code",
   "execution_count": 84,
   "metadata": {},
   "outputs": [
    {
     "name": "stdout",
     "output_type": "stream",
     "text": [
      "['[4.2.2.a]']\n"
     ]
    }
   ],
   "source": [
    "print(clf.predict(count_vect.transform([\"I am disputing the inaccurate information the Chex-Systems has on my credit report. I initially submitted a police report on XXXX/XXXX/16 and Chex Systems only deleted the items that I mentioned in the letter and not all the items that were actually listed on the police report. In other words they wanted me to say word for word to them what items were fraudulent. The total disregard of the police report and what accounts that it states that are fraudulent. If they just had paid a little closer attention to the police report I would not been in this position now and they would n't have to research once again. I would like the reported information to be removed : XXXX XXXX XXXX\"])))"
   ]
  },
  {
   "cell_type": "code",
   "execution_count": 85,
   "metadata": {},
   "outputs": [
    {
     "data": {
      "text/html": [
       "<div>\n",
       "<style scoped>\n",
       "    .dataframe tbody tr th:only-of-type {\n",
       "        vertical-align: middle;\n",
       "    }\n",
       "\n",
       "    .dataframe tbody tr th {\n",
       "        vertical-align: top;\n",
       "    }\n",
       "\n",
       "    .dataframe thead th {\n",
       "        text-align: right;\n",
       "    }\n",
       "</style>\n",
       "<table border=\"1\" class=\"dataframe\">\n",
       "  <thead>\n",
       "    <tr style=\"text-align: right;\">\n",
       "      <th></th>\n",
       "      <th>category</th>\n",
       "      <th>task_description</th>\n",
       "      <th>category_id</th>\n",
       "    </tr>\n",
       "  </thead>\n",
       "  <tbody>\n",
       "  </tbody>\n",
       "</table>\n",
       "</div>"
      ],
      "text/plain": [
       "Empty DataFrame\n",
       "Columns: [category, task_description, category_id]\n",
       "Index: []"
      ]
     },
     "execution_count": 85,
     "metadata": {},
     "output_type": "execute_result"
    }
   ],
   "source": [
    "df[df['task_description'] == \"I am disputing the inaccurate information the Chex-Systems has on my credit report. I initially submitted a police report on XXXX/XXXX/16 and Chex Systems only deleted the items that I mentioned in the letter and not all the items that were actually listed on the police report. In other words they wanted me to say word for word to them what items were fraudulent. The total disregard of the police report and what accounts that it states that are fraudulent. If they just had paid a little closer attention to the police report I would not been in this position now and they would n't have to research once again. I would like the reported information to be removed : XXXX XXXX XXXX\"]"
   ]
  },
  {
   "cell_type": "code",
   "execution_count": 100,
   "metadata": {
    "scrolled": true
   },
   "outputs": [
    {
     "name": "stderr",
     "output_type": "stream",
     "text": [
      "C:\\Users\\sekh\\AppData\\Local\\Continuum\\anaconda3\\lib\\site-packages\\sklearn\\model_selection\\_split.py:652: Warning: The least populated class in y has only 1 members, which is too few. The minimum number of members in any class cannot be less than n_splits=5.\n",
      "  % (min_groups, self.n_splits)), Warning)\n",
      "C:\\Users\\sekh\\AppData\\Local\\Continuum\\anaconda3\\lib\\site-packages\\sklearn\\model_selection\\_split.py:652: Warning: The least populated class in y has only 1 members, which is too few. The minimum number of members in any class cannot be less than n_splits=5.\n",
      "  % (min_groups, self.n_splits)), Warning)\n",
      "C:\\Users\\sekh\\AppData\\Local\\Continuum\\anaconda3\\lib\\site-packages\\sklearn\\model_selection\\_split.py:652: Warning: The least populated class in y has only 1 members, which is too few. The minimum number of members in any class cannot be less than n_splits=5.\n",
      "  % (min_groups, self.n_splits)), Warning)\n",
      "C:\\Users\\sekh\\AppData\\Local\\Continuum\\anaconda3\\lib\\site-packages\\sklearn\\model_selection\\_split.py:652: Warning: The least populated class in y has only 1 members, which is too few. The minimum number of members in any class cannot be less than n_splits=5.\n",
      "  % (min_groups, self.n_splits)), Warning)\n",
      "C:\\Users\\sekh\\AppData\\Local\\Continuum\\anaconda3\\lib\\site-packages\\sklearn\\linear_model\\logistic.py:433: FutureWarning: Default solver will be changed to 'lbfgs' in 0.22. Specify a solver to silence this warning.\n",
      "  FutureWarning)\n",
      "C:\\Users\\sekh\\AppData\\Local\\Continuum\\anaconda3\\lib\\site-packages\\sklearn\\linear_model\\logistic.py:460: FutureWarning: Default multi_class will be changed to 'auto' in 0.22. Specify the multi_class option to silence this warning.\n",
      "  \"this warning.\", FutureWarning)\n",
      "C:\\Users\\sekh\\AppData\\Local\\Continuum\\anaconda3\\lib\\site-packages\\sklearn\\linear_model\\logistic.py:433: FutureWarning: Default solver will be changed to 'lbfgs' in 0.22. Specify a solver to silence this warning.\n",
      "  FutureWarning)\n",
      "C:\\Users\\sekh\\AppData\\Local\\Continuum\\anaconda3\\lib\\site-packages\\sklearn\\linear_model\\logistic.py:460: FutureWarning: Default multi_class will be changed to 'auto' in 0.22. Specify the multi_class option to silence this warning.\n",
      "  \"this warning.\", FutureWarning)\n",
      "C:\\Users\\sekh\\AppData\\Local\\Continuum\\anaconda3\\lib\\site-packages\\sklearn\\linear_model\\logistic.py:433: FutureWarning: Default solver will be changed to 'lbfgs' in 0.22. Specify a solver to silence this warning.\n",
      "  FutureWarning)\n",
      "C:\\Users\\sekh\\AppData\\Local\\Continuum\\anaconda3\\lib\\site-packages\\sklearn\\linear_model\\logistic.py:460: FutureWarning: Default multi_class will be changed to 'auto' in 0.22. Specify the multi_class option to silence this warning.\n",
      "  \"this warning.\", FutureWarning)\n",
      "C:\\Users\\sekh\\AppData\\Local\\Continuum\\anaconda3\\lib\\site-packages\\sklearn\\linear_model\\logistic.py:433: FutureWarning: Default solver will be changed to 'lbfgs' in 0.22. Specify a solver to silence this warning.\n",
      "  FutureWarning)\n",
      "C:\\Users\\sekh\\AppData\\Local\\Continuum\\anaconda3\\lib\\site-packages\\sklearn\\linear_model\\logistic.py:460: FutureWarning: Default multi_class will be changed to 'auto' in 0.22. Specify the multi_class option to silence this warning.\n",
      "  \"this warning.\", FutureWarning)\n",
      "C:\\Users\\sekh\\AppData\\Local\\Continuum\\anaconda3\\lib\\site-packages\\sklearn\\linear_model\\logistic.py:433: FutureWarning: Default solver will be changed to 'lbfgs' in 0.22. Specify a solver to silence this warning.\n",
      "  FutureWarning)\n",
      "C:\\Users\\sekh\\AppData\\Local\\Continuum\\anaconda3\\lib\\site-packages\\sklearn\\linear_model\\logistic.py:460: FutureWarning: Default multi_class will be changed to 'auto' in 0.22. Specify the multi_class option to silence this warning.\n",
      "  \"this warning.\", FutureWarning)\n"
     ]
    },
    {
     "data": {
      "image/png": "[encoded data removed]",
      "text/plain": [
       "<Figure size 432x288 with 1 Axes>"
      ]
     },
     "metadata": {},
     "output_type": "display_data"
    }
   ],
   "source": [
    "from sklearn.linear_model import LogisticRegression\n",
    "from sklearn.ensemble import RandomForestClassifier\n",
    "from sklearn.svm import LinearSVC\n",
    "from sklearn.model_selection import cross_val_score\n",
    "models = [\n",
    "    RandomForestClassifier(n_estimators=200, max_depth=3, random_state=0),\n",
    "    LinearSVC(),\n",
    "    MultinomialNB(),\n",
    "    LogisticRegression(random_state=0),\n",
    "]\n",
    "CV = 5\n",
    "cv_df = pd.DataFrame(index=range(CV * len(models)))\n",
    "entries = []\n",
    "for model in models:\n",
    "  model_name = model.__class__.__name__\n",
    "  accuracies = cross_val_score(model, features, labels, scoring='accuracy', cv=CV)\n",
    "  for fold_idx, accuracy in enumerate(accuracies):\n",
    "    entries.append((model_name, fold_idx, accuracy))\n",
    "cv_df = pd.DataFrame(entries, columns=['model_name', 'fold_idx', 'accuracy'])\n",
    "import seaborn as sns\n",
    "sns.boxplot(x='model_name', y='accuracy', data=cv_df)\n",
    "sns.stripplot(x='model_name', y='accuracy', data=cv_df, \n",
    "              size=8, jitter=True, edgecolor=\"gray\", linewidth=2)\n",
    "plt.show()"
   ]
  },
  {
   "cell_type": "code",
   "execution_count": 102,
   "metadata": {},
   "outputs": [
    {
     "data": {
      "text/plain": [
       "model_name\n",
       "LinearSVC                 0.608022\n",
       "LogisticRegression        0.510702\n",
       "MultinomialNB             0.389797\n",
       "RandomForestClassifier    0.274845\n",
       "Name: accuracy, dtype: float64"
      ]
     },
     "execution_count": 102,
     "metadata": {},
     "output_type": "execute_result"
    }
   ],
   "source": [
    "cv_df.groupby('model_name').accuracy.mean()"
   ]
  },
  {
   "cell_type": "code",
   "execution_count": 104,
   "metadata": {
    "scrolled": true
   },
   "outputs": [
    {
     "data": {
      "image/png": "[encoded data removed]",
      "text/plain": [
       "<Figure size 720x720 with 2 Axes>"
      ]
     },
     "metadata": {},
     "output_type": "display_data"
    }
   ],
   "source": [
    "model = LinearSVC()\n",
    "X_train, X_test, y_train, y_test, indices_train, indices_test = train_test_split(features, labels, df.index, test_size=0.33, random_state=0)\n",
    "model.fit(X_train, y_train)\n",
    "y_pred = model.predict(X_test)\n",
    "from sklearn.metrics import confusion_matrix\n",
    "conf_mat = confusion_matrix(y_test, y_pred)\n",
    "fig, ax = plt.subplots(figsize=(10,10))\n",
    "sns.heatmap(conf_mat, annot=True, fmt='d',\n",
    "            xticklabels=category_id_df.category.values, yticklabels=category_id_df.category.values)\n",
    "plt.ylabel('Actual')\n",
    "plt.xlabel('Predicted')\n",
    "plt.show()"
   ]
  },
  {
   "cell_type": "code",
   "execution_count": 90,
   "metadata": {},
   "outputs": [
    {
     "name": "stdout",
     "output_type": "stream",
     "text": [
      "'[4..3.1.g]' predicted as '[4.2.2.k]' : 3 examples.\n"
     ]
    },
    {
     "data": {
      "text/html": [
       "<div>\n",
       "<style scoped>\n",
       "    .dataframe tbody tr th:only-of-type {\n",
       "        vertical-align: middle;\n",
       "    }\n",
       "\n",
       "    .dataframe tbody tr th {\n",
       "        vertical-align: top;\n",
       "    }\n",
       "\n",
       "    .dataframe thead th {\n",
       "        text-align: right;\n",
       "    }\n",
       "</style>\n",
       "<table border=\"1\" class=\"dataframe\">\n",
       "  <thead>\n",
       "    <tr style=\"text-align: right;\">\n",
       "      <th></th>\n",
       "      <th>category</th>\n",
       "      <th>task_description</th>\n",
       "    </tr>\n",
       "  </thead>\n",
       "  <tbody>\n",
       "  </tbody>\n",
       "</table>\n",
       "</div>"
      ],
      "text/plain": [
       "Empty DataFrame\n",
       "Columns: [category, task_description]\n",
       "Index: []"
      ]
     },
     "metadata": {},
     "output_type": "display_data"
    },
    {
     "name": "stdout",
     "output_type": "stream",
     "text": [
      "\n",
      "'[4.1.1.d]' predicted as '[4.2.2.k]' : 3 examples.\n"
     ]
    },
    {
     "data": {
      "text/html": [
       "<div>\n",
       "<style scoped>\n",
       "    .dataframe tbody tr th:only-of-type {\n",
       "        vertical-align: middle;\n",
       "    }\n",
       "\n",
       "    .dataframe tbody tr th {\n",
       "        vertical-align: top;\n",
       "    }\n",
       "\n",
       "    .dataframe thead th {\n",
       "        text-align: right;\n",
       "    }\n",
       "</style>\n",
       "<table border=\"1\" class=\"dataframe\">\n",
       "  <thead>\n",
       "    <tr style=\"text-align: right;\">\n",
       "      <th></th>\n",
       "      <th>category</th>\n",
       "      <th>task_description</th>\n",
       "    </tr>\n",
       "  </thead>\n",
       "  <tbody>\n",
       "  </tbody>\n",
       "</table>\n",
       "</div>"
      ],
      "text/plain": [
       "Empty DataFrame\n",
       "Columns: [category, task_description]\n",
       "Index: []"
      ]
     },
     "metadata": {},
     "output_type": "display_data"
    },
    {
     "name": "stdout",
     "output_type": "stream",
     "text": [
      "\n",
      "'[4.2.2.ss]' predicted as '[4.2.2.k]' : 2 examples.\n"
     ]
    },
    {
     "data": {
      "text/html": [
       "<div>\n",
       "<style scoped>\n",
       "    .dataframe tbody tr th:only-of-type {\n",
       "        vertical-align: middle;\n",
       "    }\n",
       "\n",
       "    .dataframe tbody tr th {\n",
       "        vertical-align: top;\n",
       "    }\n",
       "\n",
       "    .dataframe thead th {\n",
       "        text-align: right;\n",
       "    }\n",
       "</style>\n",
       "<table border=\"1\" class=\"dataframe\">\n",
       "  <thead>\n",
       "    <tr style=\"text-align: right;\">\n",
       "      <th></th>\n",
       "      <th>category</th>\n",
       "      <th>task_description</th>\n",
       "    </tr>\n",
       "  </thead>\n",
       "  <tbody>\n",
       "  </tbody>\n",
       "</table>\n",
       "</div>"
      ],
      "text/plain": [
       "Empty DataFrame\n",
       "Columns: [category, task_description]\n",
       "Index: []"
      ]
     },
     "metadata": {},
     "output_type": "display_data"
    },
    {
     "name": "stdout",
     "output_type": "stream",
     "text": [
      "\n",
      "'[4.2.2.nn]' predicted as '[4.2.2.k]' : 1 examples.\n"
     ]
    },
    {
     "data": {
      "text/html": [
       "<div>\n",
       "<style scoped>\n",
       "    .dataframe tbody tr th:only-of-type {\n",
       "        vertical-align: middle;\n",
       "    }\n",
       "\n",
       "    .dataframe tbody tr th {\n",
       "        vertical-align: top;\n",
       "    }\n",
       "\n",
       "    .dataframe thead th {\n",
       "        text-align: right;\n",
       "    }\n",
       "</style>\n",
       "<table border=\"1\" class=\"dataframe\">\n",
       "  <thead>\n",
       "    <tr style=\"text-align: right;\">\n",
       "      <th></th>\n",
       "      <th>category</th>\n",
       "      <th>task_description</th>\n",
       "    </tr>\n",
       "  </thead>\n",
       "  <tbody>\n",
       "  </tbody>\n",
       "</table>\n",
       "</div>"
      ],
      "text/plain": [
       "Empty DataFrame\n",
       "Columns: [category, task_description]\n",
       "Index: []"
      ]
     },
     "metadata": {},
     "output_type": "display_data"
    },
    {
     "name": "stdout",
     "output_type": "stream",
     "text": [
      "\n",
      "'[4.2.2.a]' predicted as '[4.2.2.k]' : 1 examples.\n"
     ]
    },
    {
     "data": {
      "text/html": [
       "<div>\n",
       "<style scoped>\n",
       "    .dataframe tbody tr th:only-of-type {\n",
       "        vertical-align: middle;\n",
       "    }\n",
       "\n",
       "    .dataframe tbody tr th {\n",
       "        vertical-align: top;\n",
       "    }\n",
       "\n",
       "    .dataframe thead th {\n",
       "        text-align: right;\n",
       "    }\n",
       "</style>\n",
       "<table border=\"1\" class=\"dataframe\">\n",
       "  <thead>\n",
       "    <tr style=\"text-align: right;\">\n",
       "      <th></th>\n",
       "      <th>category</th>\n",
       "      <th>task_description</th>\n",
       "    </tr>\n",
       "  </thead>\n",
       "  <tbody>\n",
       "  </tbody>\n",
       "</table>\n",
       "</div>"
      ],
      "text/plain": [
       "Empty DataFrame\n",
       "Columns: [category, task_description]\n",
       "Index: []"
      ]
     },
     "metadata": {},
     "output_type": "display_data"
    },
    {
     "name": "stdout",
     "output_type": "stream",
     "text": [
      "\n",
      "'[4.1.1.a]' predicted as '[4.2.2.k]' : 7 examples.\n"
     ]
    },
    {
     "data": {
      "text/html": [
       "<div>\n",
       "<style scoped>\n",
       "    .dataframe tbody tr th:only-of-type {\n",
       "        vertical-align: middle;\n",
       "    }\n",
       "\n",
       "    .dataframe tbody tr th {\n",
       "        vertical-align: top;\n",
       "    }\n",
       "\n",
       "    .dataframe thead th {\n",
       "        text-align: right;\n",
       "    }\n",
       "</style>\n",
       "<table border=\"1\" class=\"dataframe\">\n",
       "  <thead>\n",
       "    <tr style=\"text-align: right;\">\n",
       "      <th></th>\n",
       "      <th>category</th>\n",
       "      <th>task_description</th>\n",
       "    </tr>\n",
       "  </thead>\n",
       "  <tbody>\n",
       "  </tbody>\n",
       "</table>\n",
       "</div>"
      ],
      "text/plain": [
       "Empty DataFrame\n",
       "Columns: [category, task_description]\n",
       "Index: []"
      ]
     },
     "metadata": {},
     "output_type": "display_data"
    },
    {
     "name": "stdout",
     "output_type": "stream",
     "text": [
      "\n",
      "'[4.1.1.p]' predicted as '[4.2.2.k]' : 1 examples.\n"
     ]
    },
    {
     "data": {
      "text/html": [
       "<div>\n",
       "<style scoped>\n",
       "    .dataframe tbody tr th:only-of-type {\n",
       "        vertical-align: middle;\n",
       "    }\n",
       "\n",
       "    .dataframe tbody tr th {\n",
       "        vertical-align: top;\n",
       "    }\n",
       "\n",
       "    .dataframe thead th {\n",
       "        text-align: right;\n",
       "    }\n",
       "</style>\n",
       "<table border=\"1\" class=\"dataframe\">\n",
       "  <thead>\n",
       "    <tr style=\"text-align: right;\">\n",
       "      <th></th>\n",
       "      <th>category</th>\n",
       "      <th>task_description</th>\n",
       "    </tr>\n",
       "  </thead>\n",
       "  <tbody>\n",
       "  </tbody>\n",
       "</table>\n",
       "</div>"
      ],
      "text/plain": [
       "Empty DataFrame\n",
       "Columns: [category, task_description]\n",
       "Index: []"
      ]
     },
     "metadata": {},
     "output_type": "display_data"
    },
    {
     "name": "stdout",
     "output_type": "stream",
     "text": [
      "\n",
      "'[12.1.1.e]' predicted as '[4.2.2.k]' : 1 examples.\n"
     ]
    },
    {
     "data": {
      "text/html": [
       "<div>\n",
       "<style scoped>\n",
       "    .dataframe tbody tr th:only-of-type {\n",
       "        vertical-align: middle;\n",
       "    }\n",
       "\n",
       "    .dataframe tbody tr th {\n",
       "        vertical-align: top;\n",
       "    }\n",
       "\n",
       "    .dataframe thead th {\n",
       "        text-align: right;\n",
       "    }\n",
       "</style>\n",
       "<table border=\"1\" class=\"dataframe\">\n",
       "  <thead>\n",
       "    <tr style=\"text-align: right;\">\n",
       "      <th></th>\n",
       "      <th>category</th>\n",
       "      <th>task_description</th>\n",
       "    </tr>\n",
       "  </thead>\n",
       "  <tbody>\n",
       "  </tbody>\n",
       "</table>\n",
       "</div>"
      ],
      "text/plain": [
       "Empty DataFrame\n",
       "Columns: [category, task_description]\n",
       "Index: []"
      ]
     },
     "metadata": {},
     "output_type": "display_data"
    },
    {
     "name": "stdout",
     "output_type": "stream",
     "text": [
      "\n",
      "'[4.2.2.g]' predicted as '[4.2.2.k]' : 1 examples.\n"
     ]
    },
    {
     "data": {
      "text/html": [
       "<div>\n",
       "<style scoped>\n",
       "    .dataframe tbody tr th:only-of-type {\n",
       "        vertical-align: middle;\n",
       "    }\n",
       "\n",
       "    .dataframe tbody tr th {\n",
       "        vertical-align: top;\n",
       "    }\n",
       "\n",
       "    .dataframe thead th {\n",
       "        text-align: right;\n",
       "    }\n",
       "</style>\n",
       "<table border=\"1\" class=\"dataframe\">\n",
       "  <thead>\n",
       "    <tr style=\"text-align: right;\">\n",
       "      <th></th>\n",
       "      <th>category</th>\n",
       "      <th>task_description</th>\n",
       "    </tr>\n",
       "  </thead>\n",
       "  <tbody>\n",
       "  </tbody>\n",
       "</table>\n",
       "</div>"
      ],
      "text/plain": [
       "Empty DataFrame\n",
       "Columns: [category, task_description]\n",
       "Index: []"
      ]
     },
     "metadata": {},
     "output_type": "display_data"
    },
    {
     "name": "stdout",
     "output_type": "stream",
     "text": [
      "\n",
      "'[4.3.1.b]' predicted as '[4.2.2.k]' : 3 examples.\n"
     ]
    },
    {
     "data": {
      "text/html": [
       "<div>\n",
       "<style scoped>\n",
       "    .dataframe tbody tr th:only-of-type {\n",
       "        vertical-align: middle;\n",
       "    }\n",
       "\n",
       "    .dataframe tbody tr th {\n",
       "        vertical-align: top;\n",
       "    }\n",
       "\n",
       "    .dataframe thead th {\n",
       "        text-align: right;\n",
       "    }\n",
       "</style>\n",
       "<table border=\"1\" class=\"dataframe\">\n",
       "  <thead>\n",
       "    <tr style=\"text-align: right;\">\n",
       "      <th></th>\n",
       "      <th>category</th>\n",
       "      <th>task_description</th>\n",
       "    </tr>\n",
       "  </thead>\n",
       "  <tbody>\n",
       "  </tbody>\n",
       "</table>\n",
       "</div>"
      ],
      "text/plain": [
       "Empty DataFrame\n",
       "Columns: [category, task_description]\n",
       "Index: []"
      ]
     },
     "metadata": {},
     "output_type": "display_data"
    },
    {
     "name": "stdout",
     "output_type": "stream",
     "text": [
      "\n",
      "'[4.2.2.v]' predicted as '[4.2.2.k]' : 1 examples.\n"
     ]
    },
    {
     "data": {
      "text/html": [
       "<div>\n",
       "<style scoped>\n",
       "    .dataframe tbody tr th:only-of-type {\n",
       "        vertical-align: middle;\n",
       "    }\n",
       "\n",
       "    .dataframe tbody tr th {\n",
       "        vertical-align: top;\n",
       "    }\n",
       "\n",
       "    .dataframe thead th {\n",
       "        text-align: right;\n",
       "    }\n",
       "</style>\n",
       "<table border=\"1\" class=\"dataframe\">\n",
       "  <thead>\n",
       "    <tr style=\"text-align: right;\">\n",
       "      <th></th>\n",
       "      <th>category</th>\n",
       "      <th>task_description</th>\n",
       "    </tr>\n",
       "  </thead>\n",
       "  <tbody>\n",
       "  </tbody>\n",
       "</table>\n",
       "</div>"
      ],
      "text/plain": [
       "Empty DataFrame\n",
       "Columns: [category, task_description]\n",
       "Index: []"
      ]
     },
     "metadata": {},
     "output_type": "display_data"
    },
    {
     "name": "stdout",
     "output_type": "stream",
     "text": [
      "\n",
      "'[4.3.1.k]' predicted as '[4.2.2.k]' : 1 examples.\n"
     ]
    },
    {
     "data": {
      "text/html": [
       "<div>\n",
       "<style scoped>\n",
       "    .dataframe tbody tr th:only-of-type {\n",
       "        vertical-align: middle;\n",
       "    }\n",
       "\n",
       "    .dataframe tbody tr th {\n",
       "        vertical-align: top;\n",
       "    }\n",
       "\n",
       "    .dataframe thead th {\n",
       "        text-align: right;\n",
       "    }\n",
       "</style>\n",
       "<table border=\"1\" class=\"dataframe\">\n",
       "  <thead>\n",
       "    <tr style=\"text-align: right;\">\n",
       "      <th></th>\n",
       "      <th>category</th>\n",
       "      <th>task_description</th>\n",
       "    </tr>\n",
       "  </thead>\n",
       "  <tbody>\n",
       "  </tbody>\n",
       "</table>\n",
       "</div>"
      ],
      "text/plain": [
       "Empty DataFrame\n",
       "Columns: [category, task_description]\n",
       "Index: []"
      ]
     },
     "metadata": {},
     "output_type": "display_data"
    },
    {
     "name": "stdout",
     "output_type": "stream",
     "text": [
      "\n"
     ]
    },
    {
     "ename": "IndexError",
     "evalue": "index 27 is out of bounds for axis 0 with size 27",
     "output_type": "error",
     "traceback": [
      "\u001b[1;31m---------------------------------------------------------------------------\u001b[0m",
      "\u001b[1;31mIndexError\u001b[0m                                Traceback (most recent call last)",
      "\u001b[1;32m<ipython-input-90-1a5dcf2e0fb6>\u001b[0m in \u001b[0;36m<module>\u001b[1;34m()\u001b[0m\n\u001b[0;32m      2\u001b[0m \u001b[1;32mfor\u001b[0m \u001b[0mpredicted\u001b[0m \u001b[1;32min\u001b[0m \u001b[0mcategory_id_df\u001b[0m\u001b[1;33m.\u001b[0m\u001b[0mcategory_id\u001b[0m\u001b[1;33m:\u001b[0m\u001b[1;33m\u001b[0m\u001b[0m\n\u001b[0;32m      3\u001b[0m   \u001b[1;32mfor\u001b[0m \u001b[0mactual\u001b[0m \u001b[1;32min\u001b[0m \u001b[0mcategory_id_df\u001b[0m\u001b[1;33m.\u001b[0m\u001b[0mcategory_id\u001b[0m\u001b[1;33m:\u001b[0m\u001b[1;33m\u001b[0m\u001b[0m\n\u001b[1;32m----> 4\u001b[1;33m     \u001b[1;32mif\u001b[0m \u001b[0mpredicted\u001b[0m \u001b[1;33m!=\u001b[0m \u001b[0mactual\u001b[0m \u001b[1;32mand\u001b[0m \u001b[0mconf_mat\u001b[0m\u001b[1;33m[\u001b[0m\u001b[0mactual\u001b[0m\u001b[1;33m,\u001b[0m \u001b[0mpredicted\u001b[0m\u001b[1;33m]\u001b[0m \u001b[1;33m>=\u001b[0m \u001b[1;36m1\u001b[0m\u001b[1;33m:\u001b[0m\u001b[1;33m\u001b[0m\u001b[0m\n\u001b[0m\u001b[0;32m      5\u001b[0m       \u001b[0mprint\u001b[0m\u001b[1;33m(\u001b[0m\u001b[1;34m\"'{}' predicted as '{}' : {} examples.\"\u001b[0m\u001b[1;33m.\u001b[0m\u001b[0mformat\u001b[0m\u001b[1;33m(\u001b[0m\u001b[0mid_to_category\u001b[0m\u001b[1;33m[\u001b[0m\u001b[0mactual\u001b[0m\u001b[1;33m]\u001b[0m\u001b[1;33m,\u001b[0m \u001b[0mid_to_category\u001b[0m\u001b[1;33m[\u001b[0m\u001b[0mpredicted\u001b[0m\u001b[1;33m]\u001b[0m\u001b[1;33m,\u001b[0m \u001b[0mconf_mat\u001b[0m\u001b[1;33m[\u001b[0m\u001b[0mactual\u001b[0m\u001b[1;33m,\u001b[0m \u001b[0mpredicted\u001b[0m\u001b[1;33m]\u001b[0m\u001b[1;33m)\u001b[0m\u001b[1;33m)\u001b[0m\u001b[1;33m\u001b[0m\u001b[0m\n\u001b[0;32m      6\u001b[0m       \u001b[0mdisplay\u001b[0m\u001b[1;33m(\u001b[0m\u001b[0mdf\u001b[0m\u001b[1;33m.\u001b[0m\u001b[0mloc\u001b[0m\u001b[1;33m[\u001b[0m\u001b[0mindices_test\u001b[0m\u001b[1;33m[\u001b[0m\u001b[1;33m(\u001b[0m\u001b[0my_test\u001b[0m \u001b[1;33m==\u001b[0m \u001b[0mactual\u001b[0m\u001b[1;33m)\u001b[0m \u001b[1;33m&\u001b[0m \u001b[1;33m(\u001b[0m\u001b[0my_pred\u001b[0m \u001b[1;33m==\u001b[0m \u001b[0mpredicted\u001b[0m\u001b[1;33m)\u001b[0m\u001b[1;33m]\u001b[0m\u001b[1;33m]\u001b[0m\u001b[1;33m[\u001b[0m\u001b[1;33m[\u001b[0m\u001b[1;34m'category'\u001b[0m\u001b[1;33m,\u001b[0m \u001b[1;34m'task_description'\u001b[0m\u001b[1;33m]\u001b[0m\u001b[1;33m]\u001b[0m\u001b[1;33m)\u001b[0m\u001b[1;33m\u001b[0m\u001b[0m\n",
      "\u001b[1;31mIndexError\u001b[0m: index 27 is out of bounds for axis 0 with size 27"
     ]
    }
   ],
   "source": [
    "from IPython.display import display\n",
    "for predicted in category_id_df.category_id:\n",
    "  for actual in category_id_df.category_id:\n",
    "    if predicted != actual and conf_mat[actual, predicted] >= 1:\n",
    "      print(\"'{}' predicted as '{}' : {} examples.\".format(id_to_category[actual], id_to_category[predicted], conf_mat[actual, predicted]))\n",
    "      display(df.loc[indices_test[(y_test == actual) & (y_pred == predicted)]][['category', 'task_description']])\n",
    "      print('')"
   ]
  },
  {
   "cell_type": "code",
   "execution_count": 38,
   "metadata": {},
   "outputs": [
    {
     "name": "stdout",
     "output_type": "stream",
     "text": [
      "# '[0.0.0.-]':\n",
      "  . Top unigrams:\n",
      "       . install\n",
      "       . components\n",
      "  . Top bigrams:\n",
      "       . acfs patch\n",
      "       . prod server\n",
      "# '[10.2.1.a]':\n",
      "  . Top unigrams:\n",
      "       . attached\n",
      "       . step\n",
      "  . Top bigrams:\n",
      "       . password change\n",
      "       . execute attached\n",
      "# '[12.1.1.e]':\n",
      "  . Top unigrams:\n",
      "       . dr\n",
      "       . failback\n",
      "  . Top bigrams:\n",
      "       . failover database\n",
      "       . change initiator\n",
      "# '[4.1.1.a]':\n",
      "  . Top unigrams:\n",
      "       . job\n",
      "       . backups\n",
      "  . Top bigrams:\n",
      "       . run script\n",
      "       . sql prd\n",
      "# '[4.1.1.c]':\n",
      "  . Top unigrams:\n",
      "       . removed\n",
      "       . unused\n",
      "  . Top bigrams:\n",
      "       . unused oracle\n",
      "       . uninstall unused\n",
      "# '[4.1.1.d]':\n",
      "  . Top unigrams:\n",
      "       . stats\n",
      "       . trigger\n",
      "  . Top bigrams:\n",
      "       . logon trigger\n",
      "       . task confirmation\n",
      "# '[4.1.1.p]':\n",
      "  . Top unigrams:\n",
      "       . change\n",
      "       . set\n",
      "  . Top bigrams:\n",
      "       . alter set\n",
      "       . user profile\n",
      "# '[4.1.1.q]':\n",
      "  . Top unigrams:\n",
      "       . manual\n",
      "       . node\n",
      "  . Top bigrams:\n",
      "       . alter user\n",
      "       . res grep\n",
      "# '[4.2.2.a]':\n",
      "  . Top unigrams:\n",
      "       . 50gb\n",
      "       . increase\n",
      "  . Top bigrams:\n",
      "       . space database\n",
      "       . increase tablespace\n",
      "# '[4.2.2.b]':\n",
      "  . Top unigrams:\n",
      "       . backup\n",
      "       . export\n",
      "  . Top bigrams:\n",
      "       . target server\n",
      "       . com server\n",
      "# '[4.2.2.d]':\n",
      "  . Top unigrams:\n",
      "       . mirroring\n",
      "       . scp\n",
      "  . Top bigrams:\n",
      "       . application team\n",
      "       . break mirroring\n",
      "# '[4.2.2.g]':\n",
      "  . Top unigrams:\n",
      "       . shutdown\n",
      "       . getting\n",
      "  . Top bigrams:\n",
      "       . shutdown database\n",
      "       . database server\n",
      "# '[4.2.2.i]':\n",
      "  . Top unigrams:\n",
      "       . verify\n",
      "       . check\n",
      "  . Top bigrams:\n",
      "       . team start\n",
      "       . oracle team\n",
      "# '[4.2.2.ii]':\n",
      "  . Top unigrams:\n",
      "       . tablespaces\n",
      "       . content\n",
      "  . Top bigrams:\n",
      "       . user account\n",
      "       . instructions attached\n",
      "# '[4.2.2.k]':\n",
      "  . Top unigrams:\n",
      "       . following\n",
      "       . execute\n",
      "  . Top bigrams:\n",
      "       . reset password\n",
      "       . prd database\n",
      "# '[4.2.2.kk]':\n",
      "  . Top unigrams:\n",
      "       . release\n",
      "       . deployment\n",
      "  . Top bigrams:\n",
      "       . execute script\n",
      "       . script attachment\n",
      "# '[4.2.2.mmm]':\n",
      "  . Top unigrams:\n",
      "       . tsm\n",
      "       . restore\n",
      "  . Top bigrams:\n",
      "       . task create\n",
      "       . com dr\n",
      "# '[4.2.2.nn]':\n",
      "  . Top unigrams:\n",
      "       . data01\n",
      "       . add\n",
      "  . Top bigrams:\n",
      "       . data01 add\n",
      "       . reg data01\n",
      "# '[4.2.2.q]':\n",
      "  . Top unigrams:\n",
      "       . reorg\n",
      "       . tablespace\n",
      "  . Top bigrams:\n",
      "       . aud owner\n",
      "       . create new\n",
      "# '[4.2.2.ss]':\n",
      "  . Top unigrams:\n",
      "       . import\n",
      "       . exists\n",
      "  . Top bigrams:\n",
      "       . target schema\n",
      "       . prod server\n",
      "# '[4.2.2.uu]':\n",
      "  . Top unigrams:\n",
      "       . refresh\n",
      "       . information\n",
      "  . Top bigrams:\n",
      "       . database refresh\n",
      "       . refresh uat\n",
      "# '[4.2.2.v]':\n",
      "  . Top unigrams:\n",
      "       . script\n",
      "       . geneos\n",
      "  . Top bigrams:\n",
      "       . attached script\n",
      "       . attached change\n",
      "# '[4.3.1.b]':\n",
      "  . Top unigrams:\n",
      "       . ora\n",
      "       . instance\n",
      "  . Top bigrams:\n",
      "       . stop res\n",
      "       . crsctl stop\n",
      "# '[4.3.1.c]':\n",
      "  . Top unigrams:\n",
      "       . security\n",
      "       . successful\n",
      "  . Top bigrams:\n",
      "       . db link\n",
      "       . new password\n",
      "# '[4.3.1.d]':\n",
      "  . Top unigrams:\n",
      "       . tns\n",
      "       . address\n",
      "  . Top bigrams:\n",
      "       . create database\n",
      "       . description address\n",
      "# '[4.3.1.h]':\n",
      "  . Top unigrams:\n",
      "       . stop\n",
      "       . jobs\n",
      "  . Top bigrams:\n",
      "       . wintel team\n",
      "       . sql team\n",
      "# '[4.3.1.i]':\n",
      "  . Top unigrams:\n",
      "       . mssql\n",
      "       . present\n",
      "  . Top bigrams:\n",
      "       . execute steps\n",
      "       . create new\n",
      "# '[4.3.1.k]':\n",
      "  . Top unigrams:\n",
      "       . password\n",
      "       . drop\n",
      "  . Top bigrams:\n",
      "       . owner account\n",
      "       . following databases\n"
     ]
    }
   ],
   "source": [
    "model.fit(features, labels)\n",
    "N = 2\n",
    "for Product, category_id in sorted(category_to_id.items()):\n",
    "  indices = np.argsort(model.coef_[category_id])\n",
    "  feature_names = np.array(tfidf.get_feature_names())[indices]\n",
    "  unigrams = [v for v in reversed(feature_names) if len(v.split(' ')) == 1][:N]\n",
    "  bigrams = [v for v in reversed(feature_names) if len(v.split(' ')) == 2][:N]\n",
    "  print(\"# '{}':\".format(Product))\n",
    "  print(\"  . Top unigrams:\\n       . {}\".format('\\n       . '.join(unigrams)))\n",
    "  print(\"  . Top bigrams:\\n       . {}\".format('\\n       . '.join(bigrams)))"
   ]
  },
  {
   "cell_type": "code",
   "execution_count": null,
   "metadata": {},
   "outputs": [],
   "source": []
  }
 ],
 "metadata": {
  "kernelspec": {
   "display_name": "Python 3",
   "language": "python",
   "name": "python3"
  },
  "language_info": {
   "codemirror_mode": {
    "name": "ipython",
    "version": 3
   },
   "file_extension": ".py",
   "mimetype": "text/x-python",
   "name": "python",
   "nbconvert_exporter": "python",
   "pygments_lexer": "ipython3",
   "version": "3.6.5"
  }
 },
 "nbformat": 4,
 "nbformat_minor": 2
}
