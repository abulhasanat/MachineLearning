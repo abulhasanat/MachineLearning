{
  "nbformat": 4,
  "nbformat_minor": 0,
  "metadata": {
    "colab": {
      "name": "cleverhans_example.ipynb",
      "provenance": [],
      "authorship_tag": "ABX9TyOUL3wi1TEYQZJfpPD0uz3K",
      "include_colab_link": true
    },
    "kernelspec": {
      "name": "python3",
      "display_name": "Python 3"
    }
  },
  "cells": [
    {
      "cell_type": "markdown",
      "metadata": {
        "id": "view-in-github",
        "colab_type": "text"
      },
      "source": [
        "<a href=\"https://colab.research.google.com/github/abulhasanat/MachineLearning/blob/master/cleverhans_example.ipynb\" target=\"_parent\"><img src=\"https://colab.research.google.com/assets/colab-badge.svg\" alt=\"Open In Colab\"/></a>"
      ]
    },
    {
      "cell_type": "code",
      "metadata": {
        "id": "nX_v6s2B3koA",
        "colab_type": "code",
        "colab": {
          "base_uri": "https://localhost:8080/",
          "height": 564
        },
        "outputId": "59e08f37-a08c-47e8-b8c0-28bd30b45b4e"
      },
      "source": [
        "!pip install git+https://github.com/tensorflow/cleverhans.git#egg=cleverhans"
      ],
      "execution_count": 2,
      "outputs": [
        {
          "output_type": "stream",
          "text": [
            "Collecting cleverhans\n",
            "  Cloning https://github.com/tensorflow/cleverhans.git to /tmp/pip-install-o6y5ohbs/cleverhans\n",
            "  Running command git clone -q https://github.com/tensorflow/cleverhans.git /tmp/pip-install-o6y5ohbs/cleverhans\n",
            "Collecting nose\n",
            "\u001b[?25l  Downloading https://files.pythonhosted.org/packages/15/d8/dd071918c040f50fa1cf80da16423af51ff8ce4a0f2399b7bf8de45ac3d9/nose-1.3.7-py3-none-any.whl (154kB)\n",
            "\u001b[K     |████████████████████████████████| 163kB 4.8MB/s \n",
            "\u001b[?25hCollecting pycodestyle\n",
            "\u001b[?25l  Downloading https://files.pythonhosted.org/packages/0e/0c/04a353e104d2f324f8ee5f4b32012618c1c86dd79e52a433b64fceed511b/pycodestyle-2.5.0-py2.py3-none-any.whl (51kB)\n",
            "\u001b[K     |████████████████████████████████| 51kB 5.2MB/s \n",
            "\u001b[?25hRequirement already satisfied: scipy in /usr/local/lib/python3.6/dist-packages (from cleverhans) (1.4.1)\n",
            "Requirement already satisfied: matplotlib in /usr/local/lib/python3.6/dist-packages (from cleverhans) (3.1.3)\n",
            "Collecting mnist~=0.2\n",
            "  Downloading https://files.pythonhosted.org/packages/c6/c4/5db3bfe009f8d71f1d532bbadbd0ec203764bba3a469e4703a889db8e5e0/mnist-0.2.2-py2.py3-none-any.whl\n",
            "Requirement already satisfied: numpy in /usr/local/lib/python3.6/dist-packages (from cleverhans) (1.17.5)\n",
            "Requirement already satisfied: tensorflow-probability in /usr/local/lib/python3.6/dist-packages (from cleverhans) (0.7.0)\n",
            "Requirement already satisfied: joblib in /usr/local/lib/python3.6/dist-packages (from cleverhans) (0.14.1)\n",
            "Requirement already satisfied: cycler>=0.10 in /usr/local/lib/python3.6/dist-packages (from matplotlib->cleverhans) (0.10.0)\n",
            "Requirement already satisfied: python-dateutil>=2.1 in /usr/local/lib/python3.6/dist-packages (from matplotlib->cleverhans) (2.6.1)\n",
            "Requirement already satisfied: pyparsing!=2.0.4,!=2.1.2,!=2.1.6,>=2.0.1 in /usr/local/lib/python3.6/dist-packages (from matplotlib->cleverhans) (2.4.6)\n",
            "Requirement already satisfied: kiwisolver>=1.0.1 in /usr/local/lib/python3.6/dist-packages (from matplotlib->cleverhans) (1.1.0)\n",
            "Requirement already satisfied: six>=1.10.0 in /usr/local/lib/python3.6/dist-packages (from tensorflow-probability->cleverhans) (1.12.0)\n",
            "Requirement already satisfied: cloudpickle>=0.6.1 in /usr/local/lib/python3.6/dist-packages (from tensorflow-probability->cleverhans) (1.2.2)\n",
            "Requirement already satisfied: decorator in /usr/local/lib/python3.6/dist-packages (from tensorflow-probability->cleverhans) (4.4.1)\n",
            "Requirement already satisfied: setuptools in /usr/local/lib/python3.6/dist-packages (from kiwisolver>=1.0.1->matplotlib->cleverhans) (45.1.0)\n",
            "Building wheels for collected packages: cleverhans\n",
            "  Building wheel for cleverhans (setup.py) ... \u001b[?25l\u001b[?25hdone\n",
            "  Created wheel for cleverhans: filename=cleverhans-3.0.1-cp36-none-any.whl size=252272 sha256=679cdcbe81d3e9b1d0c23d1c4edfd48b326da95d2c45188313c478a55358d8a4\n",
            "  Stored in directory: /tmp/pip-ephem-wheel-cache-6yb2yhl8/wheels/6e/59/ec/723a6f654aaf62c8c40f0f0850fdf71a4948598697f56c3bfa\n",
            "Successfully built cleverhans\n",
            "Installing collected packages: nose, pycodestyle, mnist, cleverhans\n",
            "Successfully installed cleverhans-3.0.1 mnist-0.2.2 nose-1.3.7 pycodestyle-2.5.0\n"
          ],
          "name": "stdout"
        }
      ]
    },
    {
      "cell_type": "code",
      "metadata": {
        "id": "65-_jr8a3ROI",
        "colab_type": "code",
        "colab": {}
      },
      "source": [
        "from absl import app, flags\n",
        "from easydict import EasyDict\n",
        "import numpy as np\n",
        "import torch\n",
        "import torch.nn as nn\n",
        "import torch.nn.functional as F\n",
        "import torchvision\n",
        "\n",
        "from cleverhans.future.torch.attacks import fast_gradient_method, projected_gradient_descent\n",
        "\n",
        "FLAGS = flags.FLAGS"
      ],
      "execution_count": 0,
      "outputs": []
    },
    {
      "cell_type": "code",
      "metadata": {
        "id": "pCffPUK-3qVa",
        "colab_type": "code",
        "colab": {}
      },
      "source": [
        "class CNN(torch.nn.Module):\n",
        "  \"\"\"Basic CNN architecture.\"\"\"\n",
        "\n",
        "  def __init__(self, in_channels=1):\n",
        "    super(CNN, self).__init__()\n",
        "    self.conv1 = nn.Conv2d(in_channels, 64, 8, 1)\n",
        "    self.conv2 = nn.Conv2d(64, 128, 6, 2)\n",
        "    self.conv3 = nn.Conv2d(128, 128, 5, 2)\n",
        "    self.fc = nn.Linear(128*3*3, 10)\n",
        "\n",
        "  def forward(self, x):\n",
        "    x = F.relu(self.conv1(x))\n",
        "    x = F.relu(self.conv2(x))\n",
        "    x = F.relu(self.conv3(x))\n",
        "    x = x.view(-1, 128*3*3)\n",
        "    x = self.fc(x)\n",
        "    return x"
      ],
      "execution_count": 0,
      "outputs": []
    },
    {
      "cell_type": "code",
      "metadata": {
        "id": "FFqo9CX53yNA",
        "colab_type": "code",
        "colab": {}
      },
      "source": [
        "def ld_cifar10():\n",
        "  \"\"\"Load training and test data.\"\"\"\n",
        "  train_transforms = torchvision.transforms.Compose([torchvision.transforms.ToTensor()])\n",
        "  test_transforms = torchvision.transforms.Compose([torchvision.transforms.ToTensor()])\n",
        "  train_dataset = torchvision.datasets.CIFAR10(root='/tmp/data', train=True, transform=train_transforms, download=True)\n",
        "  test_dataset = torchvision.datasets.CIFAR10(root='/tmp/data', train=False, transform=test_transforms, download=True)\n",
        "  train_loader = torch.utils.data.DataLoader(train_dataset, batch_size=128, shuffle=True, num_workers=2)\n",
        "  test_loader = torch.utils.data.DataLoader(test_dataset, batch_size=128, shuffle=False, num_workers=2)\n",
        "  return EasyDict(train=train_loader, test=test_loader)"
      ],
      "execution_count": 0,
      "outputs": []
    },
    {
      "cell_type": "code",
      "metadata": {
        "id": "c_zriu7p34KC",
        "colab_type": "code",
        "colab": {}
      },
      "source": [
        "def main(_):\n",
        "  # Load training and test data\n",
        "  data = ld_cifar10()\n",
        "\n",
        "  # Instantiate model, loss, and optimizer for training\n",
        "  net = CNN(in_channels=3)\n",
        "  device = 'cuda' if torch.cuda.is_available() else 'cpu'\n",
        "  if device == 'cuda':\n",
        "    net = net.cuda()\n",
        "  loss_fn = torch.nn.CrossEntropyLoss(reduction='mean')\n",
        "  optimizer = torch.optim.Adam(net.parameters(), lr=1e-3)\n",
        "\n",
        "  # Train vanilla model\n",
        "  net.train()\n",
        "  for epoch in range(1, FLAGS.nb_epochs + 1):\n",
        "    train_loss = 0.\n",
        "    for x, y in data.train:\n",
        "      x, y = x.to(device), y.to(device)\n",
        "      if FLAGS.adv_train:\n",
        "        # Replace clean example with adversarial example for adversarial training\n",
        "        x = projected_gradient_descent(net, x, FLAGS.eps, 0.01, 40, np.inf)\n",
        "      optimizer.zero_grad()\n",
        "      loss = loss_fn(net(x), y)\n",
        "      loss.backward()\n",
        "      optimizer.step()\n",
        "      train_loss += loss.item()\n",
        "    print('epoch: {}/{}, train loss: {:.3f}'.format(epoch, FLAGS.nb_epochs, train_loss))\n",
        "\n",
        "  # Evaluate on clean and adversarial data\n",
        "  net.eval()\n",
        "  report = EasyDict(nb_test=0, correct=0, correct_fgm=0, correct_pgd=0)\n",
        "  for x, y in data.test:\n",
        "    x, y = x.to(device), y.to(device)\n",
        "    x_fgm = fast_gradient_method(net, x, FLAGS.eps, np.inf)\n",
        "    x_pgd = projected_gradient_descent(net, x, FLAGS.eps, 0.01, 40, np.inf)\n",
        "    _, y_pred = net(x).max(1)  # model prediction on clean examples\n",
        "    _, y_pred_fgm = net(x_fgm).max(1)  # model prediction on FGM adversarial examples\n",
        "    _, y_pred_pgd = net(x_pgd).max(1)  # model prediction on PGD adversarial examples\n",
        "    report.nb_test += y.size(0)\n",
        "    report.correct += y_pred.eq(y).sum().item()\n",
        "    report.correct_fgm += y_pred_fgm.eq(y).sum().item()\n",
        "    report.correct_pgd += y_pred_pgd.eq(y).sum().item()\n",
        "  print('test acc on clean examples (%): {:.3f}'.format(report.correct / report.nb_test * 100.))\n",
        "  print('test acc on FGM adversarial examples (%): {:.3f}'.format(report.correct_fgm / report.nb_test * 100.))\n",
        "  print('test acc on PGD adversarial examples (%): {:.3f}'.format(report.correct_pgd / report.nb_test * 100.))"
      ],
      "execution_count": 0,
      "outputs": []
    },
    {
      "cell_type": "code",
      "metadata": {
        "id": "UjhoVjb2386y",
        "colab_type": "code",
        "colab": {
          "base_uri": "https://localhost:8080/",
          "height": 200
        },
        "outputId": "22a769a6-43de-4043-eb3f-16796e14f1ff"
      },
      "source": [
        "if __name__ == '__main__':\n",
        "  flags.DEFINE_integer('nb_epochs', 8, 'Number of epochs.')\n",
        "  flags.DEFINE_float('eps', 0.3, 'Total epsilon for FGM and PGD attacks.')\n",
        "  flags.DEFINE_bool('adv_train', False, 'Use adversarial training (on PGD adversarial examples).')\n",
        "\n",
        "  app.run(main)"
      ],
      "execution_count": 7,
      "outputs": [
        {
          "output_type": "stream",
          "text": [
            "FATAL Flags parsing error: Unknown command line flag 'f'\n",
            "Pass --helpshort or --helpfull to see help on flags.\n"
          ],
          "name": "stderr"
        },
        {
          "output_type": "error",
          "ename": "SystemExit",
          "evalue": "ignored",
          "traceback": [
            "An exception has occurred, use %tb to see the full traceback.\n",
            "\u001b[0;31mSystemExit\u001b[0m\u001b[0;31m:\u001b[0m 1\n"
          ]
        },
        {
          "output_type": "stream",
          "text": [
            "/usr/local/lib/python3.6/dist-packages/IPython/core/interactiveshell.py:2890: UserWarning: To exit: use 'exit', 'quit', or Ctrl-D.\n",
            "  warn(\"To exit: use 'exit', 'quit', or Ctrl-D.\", stacklevel=1)\n"
          ],
          "name": "stderr"
        }
      ]
    }
  ]
}