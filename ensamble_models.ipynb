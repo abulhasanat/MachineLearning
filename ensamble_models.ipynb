{
  "nbformat": 4,
  "nbformat_minor": 0,
  "metadata": {
    "colab": {
      "name": "ensamble_models.ipynb",
      "provenance": [],
      "include_colab_link": true
    },
    "kernelspec": {
      "name": "python3",
      "display_name": "Python 3"
    }
  },
  "cells": [
    {
      "cell_type": "markdown",
      "metadata": {
        "id": "view-in-github",
        "colab_type": "text"
      },
      "source": [
        "<a href=\"https://colab.research.google.com/github/abulhasanat/MachineLearning/blob/master/ensamble_models.ipynb\" target=\"_parent\"><img src=\"https://colab.research.google.com/assets/colab-badge.svg\" alt=\"Open In Colab\"/></a>"
      ]
    },
    {
      "cell_type": "code",
      "metadata": {
        "id": "thYhNOtybUab",
        "colab_type": "code",
        "colab": {}
      },
      "source": [
        "%tensorflow_version 1.x"
      ],
      "execution_count": 0,
      "outputs": []
    },
    {
      "cell_type": "code",
      "metadata": {
        "id": "HES-dFdEat9P",
        "colab_type": "code",
        "outputId": "6ebb96fd-1c98-4495-cc5c-b432f1d450d5",
        "colab": {
          "base_uri": "https://localhost:8080/",
          "height": 299
        }
      },
      "source": [
        "# develop an mlp for blobs dataset\n",
        "from sklearn.datasets.samples_generator import make_blobs\n",
        "from keras.utils import to_categorical\n",
        "from keras.models import Sequential\n",
        "from keras.layers import Dense\n",
        "from matplotlib import pyplot\n",
        "# generate 2d classification dataset\n",
        "X, y = make_blobs(n_samples=1100, centers=3, n_features=2, cluster_std=2, random_state=2)\n",
        "# one hot encode output variable\n",
        "y = to_categorical(y)\n",
        "# split into train and test\n",
        "n_train = 100\n",
        "trainX, testX = X[:n_train, :], X[n_train:, :]\n",
        "trainy, testy = y[:n_train], y[n_train:]\n",
        "print(trainX.shape, testX.shape)\n",
        "# define model\n",
        "model = Sequential()\n",
        "model.add(Dense(25, input_dim=2, activation='relu'))\n",
        "model.add(Dense(3, activation='softmax'))\n",
        "model.compile(loss='categorical_crossentropy', optimizer='adam', metrics=['accuracy'])\n",
        "# fit model\n",
        "history = model.fit(trainX, trainy, validation_data=(testX, testy), epochs=500, verbose=0)\n",
        "# evaluate the model\n",
        "_, train_acc = model.evaluate(trainX, trainy, verbose=0)\n",
        "_, test_acc = model.evaluate(testX, testy, verbose=0)\n",
        "print('Train: %.3f, Test: %.3f' % (train_acc, test_acc))\n",
        "# learning curves of model accuracy\n",
        "\n",
        "pyplot.plot(history.history['acc'], label='train')\n",
        "pyplot.plot(history.history['val_acc'], label='test')\n",
        "pyplot.legend()\n",
        "pyplot.show()"
      ],
      "execution_count": 0,
      "outputs": [
        {
          "output_type": "stream",
          "text": [
            "(100, 2) (1000, 2)\n",
            "Train: 0.820, Test: 0.815\n"
          ],
          "name": "stdout"
        },
        {
          "output_type": "display_data",
          "data": {
            "image/png": "[encoded data removed]",
            "text/plain": [
              "<Figure size 432x288 with 1 Axes>"
            ]
          },
          "metadata": {
            "tags": []
          }
        }
      ]
    },
    {
      "cell_type": "code",
      "metadata": {
        "id": "Oqa9uikIumAi",
        "colab_type": "code",
        "outputId": "d504fa35-999f-413f-b520-6152dccd5ea7",
        "colab": {
          "base_uri": "https://localhost:8080/",
          "height": 469
        }
      },
      "source": [
        "# model averaging ensemble for the blobs dataset\n",
        "from sklearn.datasets.samples_generator import make_blobs\n",
        "from sklearn.metrics import accuracy_score\n",
        "from keras.utils import to_categorical\n",
        "from keras.models import Sequential\n",
        "from keras.layers import Dense\n",
        "from matplotlib import pyplot\n",
        "from numpy import mean\n",
        "from numpy import std\n",
        "import numpy\n",
        "from numpy import array\n",
        "from numpy import argmax\n",
        "\n",
        "# fit model on dataset\n",
        "def fit_model(trainX, trainy):\n",
        "\ttrainy_enc = to_categorical(trainy)\n",
        "\t# define model\n",
        "\tmodel = Sequential()\n",
        "\tmodel.add(Dense(25, input_dim=2, activation='relu'))\n",
        "\tmodel.add(Dense(3, activation='softmax'))\n",
        "\tmodel.compile(loss='categorical_crossentropy', optimizer='adam', metrics=['accuracy'])\n",
        "\t# fit model\n",
        "\tmodel.fit(trainX, trainy_enc, epochs=500, verbose=0)\n",
        "\treturn model\n",
        "\n",
        "# make an ensemble prediction for multi-class classification\n",
        "def ensemble_predictions(members, testX):\n",
        "\t# make predictions\n",
        "\tyhats = [model.predict(testX) for model in members]\n",
        "\tyhats = array(yhats)\n",
        "\t# sum across ensemble members\n",
        "\tsummed = numpy.sum(yhats, axis=0)\n",
        "\t# argmax across classes\n",
        "\tresult = argmax(summed, axis=1)\n",
        "\treturn result\n",
        "\n",
        "# evaluate a specific number of members in an ensemble\n",
        "def evaluate_n_members(members, n_members, testX, testy):\n",
        "\t# select a subset of members\n",
        "\tsubset = members[:n_members]\n",
        "\t# make prediction\n",
        "\tyhat = ensemble_predictions(subset, testX)\n",
        "\t# calculate accuracy\n",
        "\treturn accuracy_score(testy, yhat)\n",
        "\n",
        "# generate 2d classification dataset\n",
        "X, y = make_blobs(n_samples=1100, centers=3, n_features=2, cluster_std=2, random_state=2)\n",
        "# split into train and test\n",
        "n_train = 100\n",
        "trainX, testX = X[:n_train, :], X[n_train:, :]\n",
        "trainy, testy = y[:n_train], y[n_train:]\n",
        "print(trainX.shape, testX.shape)\n",
        "# fit all models\n",
        "n_members = 10\n",
        "members = [fit_model(trainX, trainy) for _ in range(n_members)]\n",
        "# evaluate different numbers of ensembles on hold out set\n",
        "single_scores, ensemble_scores = list(), list()\n",
        "for i in range(1, len(members)+1):\n",
        "\t# evaluate model with i members\n",
        "\tensemble_score = evaluate_n_members(members, i, testX, testy)\n",
        "\t# evaluate the i'th model standalone\n",
        "\ttesty_enc = to_categorical(testy)\n",
        "\t_, single_score = members[i-1].evaluate(testX, testy_enc, verbose=0)\n",
        "\t# summarize this step\n",
        "\tprint('> %d: single=%.3f, ensemble=%.3f' % (i, single_score, ensemble_score))\n",
        "\tensemble_scores.append(ensemble_score)\n",
        "\tsingle_scores.append(single_score)\n",
        "# summarize average accuracy of a single final model\n",
        "print('Accuracy %.3f (%.3f)' % (mean(single_scores), std(single_scores)))\n",
        "# plot score vs number of ensemble members\n",
        "x_axis = [i for i in range(1, len(members)+1)]\n",
        "pyplot.plot(x_axis, single_scores, marker='o', linestyle='None')\n",
        "pyplot.plot(x_axis, ensemble_scores, marker='o')\n",
        "pyplot.show()"
      ],
      "execution_count": 0,
      "outputs": [
        {
          "output_type": "stream",
          "text": [
            "(100, 2) (1000, 2)\n",
            "> 1: single=0.801, ensemble=0.801\n",
            "> 2: single=0.811, ensemble=0.811\n",
            "> 3: single=0.817, ensemble=0.810\n",
            "> 4: single=0.806, ensemble=0.810\n",
            "> 5: single=0.810, ensemble=0.815\n",
            "> 6: single=0.811, ensemble=0.817\n",
            "> 7: single=0.813, ensemble=0.818\n",
            "> 8: single=0.808, ensemble=0.814\n",
            "> 9: single=0.817, ensemble=0.813\n",
            "> 10: single=0.825, ensemble=0.817\n",
            "Accuracy 0.812 (0.006)\n"
          ],
          "name": "stdout"
        },
        {
          "output_type": "display_data",
          "data": {
            "image/png": "[encoded data removed]",
            "text/plain": [
              "<Figure size 432x288 with 1 Axes>"
            ]
          },
          "metadata": {
            "tags": []
          }
        }
      ]
    },
    {
      "cell_type": "code",
      "metadata": {
        "id": "trecWruhMH2E",
        "colab_type": "code",
        "colab": {}
      },
      "source": [
        "yhats = [model.predict(testX) for model in members]\n",
        "yhats = array(yhats)\n",
        "# sum across ensemble members\n",
        "summed = numpy.sum(yhats, axis=0)\n",
        "# argmax across classes\n",
        "result = argmax(summed, axis=1)\n",
        " "
      ],
      "execution_count": 0,
      "outputs": []
    },
    {
      "cell_type": "code",
      "metadata": {
        "id": "pSdYevIBTtbe",
        "colab_type": "code",
        "outputId": "5dccd321-9adf-4558-b858-a73819fdb1bb",
        "colab": {
          "base_uri": "https://localhost:8080/",
          "height": 34
        }
      },
      "source": [
        "argmax([.1,0,.1])"
      ],
      "execution_count": 0,
      "outputs": [
        {
          "output_type": "execute_result",
          "data": {
            "text/plain": [
              "0"
            ]
          },
          "metadata": {
            "tags": []
          },
          "execution_count": 18
        }
      ]
    }
  ]
}