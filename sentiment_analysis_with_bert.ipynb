{
  "nbformat": 4,
  "nbformat_minor": 0,
  "metadata": {
    "colab": {
      "name": "sentiment-analysis-with-bert.ipynb",
      "provenance": [],
      "mount_file_id": "1_WBgWrr1j9HU1E9t3aJdRSYoPUJVaTuQ",
      "authorship_tag": "ABX9TyNTXm7A0PFAG8pN/ONfQrgM",
      "include_colab_link": true
    },
    "kernelspec": {
      "name": "python3",
      "display_name": "Python 3"
    },
    "accelerator": "GPU",
    "widgets": {
      "application/vnd.jupyter.widget-state+json": {
        "55050a9547264ea1a97e3e2223e8afe9": {
          "model_module": "@jupyter-widgets/controls",
          "model_name": "HBoxModel",
          "state": {
            "_view_name": "HBoxView",
            "_dom_classes": [],
            "_model_name": "HBoxModel",
            "_view_module": "@jupyter-widgets/controls",
            "_model_module_version": "1.5.0",
            "_view_count": null,
            "_view_module_version": "1.5.0",
            "box_style": "",
            "layout": "IPY_MODEL_c0c9b6f3f2b34bdb898a029ec97af7d7",
            "_model_module": "@jupyter-widgets/controls",
            "children": [
              "IPY_MODEL_38247168374f47e296d2cd4a672dcba1",
              "IPY_MODEL_73db3625818d4fa88f5a90179dfaad42"
            ]
          }
        },
        "c0c9b6f3f2b34bdb898a029ec97af7d7": {
          "model_module": "@jupyter-widgets/base",
          "model_name": "LayoutModel",
          "state": {
            "_view_name": "LayoutView",
            "grid_template_rows": null,
            "right": null,
            "justify_content": null,
            "_view_module": "@jupyter-widgets/base",
            "overflow": null,
            "_model_module_version": "1.2.0",
            "_view_count": null,
            "flex_flow": null,
            "width": null,
            "min_width": null,
            "border": null,
            "align_items": null,
            "bottom": null,
            "_model_module": "@jupyter-widgets/base",
            "top": null,
            "grid_column": null,
            "overflow_y": null,
            "overflow_x": null,
            "grid_auto_flow": null,
            "grid_area": null,
            "grid_template_columns": null,
            "flex": null,
            "_model_name": "LayoutModel",
            "justify_items": null,
            "grid_row": null,
            "max_height": null,
            "align_content": null,
            "visibility": null,
            "align_self": null,
            "height": null,
            "min_height": null,
            "padding": null,
            "grid_auto_rows": null,
            "grid_gap": null,
            "max_width": null,
            "order": null,
            "_view_module_version": "1.2.0",
            "grid_template_areas": null,
            "object_position": null,
            "object_fit": null,
            "grid_auto_columns": null,
            "margin": null,
            "display": null,
            "left": null
          }
        },
        "38247168374f47e296d2cd4a672dcba1": {
          "model_module": "@jupyter-widgets/controls",
          "model_name": "FloatProgressModel",
          "state": {
            "_view_name": "ProgressView",
            "style": "IPY_MODEL_0dfaf710cc38456e97eac6cb8f502c8b",
            "_dom_classes": [],
            "description": "Downloading: 100%",
            "_model_name": "FloatProgressModel",
            "bar_style": "success",
            "max": 213450,
            "_view_module": "@jupyter-widgets/controls",
            "_model_module_version": "1.5.0",
            "value": 213450,
            "_view_count": null,
            "_view_module_version": "1.5.0",
            "orientation": "horizontal",
            "min": 0,
            "description_tooltip": null,
            "_model_module": "@jupyter-widgets/controls",
            "layout": "IPY_MODEL_11ba359831254c81a4dae3e30b75cbdb"
          }
        },
        "73db3625818d4fa88f5a90179dfaad42": {
          "model_module": "@jupyter-widgets/controls",
          "model_name": "HTMLModel",
          "state": {
            "_view_name": "HTMLView",
            "style": "IPY_MODEL_e1b913a3b3d74987aa517e6732ebd799",
            "_dom_classes": [],
            "description": "",
            "_model_name": "HTMLModel",
            "placeholder": "​",
            "_view_module": "@jupyter-widgets/controls",
            "_model_module_version": "1.5.0",
            "value": " 213k/213k [00:00&lt;00:00, 1.39MB/s]",
            "_view_count": null,
            "_view_module_version": "1.5.0",
            "description_tooltip": null,
            "_model_module": "@jupyter-widgets/controls",
            "layout": "IPY_MODEL_193970a4d30d45cd95363af86f7d1228"
          }
        },
        "0dfaf710cc38456e97eac6cb8f502c8b": {
          "model_module": "@jupyter-widgets/controls",
          "model_name": "ProgressStyleModel",
          "state": {
            "_view_name": "StyleView",
            "_model_name": "ProgressStyleModel",
            "description_width": "initial",
            "_view_module": "@jupyter-widgets/base",
            "_model_module_version": "1.5.0",
            "_view_count": null,
            "_view_module_version": "1.2.0",
            "bar_color": null,
            "_model_module": "@jupyter-widgets/controls"
          }
        },
        "11ba359831254c81a4dae3e30b75cbdb": {
          "model_module": "@jupyter-widgets/base",
          "model_name": "LayoutModel",
          "state": {
            "_view_name": "LayoutView",
            "grid_template_rows": null,
            "right": null,
            "justify_content": null,
            "_view_module": "@jupyter-widgets/base",
            "overflow": null,
            "_model_module_version": "1.2.0",
            "_view_count": null,
            "flex_flow": null,
            "width": null,
            "min_width": null,
            "border": null,
            "align_items": null,
            "bottom": null,
            "_model_module": "@jupyter-widgets/base",
            "top": null,
            "grid_column": null,
            "overflow_y": null,
            "overflow_x": null,
            "grid_auto_flow": null,
            "grid_area": null,
            "grid_template_columns": null,
            "flex": null,
            "_model_name": "LayoutModel",
            "justify_items": null,
            "grid_row": null,
            "max_height": null,
            "align_content": null,
            "visibility": null,
            "align_self": null,
            "height": null,
            "min_height": null,
            "padding": null,
            "grid_auto_rows": null,
            "grid_gap": null,
            "max_width": null,
            "order": null,
            "_view_module_version": "1.2.0",
            "grid_template_areas": null,
            "object_position": null,
            "object_fit": null,
            "grid_auto_columns": null,
            "margin": null,
            "display": null,
            "left": null
          }
        },
        "e1b913a3b3d74987aa517e6732ebd799": {
          "model_module": "@jupyter-widgets/controls",
          "model_name": "DescriptionStyleModel",
          "state": {
            "_view_name": "StyleView",
            "_model_name": "DescriptionStyleModel",
            "description_width": "",
            "_view_module": "@jupyter-widgets/base",
            "_model_module_version": "1.5.0",
            "_view_count": null,
            "_view_module_version": "1.2.0",
            "_model_module": "@jupyter-widgets/controls"
          }
        },
        "193970a4d30d45cd95363af86f7d1228": {
          "model_module": "@jupyter-widgets/base",
          "model_name": "LayoutModel",
          "state": {
            "_view_name": "LayoutView",
            "grid_template_rows": null,
            "right": null,
            "justify_content": null,
            "_view_module": "@jupyter-widgets/base",
            "overflow": null,
            "_model_module_version": "1.2.0",
            "_view_count": null,
            "flex_flow": null,
            "width": null,
            "min_width": null,
            "border": null,
            "align_items": null,
            "bottom": null,
            "_model_module": "@jupyter-widgets/base",
            "top": null,
            "grid_column": null,
            "overflow_y": null,
            "overflow_x": null,
            "grid_auto_flow": null,
            "grid_area": null,
            "grid_template_columns": null,
            "flex": null,
            "_model_name": "LayoutModel",
            "justify_items": null,
            "grid_row": null,
            "max_height": null,
            "align_content": null,
            "visibility": null,
            "align_self": null,
            "height": null,
            "min_height": null,
            "padding": null,
            "grid_auto_rows": null,
            "grid_gap": null,
            "max_width": null,
            "order": null,
            "_view_module_version": "1.2.0",
            "grid_template_areas": null,
            "object_position": null,
            "object_fit": null,
            "grid_auto_columns": null,
            "margin": null,
            "display": null,
            "left": null
          }
        },
        "c71294b3ebb74f4caf75fc8bb91f0ddb": {
          "model_module": "@jupyter-widgets/controls",
          "model_name": "HBoxModel",
          "state": {
            "_view_name": "HBoxView",
            "_dom_classes": [],
            "_model_name": "HBoxModel",
            "_view_module": "@jupyter-widgets/controls",
            "_model_module_version": "1.5.0",
            "_view_count": null,
            "_view_module_version": "1.5.0",
            "box_style": "",
            "layout": "IPY_MODEL_7f27d80df6a541ecbbdafefd748234e2",
            "_model_module": "@jupyter-widgets/controls",
            "children": [
              "IPY_MODEL_649aaefeeea84f81a57594e1ba229366",
              "IPY_MODEL_82b344435a4c4218adcb147187b138e7"
            ]
          }
        },
        "7f27d80df6a541ecbbdafefd748234e2": {
          "model_module": "@jupyter-widgets/base",
          "model_name": "LayoutModel",
          "state": {
            "_view_name": "LayoutView",
            "grid_template_rows": null,
            "right": null,
            "justify_content": null,
            "_view_module": "@jupyter-widgets/base",
            "overflow": null,
            "_model_module_version": "1.2.0",
            "_view_count": null,
            "flex_flow": null,
            "width": null,
            "min_width": null,
            "border": null,
            "align_items": null,
            "bottom": null,
            "_model_module": "@jupyter-widgets/base",
            "top": null,
            "grid_column": null,
            "overflow_y": null,
            "overflow_x": null,
            "grid_auto_flow": null,
            "grid_area": null,
            "grid_template_columns": null,
            "flex": null,
            "_model_name": "LayoutModel",
            "justify_items": null,
            "grid_row": null,
            "max_height": null,
            "align_content": null,
            "visibility": null,
            "align_self": null,
            "height": null,
            "min_height": null,
            "padding": null,
            "grid_auto_rows": null,
            "grid_gap": null,
            "max_width": null,
            "order": null,
            "_view_module_version": "1.2.0",
            "grid_template_areas": null,
            "object_position": null,
            "object_fit": null,
            "grid_auto_columns": null,
            "margin": null,
            "display": null,
            "left": null
          }
        },
        "649aaefeeea84f81a57594e1ba229366": {
          "model_module": "@jupyter-widgets/controls",
          "model_name": "FloatProgressModel",
          "state": {
            "_view_name": "ProgressView",
            "style": "IPY_MODEL_5a864d99f7ed4e93bcb5a407e80d067d",
            "_dom_classes": [],
            "description": "Downloading: 100%",
            "_model_name": "FloatProgressModel",
            "bar_style": "success",
            "max": 433,
            "_view_module": "@jupyter-widgets/controls",
            "_model_module_version": "1.5.0",
            "value": 433,
            "_view_count": null,
            "_view_module_version": "1.5.0",
            "orientation": "horizontal",
            "min": 0,
            "description_tooltip": null,
            "_model_module": "@jupyter-widgets/controls",
            "layout": "IPY_MODEL_15978290ecf04c20bf1b3ffd1a2f0d07"
          }
        },
        "82b344435a4c4218adcb147187b138e7": {
          "model_module": "@jupyter-widgets/controls",
          "model_name": "HTMLModel",
          "state": {
            "_view_name": "HTMLView",
            "style": "IPY_MODEL_66d778ac9c8f412bb1af57cf75ef33ee",
            "_dom_classes": [],
            "description": "",
            "_model_name": "HTMLModel",
            "placeholder": "​",
            "_view_module": "@jupyter-widgets/controls",
            "_model_module_version": "1.5.0",
            "value": " 433/433 [00:20&lt;00:00, 20.9B/s]",
            "_view_count": null,
            "_view_module_version": "1.5.0",
            "description_tooltip": null,
            "_model_module": "@jupyter-widgets/controls",
            "layout": "IPY_MODEL_3d55c024b5b74e26985f2782376979df"
          }
        },
        "5a864d99f7ed4e93bcb5a407e80d067d": {
          "model_module": "@jupyter-widgets/controls",
          "model_name": "ProgressStyleModel",
          "state": {
            "_view_name": "StyleView",
            "_model_name": "ProgressStyleModel",
            "description_width": "initial",
            "_view_module": "@jupyter-widgets/base",
            "_model_module_version": "1.5.0",
            "_view_count": null,
            "_view_module_version": "1.2.0",
            "bar_color": null,
            "_model_module": "@jupyter-widgets/controls"
          }
        },
        "15978290ecf04c20bf1b3ffd1a2f0d07": {
          "model_module": "@jupyter-widgets/base",
          "model_name": "LayoutModel",
          "state": {
            "_view_name": "LayoutView",
            "grid_template_rows": null,
            "right": null,
            "justify_content": null,
            "_view_module": "@jupyter-widgets/base",
            "overflow": null,
            "_model_module_version": "1.2.0",
            "_view_count": null,
            "flex_flow": null,
            "width": null,
            "min_width": null,
            "border": null,
            "align_items": null,
            "bottom": null,
            "_model_module": "@jupyter-widgets/base",
            "top": null,
            "grid_column": null,
            "overflow_y": null,
            "overflow_x": null,
            "grid_auto_flow": null,
            "grid_area": null,
            "grid_template_columns": null,
            "flex": null,
            "_model_name": "LayoutModel",
            "justify_items": null,
            "grid_row": null,
            "max_height": null,
            "align_content": null,
            "visibility": null,
            "align_self": null,
            "height": null,
            "min_height": null,
            "padding": null,
            "grid_auto_rows": null,
            "grid_gap": null,
            "max_width": null,
            "order": null,
            "_view_module_version": "1.2.0",
            "grid_template_areas": null,
            "object_position": null,
            "object_fit": null,
            "grid_auto_columns": null,
            "margin": null,
            "display": null,
            "left": null
          }
        },
        "66d778ac9c8f412bb1af57cf75ef33ee": {
          "model_module": "@jupyter-widgets/controls",
          "model_name": "DescriptionStyleModel",
          "state": {
            "_view_name": "StyleView",
            "_model_name": "DescriptionStyleModel",
            "description_width": "",
            "_view_module": "@jupyter-widgets/base",
            "_model_module_version": "1.5.0",
            "_view_count": null,
            "_view_module_version": "1.2.0",
            "_model_module": "@jupyter-widgets/controls"
          }
        },
        "3d55c024b5b74e26985f2782376979df": {
          "model_module": "@jupyter-widgets/base",
          "model_name": "LayoutModel",
          "state": {
            "_view_name": "LayoutView",
            "grid_template_rows": null,
            "right": null,
            "justify_content": null,
            "_view_module": "@jupyter-widgets/base",
            "overflow": null,
            "_model_module_version": "1.2.0",
            "_view_count": null,
            "flex_flow": null,
            "width": null,
            "min_width": null,
            "border": null,
            "align_items": null,
            "bottom": null,
            "_model_module": "@jupyter-widgets/base",
            "top": null,
            "grid_column": null,
            "overflow_y": null,
            "overflow_x": null,
            "grid_auto_flow": null,
            "grid_area": null,
            "grid_template_columns": null,
            "flex": null,
            "_model_name": "LayoutModel",
            "justify_items": null,
            "grid_row": null,
            "max_height": null,
            "align_content": null,
            "visibility": null,
            "align_self": null,
            "height": null,
            "min_height": null,
            "padding": null,
            "grid_auto_rows": null,
            "grid_gap": null,
            "max_width": null,
            "order": null,
            "_view_module_version": "1.2.0",
            "grid_template_areas": null,
            "object_position": null,
            "object_fit": null,
            "grid_auto_columns": null,
            "margin": null,
            "display": null,
            "left": null
          }
        },
        "dc8deb8da77b493dac0c97af23679734": {
          "model_module": "@jupyter-widgets/controls",
          "model_name": "HBoxModel",
          "state": {
            "_view_name": "HBoxView",
            "_dom_classes": [],
            "_model_name": "HBoxModel",
            "_view_module": "@jupyter-widgets/controls",
            "_model_module_version": "1.5.0",
            "_view_count": null,
            "_view_module_version": "1.5.0",
            "box_style": "",
            "layout": "IPY_MODEL_76af7fbfb4e34f64b570187c9d60574d",
            "_model_module": "@jupyter-widgets/controls",
            "children": [
              "IPY_MODEL_015e3a52abd94921816ef5bb668ef022",
              "IPY_MODEL_186892616a7545cf926b05c341a1e872"
            ]
          }
        },
        "76af7fbfb4e34f64b570187c9d60574d": {
          "model_module": "@jupyter-widgets/base",
          "model_name": "LayoutModel",
          "state": {
            "_view_name": "LayoutView",
            "grid_template_rows": null,
            "right": null,
            "justify_content": null,
            "_view_module": "@jupyter-widgets/base",
            "overflow": null,
            "_model_module_version": "1.2.0",
            "_view_count": null,
            "flex_flow": null,
            "width": null,
            "min_width": null,
            "border": null,
            "align_items": null,
            "bottom": null,
            "_model_module": "@jupyter-widgets/base",
            "top": null,
            "grid_column": null,
            "overflow_y": null,
            "overflow_x": null,
            "grid_auto_flow": null,
            "grid_area": null,
            "grid_template_columns": null,
            "flex": null,
            "_model_name": "LayoutModel",
            "justify_items": null,
            "grid_row": null,
            "max_height": null,
            "align_content": null,
            "visibility": null,
            "align_self": null,
            "height": null,
            "min_height": null,
            "padding": null,
            "grid_auto_rows": null,
            "grid_gap": null,
            "max_width": null,
            "order": null,
            "_view_module_version": "1.2.0",
            "grid_template_areas": null,
            "object_position": null,
            "object_fit": null,
            "grid_auto_columns": null,
            "margin": null,
            "display": null,
            "left": null
          }
        },
        "015e3a52abd94921816ef5bb668ef022": {
          "model_module": "@jupyter-widgets/controls",
          "model_name": "FloatProgressModel",
          "state": {
            "_view_name": "ProgressView",
            "style": "IPY_MODEL_632c1ddbfb5349d49cb07bf028c6f4ea",
            "_dom_classes": [],
            "description": "Downloading: 100%",
            "_model_name": "FloatProgressModel",
            "bar_style": "success",
            "max": 435779157,
            "_view_module": "@jupyter-widgets/controls",
            "_model_module_version": "1.5.0",
            "value": 435779157,
            "_view_count": null,
            "_view_module_version": "1.5.0",
            "orientation": "horizontal",
            "min": 0,
            "description_tooltip": null,
            "_model_module": "@jupyter-widgets/controls",
            "layout": "IPY_MODEL_9ab4442977484a98b76207d6394ac507"
          }
        },
        "186892616a7545cf926b05c341a1e872": {
          "model_module": "@jupyter-widgets/controls",
          "model_name": "HTMLModel",
          "state": {
            "_view_name": "HTMLView",
            "style": "IPY_MODEL_f73cb48e7c3f4a9eb7ec5d3a25540965",
            "_dom_classes": [],
            "description": "",
            "_model_name": "HTMLModel",
            "placeholder": "​",
            "_view_module": "@jupyter-widgets/controls",
            "_model_module_version": "1.5.0",
            "value": " 436M/436M [00:20&lt;00:00, 21.4MB/s]",
            "_view_count": null,
            "_view_module_version": "1.5.0",
            "description_tooltip": null,
            "_model_module": "@jupyter-widgets/controls",
            "layout": "IPY_MODEL_aa6f4afd03f247228fcdebf54ddbcff5"
          }
        },
        "632c1ddbfb5349d49cb07bf028c6f4ea": {
          "model_module": "@jupyter-widgets/controls",
          "model_name": "ProgressStyleModel",
          "state": {
            "_view_name": "StyleView",
            "_model_name": "ProgressStyleModel",
            "description_width": "initial",
            "_view_module": "@jupyter-widgets/base",
            "_model_module_version": "1.5.0",
            "_view_count": null,
            "_view_module_version": "1.2.0",
            "bar_color": null,
            "_model_module": "@jupyter-widgets/controls"
          }
        },
        "9ab4442977484a98b76207d6394ac507": {
          "model_module": "@jupyter-widgets/base",
          "model_name": "LayoutModel",
          "state": {
            "_view_name": "LayoutView",
            "grid_template_rows": null,
            "right": null,
            "justify_content": null,
            "_view_module": "@jupyter-widgets/base",
            "overflow": null,
            "_model_module_version": "1.2.0",
            "_view_count": null,
            "flex_flow": null,
            "width": null,
            "min_width": null,
            "border": null,
            "align_items": null,
            "bottom": null,
            "_model_module": "@jupyter-widgets/base",
            "top": null,
            "grid_column": null,
            "overflow_y": null,
            "overflow_x": null,
            "grid_auto_flow": null,
            "grid_area": null,
            "grid_template_columns": null,
            "flex": null,
            "_model_name": "LayoutModel",
            "justify_items": null,
            "grid_row": null,
            "max_height": null,
            "align_content": null,
            "visibility": null,
            "align_self": null,
            "height": null,
            "min_height": null,
            "padding": null,
            "grid_auto_rows": null,
            "grid_gap": null,
            "max_width": null,
            "order": null,
            "_view_module_version": "1.2.0",
            "grid_template_areas": null,
            "object_position": null,
            "object_fit": null,
            "grid_auto_columns": null,
            "margin": null,
            "display": null,
            "left": null
          }
        },
        "f73cb48e7c3f4a9eb7ec5d3a25540965": {
          "model_module": "@jupyter-widgets/controls",
          "model_name": "DescriptionStyleModel",
          "state": {
            "_view_name": "StyleView",
            "_model_name": "DescriptionStyleModel",
            "description_width": "",
            "_view_module": "@jupyter-widgets/base",
            "_model_module_version": "1.5.0",
            "_view_count": null,
            "_view_module_version": "1.2.0",
            "_model_module": "@jupyter-widgets/controls"
          }
        },
        "aa6f4afd03f247228fcdebf54ddbcff5": {
          "model_module": "@jupyter-widgets/base",
          "model_name": "LayoutModel",
          "state": {
            "_view_name": "LayoutView",
            "grid_template_rows": null,
            "right": null,
            "justify_content": null,
            "_view_module": "@jupyter-widgets/base",
            "overflow": null,
            "_model_module_version": "1.2.0",
            "_view_count": null,
            "flex_flow": null,
            "width": null,
            "min_width": null,
            "border": null,
            "align_items": null,
            "bottom": null,
            "_model_module": "@jupyter-widgets/base",
            "top": null,
            "grid_column": null,
            "overflow_y": null,
            "overflow_x": null,
            "grid_auto_flow": null,
            "grid_area": null,
            "grid_template_columns": null,
            "flex": null,
            "_model_name": "LayoutModel",
            "justify_items": null,
            "grid_row": null,
            "max_height": null,
            "align_content": null,
            "visibility": null,
            "align_self": null,
            "height": null,
            "min_height": null,
            "padding": null,
            "grid_auto_rows": null,
            "grid_gap": null,
            "max_width": null,
            "order": null,
            "_view_module_version": "1.2.0",
            "grid_template_areas": null,
            "object_position": null,
            "object_fit": null,
            "grid_auto_columns": null,
            "margin": null,
            "display": null,
            "left": null
          }
        }
      }
    }
  },
  "cells": [
    {
      "cell_type": "markdown",
      "metadata": {
        "id": "view-in-github",
        "colab_type": "text"
      },
      "source": [
        "<a href=\"https://colab.research.google.com/github/abulhasanat/MachineLearning/blob/master/sentiment_analysis_with_bert.ipynb\" target=\"_parent\"><img src=\"https://colab.research.google.com/assets/colab-badge.svg\" alt=\"Open In Colab\"/></a>"
      ]
    },
    {
      "cell_type": "code",
      "metadata": {
        "id": "UtXp-lHQqa4a",
        "colab_type": "code",
        "colab": {
          "base_uri": "https://localhost:8080/",
          "height": 581
        },
        "outputId": "0dbfcea4-33c7-4a07-e7d9-b68871ef5e84"
      },
      "source": [
        "!pip install transformers"
      ],
      "execution_count": 1,
      "outputs": [
        {
          "output_type": "stream",
          "text": [
            "Collecting transformers\n",
            "\u001b[?25l  Downloading https://files.pythonhosted.org/packages/12/b5/ac41e3e95205ebf53439e4dd087c58e9fd371fd8e3724f2b9b4cdb8282e5/transformers-2.10.0-py3-none-any.whl (660kB)\n",
            "\r\u001b[K     |▌                               | 10kB 23.5MB/s eta 0:00:01\r\u001b[K     |█                               | 20kB 2.1MB/s eta 0:00:01\r\u001b[K     |█▌                              | 30kB 2.8MB/s eta 0:00:01\r\u001b[K     |██                              | 40kB 3.0MB/s eta 0:00:01\r\u001b[K     |██▌                             | 51kB 2.5MB/s eta 0:00:01\r\u001b[K     |███                             | 61kB 2.8MB/s eta 0:00:01\r\u001b[K     |███▌                            | 71kB 3.0MB/s eta 0:00:01\r\u001b[K     |████                            | 81kB 3.3MB/s eta 0:00:01\r\u001b[K     |████▌                           | 92kB 3.6MB/s eta 0:00:01\r\u001b[K     |█████                           | 102kB 3.4MB/s eta 0:00:01\r\u001b[K     |█████▌                          | 112kB 3.4MB/s eta 0:00:01\r\u001b[K     |██████                          | 122kB 3.4MB/s eta 0:00:01\r\u001b[K     |██████▌                         | 133kB 3.4MB/s eta 0:00:01\r\u001b[K     |███████                         | 143kB 3.4MB/s eta 0:00:01\r\u001b[K     |███████▌                        | 153kB 3.4MB/s eta 0:00:01\r\u001b[K     |████████                        | 163kB 3.4MB/s eta 0:00:01\r\u001b[K     |████████▍                       | 174kB 3.4MB/s eta 0:00:01\r\u001b[K     |█████████                       | 184kB 3.4MB/s eta 0:00:01\r\u001b[K     |█████████▍                      | 194kB 3.4MB/s eta 0:00:01\r\u001b[K     |██████████                      | 204kB 3.4MB/s eta 0:00:01\r\u001b[K     |██████████▍                     | 215kB 3.4MB/s eta 0:00:01\r\u001b[K     |███████████                     | 225kB 3.4MB/s eta 0:00:01\r\u001b[K     |███████████▍                    | 235kB 3.4MB/s eta 0:00:01\r\u001b[K     |████████████                    | 245kB 3.4MB/s eta 0:00:01\r\u001b[K     |████████████▍                   | 256kB 3.4MB/s eta 0:00:01\r\u001b[K     |█████████████                   | 266kB 3.4MB/s eta 0:00:01\r\u001b[K     |█████████████▍                  | 276kB 3.4MB/s eta 0:00:01\r\u001b[K     |██████████████                  | 286kB 3.4MB/s eta 0:00:01\r\u001b[K     |██████████████▍                 | 296kB 3.4MB/s eta 0:00:01\r\u001b[K     |███████████████                 | 307kB 3.4MB/s eta 0:00:01\r\u001b[K     |███████████████▍                | 317kB 3.4MB/s eta 0:00:01\r\u001b[K     |███████████████▉                | 327kB 3.4MB/s eta 0:00:01\r\u001b[K     |████████████████▍               | 337kB 3.4MB/s eta 0:00:01\r\u001b[K     |████████████████▉               | 348kB 3.4MB/s eta 0:00:01\r\u001b[K     |█████████████████▍              | 358kB 3.4MB/s eta 0:00:01\r\u001b[K     |█████████████████▉              | 368kB 3.4MB/s eta 0:00:01\r\u001b[K     |██████████████████▍             | 378kB 3.4MB/s eta 0:00:01\r\u001b[K     |██████████████████▉             | 389kB 3.4MB/s eta 0:00:01\r\u001b[K     |███████████████████▍            | 399kB 3.4MB/s eta 0:00:01\r\u001b[K     |███████████████████▉            | 409kB 3.4MB/s eta 0:00:01\r\u001b[K     |████████████████████▍           | 419kB 3.4MB/s eta 0:00:01\r\u001b[K     |████████████████████▉           | 430kB 3.4MB/s eta 0:00:01\r\u001b[K     |█████████████████████▍          | 440kB 3.4MB/s eta 0:00:01\r\u001b[K     |█████████████████████▉          | 450kB 3.4MB/s eta 0:00:01\r\u001b[K     |██████████████████████▍         | 460kB 3.4MB/s eta 0:00:01\r\u001b[K     |██████████████████████▉         | 471kB 3.4MB/s eta 0:00:01\r\u001b[K     |███████████████████████▎        | 481kB 3.4MB/s eta 0:00:01\r\u001b[K     |███████████████████████▉        | 491kB 3.4MB/s eta 0:00:01\r\u001b[K     |████████████████████████▎       | 501kB 3.4MB/s eta 0:00:01\r\u001b[K     |████████████████████████▉       | 512kB 3.4MB/s eta 0:00:01\r\u001b[K     |█████████████████████████▎      | 522kB 3.4MB/s eta 0:00:01\r\u001b[K     |█████████████████████████▉      | 532kB 3.4MB/s eta 0:00:01\r\u001b[K     |██████████████████████████▎     | 542kB 3.4MB/s eta 0:00:01\r\u001b[K     |██████████████████████████▉     | 552kB 3.4MB/s eta 0:00:01\r\u001b[K     |███████████████████████████▎    | 563kB 3.4MB/s eta 0:00:01\r\u001b[K     |███████████████████████████▉    | 573kB 3.4MB/s eta 0:00:01\r\u001b[K     |████████████████████████████▎   | 583kB 3.4MB/s eta 0:00:01\r\u001b[K     |████████████████████████████▉   | 593kB 3.4MB/s eta 0:00:01\r\u001b[K     |█████████████████████████████▎  | 604kB 3.4MB/s eta 0:00:01\r\u001b[K     |█████████████████████████████▉  | 614kB 3.4MB/s eta 0:00:01\r\u001b[K     |██████████████████████████████▎ | 624kB 3.4MB/s eta 0:00:01\r\u001b[K     |██████████████████████████████▊ | 634kB 3.4MB/s eta 0:00:01\r\u001b[K     |███████████████████████████████▎| 645kB 3.4MB/s eta 0:00:01\r\u001b[K     |███████████████████████████████▊| 655kB 3.4MB/s eta 0:00:01\r\u001b[K     |████████████████████████████████| 665kB 3.4MB/s \n",
            "\u001b[?25hCollecting sacremoses\n",
            "\u001b[?25l  Downloading https://files.pythonhosted.org/packages/7d/34/09d19aff26edcc8eb2a01bed8e98f13a1537005d31e95233fd48216eed10/sacremoses-0.0.43.tar.gz (883kB)\n",
            "\r\u001b[K     |▍                               | 10kB 20.0MB/s eta 0:00:01\r\u001b[K     |▊                               | 20kB 15.1MB/s eta 0:00:01\r\u001b[K     |█▏                              | 30kB 19.7MB/s eta 0:00:01\r\u001b[K     |█▌                              | 40kB 17.1MB/s eta 0:00:01\r\u001b[K     |█▉                              | 51kB 15.7MB/s eta 0:00:01\r\u001b[K     |██▎                             | 61kB 17.8MB/s eta 0:00:01\r\u001b[K     |██▋                             | 71kB 16.4MB/s eta 0:00:01\r\u001b[K     |███                             | 81kB 17.8MB/s eta 0:00:01\r\u001b[K     |███▍                            | 92kB 17.5MB/s eta 0:00:01\r\u001b[K     |███▊                            | 102kB 15.1MB/s eta 0:00:01\r\u001b[K     |████                            | 112kB 15.1MB/s eta 0:00:01\r\u001b[K     |████▌                           | 122kB 15.1MB/s eta 0:00:01\r\u001b[K     |████▉                           | 133kB 15.1MB/s eta 0:00:01\r\u001b[K     |█████▏                          | 143kB 15.1MB/s eta 0:00:01\r\u001b[K     |█████▋                          | 153kB 15.1MB/s eta 0:00:01\r\u001b[K     |██████                          | 163kB 15.1MB/s eta 0:00:01\r\u001b[K     |██████▎                         | 174kB 15.1MB/s eta 0:00:01\r\u001b[K     |██████▊                         | 184kB 15.1MB/s eta 0:00:01\r\u001b[K     |███████                         | 194kB 15.1MB/s eta 0:00:01\r\u001b[K     |███████▍                        | 204kB 15.1MB/s eta 0:00:01\r\u001b[K     |███████▉                        | 215kB 15.1MB/s eta 0:00:01\r\u001b[K     |████████▏                       | 225kB 15.1MB/s eta 0:00:01\r\u001b[K     |████████▌                       | 235kB 15.1MB/s eta 0:00:01\r\u001b[K     |█████████                       | 245kB 15.1MB/s eta 0:00:01\r\u001b[K     |█████████▎                      | 256kB 15.1MB/s eta 0:00:01\r\u001b[K     |█████████▋                      | 266kB 15.1MB/s eta 0:00:01\r\u001b[K     |██████████                      | 276kB 15.1MB/s eta 0:00:01\r\u001b[K     |██████████▍                     | 286kB 15.1MB/s eta 0:00:01\r\u001b[K     |██████████▊                     | 296kB 15.1MB/s eta 0:00:01\r\u001b[K     |███████████▏                    | 307kB 15.1MB/s eta 0:00:01\r\u001b[K     |███████████▌                    | 317kB 15.1MB/s eta 0:00:01\r\u001b[K     |███████████▉                    | 327kB 15.1MB/s eta 0:00:01\r\u001b[K     |████████████▎                   | 337kB 15.1MB/s eta 0:00:01\r\u001b[K     |████████████▋                   | 348kB 15.1MB/s eta 0:00:01\r\u001b[K     |█████████████                   | 358kB 15.1MB/s eta 0:00:01\r\u001b[K     |█████████████▍                  | 368kB 15.1MB/s eta 0:00:01\r\u001b[K     |█████████████▊                  | 378kB 15.1MB/s eta 0:00:01\r\u001b[K     |██████████████                  | 389kB 15.1MB/s eta 0:00:01\r\u001b[K     |██████████████▌                 | 399kB 15.1MB/s eta 0:00:01\r\u001b[K     |██████████████▉                 | 409kB 15.1MB/s eta 0:00:01\r\u001b[K     |███████████████▏                | 419kB 15.1MB/s eta 0:00:01\r\u001b[K     |███████████████▋                | 430kB 15.1MB/s eta 0:00:01\r\u001b[K     |████████████████                | 440kB 15.1MB/s eta 0:00:01\r\u001b[K     |████████████████▎               | 450kB 15.1MB/s eta 0:00:01\r\u001b[K     |████████████████▊               | 460kB 15.1MB/s eta 0:00:01\r\u001b[K     |█████████████████               | 471kB 15.1MB/s eta 0:00:01\r\u001b[K     |█████████████████▍              | 481kB 15.1MB/s eta 0:00:01\r\u001b[K     |█████████████████▉              | 491kB 15.1MB/s eta 0:00:01\r\u001b[K     |██████████████████▏             | 501kB 15.1MB/s eta 0:00:01\r\u001b[K     |██████████████████▌             | 512kB 15.1MB/s eta 0:00:01\r\u001b[K     |███████████████████             | 522kB 15.1MB/s eta 0:00:01\r\u001b[K     |███████████████████▎            | 532kB 15.1MB/s eta 0:00:01\r\u001b[K     |███████████████████▋            | 542kB 15.1MB/s eta 0:00:01\r\u001b[K     |████████████████████            | 552kB 15.1MB/s eta 0:00:01\r\u001b[K     |████████████████████▍           | 563kB 15.1MB/s eta 0:00:01\r\u001b[K     |████████████████████▊           | 573kB 15.1MB/s eta 0:00:01\r\u001b[K     |█████████████████████▏          | 583kB 15.1MB/s eta 0:00:01\r\u001b[K     |█████████████████████▌          | 593kB 15.1MB/s eta 0:00:01\r\u001b[K     |█████████████████████▉          | 604kB 15.1MB/s eta 0:00:01\r\u001b[K     |██████████████████████▎         | 614kB 15.1MB/s eta 0:00:01\r\u001b[K     |██████████████████████▋         | 624kB 15.1MB/s eta 0:00:01\r\u001b[K     |███████████████████████         | 634kB 15.1MB/s eta 0:00:01\r\u001b[K     |███████████████████████▍        | 645kB 15.1MB/s eta 0:00:01\r\u001b[K     |███████████████████████▊        | 655kB 15.1MB/s eta 0:00:01\r\u001b[K     |████████████████████████        | 665kB 15.1MB/s eta 0:00:01\r\u001b[K     |████████████████████████▌       | 675kB 15.1MB/s eta 0:00:01\r\u001b[K     |████████████████████████▉       | 686kB 15.1MB/s eta 0:00:01\r\u001b[K     |█████████████████████████▏      | 696kB 15.1MB/s eta 0:00:01\r\u001b[K     |█████████████████████████▋      | 706kB 15.1MB/s eta 0:00:01\r\u001b[K     |██████████████████████████      | 716kB 15.1MB/s eta 0:00:01\r\u001b[K     |██████████████████████████▎     | 727kB 15.1MB/s eta 0:00:01\r\u001b[K     |██████████████████████████▊     | 737kB 15.1MB/s eta 0:00:01\r\u001b[K     |███████████████████████████     | 747kB 15.1MB/s eta 0:00:01\r\u001b[K     |███████████████████████████▍    | 757kB 15.1MB/s eta 0:00:01\r\u001b[K     |███████████████████████████▉    | 768kB 15.1MB/s eta 0:00:01\r\u001b[K     |████████████████████████████▏   | 778kB 15.1MB/s eta 0:00:01\r\u001b[K     |████████████████████████████▌   | 788kB 15.1MB/s eta 0:00:01\r\u001b[K     |█████████████████████████████   | 798kB 15.1MB/s eta 0:00:01\r\u001b[K     |█████████████████████████████▎  | 808kB 15.1MB/s eta 0:00:01\r\u001b[K     |█████████████████████████████▋  | 819kB 15.1MB/s eta 0:00:01\r\u001b[K     |██████████████████████████████  | 829kB 15.1MB/s eta 0:00:01\r\u001b[K     |██████████████████████████████▍ | 839kB 15.1MB/s eta 0:00:01\r\u001b[K     |██████████████████████████████▊ | 849kB 15.1MB/s eta 0:00:01\r\u001b[K     |███████████████████████████████▏| 860kB 15.1MB/s eta 0:00:01\r\u001b[K     |███████████████████████████████▌| 870kB 15.1MB/s eta 0:00:01\r\u001b[K     |███████████████████████████████▉| 880kB 15.1MB/s eta 0:00:01\r\u001b[K     |████████████████████████████████| 890kB 15.1MB/s \n",
            "\u001b[?25hCollecting tokenizers==0.7.0\n",
            "\u001b[?25l  Downloading https://files.pythonhosted.org/packages/14/e5/a26eb4716523808bb0a799fcfdceb6ebf77a18169d9591b2f46a9adb87d9/tokenizers-0.7.0-cp36-cp36m-manylinux1_x86_64.whl (3.8MB)\n",
            "\u001b[K     |████████████████████████████████| 3.8MB 22.7MB/s \n",
            "\u001b[?25hRequirement already satisfied: dataclasses; python_version < \"3.7\" in /usr/local/lib/python3.6/dist-packages (from transformers) (0.7)\n",
            "Requirement already satisfied: numpy in /usr/local/lib/python3.6/dist-packages (from transformers) (1.18.4)\n",
            "Requirement already satisfied: tqdm>=4.27 in /usr/local/lib/python3.6/dist-packages (from transformers) (4.41.1)\n",
            "Requirement already satisfied: filelock in /usr/local/lib/python3.6/dist-packages (from transformers) (3.0.12)\n",
            "Collecting sentencepiece\n",
            "\u001b[?25l  Downloading https://files.pythonhosted.org/packages/d4/a4/d0a884c4300004a78cca907a6ff9a5e9fe4f090f5d95ab341c53d28cbc58/sentencepiece-0.1.91-cp36-cp36m-manylinux1_x86_64.whl (1.1MB)\n",
            "\u001b[K     |████████████████████████████████| 1.1MB 31.6MB/s \n",
            "\u001b[?25hRequirement already satisfied: requests in /usr/local/lib/python3.6/dist-packages (from transformers) (2.23.0)\n",
            "Requirement already satisfied: regex!=2019.12.17 in /usr/local/lib/python3.6/dist-packages (from transformers) (2019.12.20)\n",
            "Requirement already satisfied: six in /usr/local/lib/python3.6/dist-packages (from sacremoses->transformers) (1.12.0)\n",
            "Requirement already satisfied: click in /usr/local/lib/python3.6/dist-packages (from sacremoses->transformers) (7.1.2)\n",
            "Requirement already satisfied: joblib in /usr/local/lib/python3.6/dist-packages (from sacremoses->transformers) (0.15.1)\n",
            "Requirement already satisfied: chardet<4,>=3.0.2 in /usr/local/lib/python3.6/dist-packages (from requests->transformers) (3.0.4)\n",
            "Requirement already satisfied: certifi>=2017.4.17 in /usr/local/lib/python3.6/dist-packages (from requests->transformers) (2020.4.5.1)\n",
            "Requirement already satisfied: idna<3,>=2.5 in /usr/local/lib/python3.6/dist-packages (from requests->transformers) (2.9)\n",
            "Requirement already satisfied: urllib3!=1.25.0,!=1.25.1,<1.26,>=1.21.1 in /usr/local/lib/python3.6/dist-packages (from requests->transformers) (1.24.3)\n",
            "Building wheels for collected packages: sacremoses\n",
            "  Building wheel for sacremoses (setup.py) ... \u001b[?25l\u001b[?25hdone\n",
            "  Created wheel for sacremoses: filename=sacremoses-0.0.43-cp36-none-any.whl size=893260 sha256=94a1d484f71ee8be7c3c1298c77b2e5ea97cc7f8ffab8c6ed32314062fcec7e5\n",
            "  Stored in directory: /root/.cache/pip/wheels/29/3c/fd/7ce5c3f0666dab31a50123635e6fb5e19ceb42ce38d4e58f45\n",
            "Successfully built sacremoses\n",
            "Installing collected packages: sacremoses, tokenizers, sentencepiece, transformers\n",
            "Successfully installed sacremoses-0.0.43 sentencepiece-0.1.91 tokenizers-0.7.0 transformers-2.10.0\n"
          ],
          "name": "stdout"
        }
      ]
    },
    {
      "cell_type": "code",
      "metadata": {
        "id": "CzsXtAVItO-k",
        "colab_type": "code",
        "colab": {
          "base_uri": "https://localhost:8080/",
          "height": 88
        },
        "outputId": "3513584d-9dc0-45b7-8fd1-4e667f9cc986"
      },
      "source": [
        "#@title Setup & Config\n",
        "import transformers\n",
        "from transformers import BertModel, BertTokenizer, AdamW, get_linear_schedule_with_warmup\n",
        "import torch\n",
        "\n",
        "import numpy as np\n",
        "import pandas as pd\n",
        "import seaborn as sns\n",
        "from pylab import rcParams\n",
        "import matplotlib.pyplot as plt\n",
        "from matplotlib import rc\n",
        "from sklearn.model_selection import train_test_split\n",
        "from sklearn.metrics import confusion_matrix, classification_report\n",
        "from collections import defaultdict\n",
        "from textwrap import wrap\n",
        "\n",
        "from torch import nn, optim\n",
        "from torch.utils.data import Dataset, DataLoader\n",
        "import torch.nn.functional as F\n",
        "\n",
        "%matplotlib inline\n",
        "%config InlineBackend.figure_format='retina'\n",
        "\n",
        "sns.set(style='whitegrid', palette='muted', font_scale=1.2)\n",
        "\n",
        "HAPPY_COLORS_PALETTE = [\"#01BEFE\", \"#FFDD00\", \"#FF7D00\", \"#FF006D\", \"#ADFF02\", \"#8F00FF\"]\n",
        "\n",
        "sns.set_palette(sns.color_palette(HAPPY_COLORS_PALETTE))\n",
        "\n",
        "rcParams['figure.figsize'] = 12, 8\n",
        "\n",
        "RANDOM_SEED = 42\n",
        "np.random.seed(RANDOM_SEED)\n",
        "torch.manual_seed(RANDOM_SEED)\n",
        "\n",
        "device = torch.device(\"cuda:0\" if torch.cuda.is_available() else \"cpu\")\n",
        "device"
      ],
      "execution_count": 2,
      "outputs": [
        {
          "output_type": "stream",
          "text": [
            "/usr/local/lib/python3.6/dist-packages/statsmodels/tools/_testing.py:19: FutureWarning: pandas.util.testing is deprecated. Use the functions in the public API at pandas.testing instead.\n",
            "  import pandas.util.testing as tm\n"
          ],
          "name": "stderr"
        },
        {
          "output_type": "execute_result",
          "data": {
            "text/plain": [
              "device(type='cuda', index=0)"
            ]
          },
          "metadata": {
            "tags": []
          },
          "execution_count": 2
        }
      ]
    },
    {
      "cell_type": "code",
      "metadata": {
        "id": "ttyuJKdss3VV",
        "colab_type": "code",
        "colab": {
          "base_uri": "https://localhost:8080/",
          "height": 530
        },
        "outputId": "843d3cde-7b4f-4a73-bec4-ce88e50a8d5b"
      },
      "source": [
        "df = pd.read_csv(\"/content/drive/My Drive/Data/Google Play Review/reviews.csv\")\n",
        "df.head()"
      ],
      "execution_count": 3,
      "outputs": [
        {
          "output_type": "execute_result",
          "data": {
            "text/html": [
              "<div>\n",
              "<style scoped>\n",
              "    .dataframe tbody tr th:only-of-type {\n",
              "        vertical-align: middle;\n",
              "    }\n",
              "\n",
              "    .dataframe tbody tr th {\n",
              "        vertical-align: top;\n",
              "    }\n",
              "\n",
              "    .dataframe thead th {\n",
              "        text-align: right;\n",
              "    }\n",
              "</style>\n",
              "<table border=\"1\" class=\"dataframe\">\n",
              "  <thead>\n",
              "    <tr style=\"text-align: right;\">\n",
              "      <th></th>\n",
              "      <th>reviewId</th>\n",
              "      <th>userName</th>\n",
              "      <th>userImage</th>\n",
              "      <th>content</th>\n",
              "      <th>score</th>\n",
              "      <th>thumbsUpCount</th>\n",
              "      <th>reviewCreatedVersion</th>\n",
              "      <th>at</th>\n",
              "      <th>replyContent</th>\n",
              "      <th>repliedAt</th>\n",
              "      <th>sortOrder</th>\n",
              "      <th>appId</th>\n",
              "    </tr>\n",
              "  </thead>\n",
              "  <tbody>\n",
              "    <tr>\n",
              "      <th>0</th>\n",
              "      <td>gp:AOqpTOGt2KEhc-yNMmOBsXqfHKLGJ-vDENQPVPlGZIM...</td>\n",
              "      <td>Earl Clark</td>\n",
              "      <td>https://lh3.googleusercontent.com/a-/AOh14Gj_X...</td>\n",
              "      <td>This is an expensive app. That being said, it'...</td>\n",
              "      <td>1</td>\n",
              "      <td>120</td>\n",
              "      <td>5.0.0.11</td>\n",
              "      <td>2020-05-16 15:23:38</td>\n",
              "      <td>We are not aware of any issues with editing ta...</td>\n",
              "      <td>2020-05-17 10:06:29</td>\n",
              "      <td>most_relevant</td>\n",
              "      <td>com.anydo</td>\n",
              "    </tr>\n",
              "    <tr>\n",
              "      <th>1</th>\n",
              "      <td>gp:AOqpTOFnIu5LAl0bREEIRnyqUs95zFeDP4kQ-eY638E...</td>\n",
              "      <td>Elad Posner</td>\n",
              "      <td>https://lh3.googleusercontent.com/a-/AOh14Ghzk...</td>\n",
              "      <td>Something is wrong with the last version. Sinc...</td>\n",
              "      <td>1</td>\n",
              "      <td>153</td>\n",
              "      <td>5.0.0.11</td>\n",
              "      <td>2020-05-08 11:48:18</td>\n",
              "      <td>Sorry about that. Please uninstall and reinsta...</td>\n",
              "      <td>2020-05-10 09:25:36</td>\n",
              "      <td>most_relevant</td>\n",
              "      <td>com.anydo</td>\n",
              "    </tr>\n",
              "    <tr>\n",
              "      <th>2</th>\n",
              "      <td>gp:AOqpTOE4go3obyJs27PrDvsA_mPKmlYD_muUNj3NHNA...</td>\n",
              "      <td>Checaii Garcia</td>\n",
              "      <td>https://lh3.googleusercontent.com/a-/AOh14GiQ8...</td>\n",
              "      <td>I wanted to try the app but it never opens. I ...</td>\n",
              "      <td>1</td>\n",
              "      <td>30</td>\n",
              "      <td>5.0.0.11</td>\n",
              "      <td>2020-05-08 08:26:34</td>\n",
              "      <td>Sorry about that! Please feel free to contact ...</td>\n",
              "      <td>2020-05-10 09:20:14</td>\n",
              "      <td>most_relevant</td>\n",
              "      <td>com.anydo</td>\n",
              "    </tr>\n",
              "    <tr>\n",
              "      <th>3</th>\n",
              "      <td>gp:AOqpTOF_OBDJpMDUE3xGa8fbyCJDD3mM8z5AGNSIf4q...</td>\n",
              "      <td>Dominic Flanagan</td>\n",
              "      <td>https://lh3.googleusercontent.com/a-/AOh14Gjk1...</td>\n",
              "      <td>Pretty basic for the price. Lacks customisatio...</td>\n",
              "      <td>1</td>\n",
              "      <td>1</td>\n",
              "      <td>5.1.1.13</td>\n",
              "      <td>2020-05-28 16:23:37</td>\n",
              "      <td>Be advised that Any.do is a minimalistic task ...</td>\n",
              "      <td>2020-05-31 09:01:09</td>\n",
              "      <td>most_relevant</td>\n",
              "      <td>com.anydo</td>\n",
              "    </tr>\n",
              "    <tr>\n",
              "      <th>4</th>\n",
              "      <td>gp:AOqpTOF3Kb-6IdEeeYLcuUncmzjQdtNguLU5GTshqNY...</td>\n",
              "      <td>A Traveller</td>\n",
              "      <td>https://lh3.googleusercontent.com/-yutN8c-KH6U...</td>\n",
              "      <td>This app is a prime example of building a moun...</td>\n",
              "      <td>1</td>\n",
              "      <td>17</td>\n",
              "      <td>5.0.0.11</td>\n",
              "      <td>2020-05-09 17:20:56</td>\n",
              "      <td>If you're having trouble figuring out how to t...</td>\n",
              "      <td>2020-05-12 08:22:05</td>\n",
              "      <td>most_relevant</td>\n",
              "      <td>com.anydo</td>\n",
              "    </tr>\n",
              "  </tbody>\n",
              "</table>\n",
              "</div>"
            ],
            "text/plain": [
              "                                            reviewId  ...      appId\n",
              "0  gp:AOqpTOGt2KEhc-yNMmOBsXqfHKLGJ-vDENQPVPlGZIM...  ...  com.anydo\n",
              "1  gp:AOqpTOFnIu5LAl0bREEIRnyqUs95zFeDP4kQ-eY638E...  ...  com.anydo\n",
              "2  gp:AOqpTOE4go3obyJs27PrDvsA_mPKmlYD_muUNj3NHNA...  ...  com.anydo\n",
              "3  gp:AOqpTOF_OBDJpMDUE3xGa8fbyCJDD3mM8z5AGNSIf4q...  ...  com.anydo\n",
              "4  gp:AOqpTOF3Kb-6IdEeeYLcuUncmzjQdtNguLU5GTshqNY...  ...  com.anydo\n",
              "\n",
              "[5 rows x 12 columns]"
            ]
          },
          "metadata": {
            "tags": []
          },
          "execution_count": 3
        }
      ]
    },
    {
      "cell_type": "code",
      "metadata": {
        "id": "rHzSpPBIUinh",
        "colab_type": "code",
        "colab": {
          "base_uri": "https://localhost:8080/",
          "height": 34
        },
        "outputId": "3fa2f0ee-5db4-4645-f289-709a7d87d013"
      },
      "source": [
        "df.shape"
      ],
      "execution_count": 4,
      "outputs": [
        {
          "output_type": "execute_result",
          "data": {
            "text/plain": [
              "(15926, 12)"
            ]
          },
          "metadata": {
            "tags": []
          },
          "execution_count": 4
        }
      ]
    },
    {
      "cell_type": "code",
      "metadata": {
        "id": "O2tLn0e6tcPs",
        "colab_type": "code",
        "colab": {
          "base_uri": "https://localhost:8080/",
          "height": 340
        },
        "outputId": "82ab7db0-7523-4340-8d55-114704fb2393"
      },
      "source": [
        "df.info()"
      ],
      "execution_count": 5,
      "outputs": [
        {
          "output_type": "stream",
          "text": [
            "<class 'pandas.core.frame.DataFrame'>\n",
            "RangeIndex: 15926 entries, 0 to 15925\n",
            "Data columns (total 12 columns):\n",
            " #   Column                Non-Null Count  Dtype \n",
            "---  ------                --------------  ----- \n",
            " 0   reviewId              15926 non-null  object\n",
            " 1   userName              15926 non-null  object\n",
            " 2   userImage             15926 non-null  object\n",
            " 3   content               15926 non-null  object\n",
            " 4   score                 15926 non-null  int64 \n",
            " 5   thumbsUpCount         15926 non-null  int64 \n",
            " 6   reviewCreatedVersion  13680 non-null  object\n",
            " 7   at                    15926 non-null  object\n",
            " 8   replyContent          7891 non-null   object\n",
            " 9   repliedAt             7891 non-null   object\n",
            " 10  sortOrder             15926 non-null  object\n",
            " 11  appId                 15926 non-null  object\n",
            "dtypes: int64(2), object(10)\n",
            "memory usage: 1.5+ MB\n"
          ],
          "name": "stdout"
        }
      ]
    },
    {
      "cell_type": "code",
      "metadata": {
        "id": "Hsgh2FMbtqoZ",
        "colab_type": "code",
        "colab": {
          "base_uri": "https://localhost:8080/",
          "height": 523
        },
        "outputId": "6f81167c-bfa7-442e-8f3b-2e50bf7d26d5"
      },
      "source": [
        "sns.countplot(df.score)\n",
        "plt.xlabel('review score')"
      ],
      "execution_count": 6,
      "outputs": [
        {
          "output_type": "execute_result",
          "data": {
            "text/plain": [
              "Text(0.5, 0, 'review score')"
            ]
          },
          "metadata": {
            "tags": []
          },
          "execution_count": 6
        },
        {
          "output_type": "display_data",
          "data": {
            "image/png": "[encoded data removed]",
            "text/plain": [
              "<Figure size 864x576 with 1 Axes>"
            ]
          },
          "metadata": {
            "tags": [],
            "image/png": {
              "width": 745,
              "height": 489
            }
          }
        }
      ]
    },
    {
      "cell_type": "code",
      "metadata": {
        "id": "_93jp6lyuDL_",
        "colab_type": "code",
        "colab": {}
      },
      "source": [
        "def to_sentiment(rating):\n",
        "  rating = int(rating)\n",
        "  if rating <= 2:\n",
        "    return 0\n",
        "  elif rating == 3:\n",
        "    return 1\n",
        "  else: \n",
        "    return 2\n",
        "\n",
        "df['sentiment'] = df.score.apply(to_sentiment)"
      ],
      "execution_count": 0,
      "outputs": []
    },
    {
      "cell_type": "code",
      "metadata": {
        "id": "Thi7uhviu6ql",
        "colab_type": "code",
        "colab": {}
      },
      "source": [
        "class_names = ['negative', 'neutral', 'positive']"
      ],
      "execution_count": 0,
      "outputs": []
    },
    {
      "cell_type": "code",
      "metadata": {
        "id": "H89NGH2Xuc5p",
        "colab_type": "code",
        "colab": {
          "base_uri": "https://localhost:8080/",
          "height": 527
        },
        "outputId": "2a598b4c-a6e3-4963-cd12-70aab2f42a52"
      },
      "source": [
        "ax=sns.countplot(df.sentiment)\n",
        "plt.xlabel('review_sentiment')\n",
        "ax.set_xticklabels(class_names)"
      ],
      "execution_count": 9,
      "outputs": [
        {
          "output_type": "execute_result",
          "data": {
            "text/plain": [
              "[Text(0, 0, 'negative'), Text(0, 0, 'neutral'), Text(0, 0, 'positive')]"
            ]
          },
          "metadata": {
            "tags": []
          },
          "execution_count": 9
        },
        {
          "output_type": "display_data",
          "data": {
            "image/png": "[encoded data removed]",
            "text/plain": [
              "<Figure size 864x576 with 1 Axes>"
            ]
          },
          "metadata": {
            "tags": [],
            "image/png": {
              "width": 745,
              "height": 493
            }
          }
        }
      ]
    },
    {
      "cell_type": "markdown",
      "metadata": {
        "id": "PEuxkOIr0C31",
        "colab_type": "text"
      },
      "source": [
        "# Data Preprocessing\n",
        "\n",
        "You might already know that Machine Learning models don't work with raw text. You need to convert text to numbers (of some sort). BERT requires even more attention (good one, right?). Here are the requirements:\n",
        "\n",
        "Add special tokens to separate sentences and do classification\n",
        "Pass sequences of constant length (introduce padding)\n",
        "Create array of 0s (pad token) and 1s (real token) called attention mask\n",
        "The Transformers library provides (you've guessed it) a wide variety of Transformer models (including BERT). It works with TensorFlow and PyTorch! It also includes prebuild tokenizers that do the heavy lifting for us!"
      ]
    },
    {
      "cell_type": "code",
      "metadata": {
        "id": "pmUn0_oT6FHb",
        "colab_type": "code",
        "colab": {}
      },
      "source": [
        "PRE_TRAINED_MODEL_NAME = 'bert-base-cased'"
      ],
      "execution_count": 0,
      "outputs": []
    },
    {
      "cell_type": "code",
      "metadata": {
        "id": "k99xTvCn0T1M",
        "colab_type": "code",
        "colab": {
          "base_uri": "https://localhost:8080/",
          "height": 66,
          "referenced_widgets": [
            "55050a9547264ea1a97e3e2223e8afe9",
            "c0c9b6f3f2b34bdb898a029ec97af7d7",
            "38247168374f47e296d2cd4a672dcba1",
            "73db3625818d4fa88f5a90179dfaad42",
            "0dfaf710cc38456e97eac6cb8f502c8b",
            "11ba359831254c81a4dae3e30b75cbdb",
            "e1b913a3b3d74987aa517e6732ebd799",
            "193970a4d30d45cd95363af86f7d1228"
          ]
        },
        "outputId": "431bf7b6-6b9c-4ba3-95af-f16378719d42"
      },
      "source": [
        "tokenizer = transformers.BertTokenizer.from_pretrained(PRE_TRAINED_MODEL_NAME)"
      ],
      "execution_count": 38,
      "outputs": [
        {
          "output_type": "display_data",
          "data": {
            "application/vnd.jupyter.widget-view+json": {
              "model_id": "55050a9547264ea1a97e3e2223e8afe9",
              "version_minor": 0,
              "version_major": 2
            },
            "text/plain": [
              "HBox(children=(FloatProgress(value=0.0, description='Downloading', max=213450.0, style=ProgressStyle(descripti…"
            ]
          },
          "metadata": {
            "tags": []
          }
        },
        {
          "output_type": "stream",
          "text": [
            "\n"
          ],
          "name": "stdout"
        }
      ]
    },
    {
      "cell_type": "code",
      "metadata": {
        "id": "OSpQrKL90t0U",
        "colab_type": "code",
        "colab": {}
      },
      "source": [
        "sample_txt='When was I last outside? I am stuck at home for 2 weeks.'"
      ],
      "execution_count": 0,
      "outputs": []
    },
    {
      "cell_type": "code",
      "metadata": {
        "id": "Pp9FegfX16la",
        "colab_type": "code",
        "colab": {}
      },
      "source": [
        "tokens=tokenizer.tokenize(sample_txt)"
      ],
      "execution_count": 0,
      "outputs": []
    },
    {
      "cell_type": "code",
      "metadata": {
        "id": "yJvF5kG_2Qe7",
        "colab_type": "code",
        "colab": {
          "base_uri": "https://localhost:8080/",
          "height": 34
        },
        "outputId": "9d256c2d-5423-4d9f-8d01-497f16163c57"
      },
      "source": [
        "print(tokens)"
      ],
      "execution_count": 13,
      "outputs": [
        {
          "output_type": "stream",
          "text": [
            "['when', 'was', 'i', 'last', 'outside', '?', 'i', 'am', 'stuck', 'at', 'home', 'for', '2', 'weeks', '.']\n"
          ],
          "name": "stdout"
        }
      ]
    },
    {
      "cell_type": "code",
      "metadata": {
        "id": "ne4gRzVw2R58",
        "colab_type": "code",
        "colab": {}
      },
      "source": [
        "token_ids=tokenizer.convert_tokens_to_ids(tokens)"
      ],
      "execution_count": 0,
      "outputs": []
    },
    {
      "cell_type": "code",
      "metadata": {
        "id": "3Y-NDeV82kM-",
        "colab_type": "code",
        "colab": {
          "base_uri": "https://localhost:8080/",
          "height": 51
        },
        "outputId": "2afff86b-493e-4f13-ee83-1e6040dc3cac"
      },
      "source": [
        "print(token_ids)\n",
        "print(len(token_ids))"
      ],
      "execution_count": 15,
      "outputs": [
        {
          "output_type": "stream",
          "text": [
            "[2043, 2001, 1045, 2197, 2648, 1029, 1045, 2572, 5881, 2012, 2188, 2005, 1016, 3134, 1012]\n",
            "15\n"
          ],
          "name": "stdout"
        }
      ]
    },
    {
      "cell_type": "code",
      "metadata": {
        "id": "wxAdaICl2p4t",
        "colab_type": "code",
        "colab": {
          "base_uri": "https://localhost:8080/",
          "height": 68
        },
        "outputId": "af8a6111-6bc5-4b27-a968-728e953ac8b7"
      },
      "source": [
        "print(sample_txt)\n",
        "print(tokens)\n",
        "print(token_ids)"
      ],
      "execution_count": 16,
      "outputs": [
        {
          "output_type": "stream",
          "text": [
            "When was I last outside? I am stuck at home for 2 weeks.\n",
            "['when', 'was', 'i', 'last', 'outside', '?', 'i', 'am', 'stuck', 'at', 'home', 'for', '2', 'weeks', '.']\n",
            "[2043, 2001, 1045, 2197, 2648, 1029, 1045, 2572, 5881, 2012, 2188, 2005, 1016, 3134, 1012]\n"
          ],
          "name": "stdout"
        }
      ]
    },
    {
      "cell_type": "markdown",
      "metadata": {
        "id": "3pjcPnT43PFB",
        "colab_type": "text"
      },
      "source": [
        "### Special Tokens"
      ]
    },
    {
      "cell_type": "code",
      "metadata": {
        "id": "fTzMGmJ_3Qs2",
        "colab_type": "code",
        "colab": {
          "base_uri": "https://localhost:8080/",
          "height": 34
        },
        "outputId": "6b39d0bd-54bb-4c62-e2f6-93c4fbad702c"
      },
      "source": [
        "tokenizer.sep_token, tokenizer.sep_token_id"
      ],
      "execution_count": 17,
      "outputs": [
        {
          "output_type": "execute_result",
          "data": {
            "text/plain": [
              "('[SEP]', 102)"
            ]
          },
          "metadata": {
            "tags": []
          },
          "execution_count": 17
        }
      ]
    },
    {
      "cell_type": "code",
      "metadata": {
        "id": "TAufRTrT3bs_",
        "colab_type": "code",
        "colab": {
          "base_uri": "https://localhost:8080/",
          "height": 34
        },
        "outputId": "7427b1f1-a4b9-4d15-aba6-ba84509c148c"
      },
      "source": [
        "\n",
        "tokenizer.cls_token, tokenizer.cls_token_id"
      ],
      "execution_count": 18,
      "outputs": [
        {
          "output_type": "execute_result",
          "data": {
            "text/plain": [
              "('[CLS]', 101)"
            ]
          },
          "metadata": {
            "tags": []
          },
          "execution_count": 18
        }
      ]
    },
    {
      "cell_type": "code",
      "metadata": {
        "id": "tzDorIEp3ecP",
        "colab_type": "code",
        "colab": {
          "base_uri": "https://localhost:8080/",
          "height": 34
        },
        "outputId": "808952b8-ce03-4379-d6b1-c5c93cb11f37"
      },
      "source": [
        "tokenizer.pad_token, tokenizer.pad_token_id"
      ],
      "execution_count": 19,
      "outputs": [
        {
          "output_type": "execute_result",
          "data": {
            "text/plain": [
              "('[PAD]', 0)"
            ]
          },
          "metadata": {
            "tags": []
          },
          "execution_count": 19
        }
      ]
    },
    {
      "cell_type": "code",
      "metadata": {
        "id": "7LjRSb8w3jhh",
        "colab_type": "code",
        "colab": {
          "base_uri": "https://localhost:8080/",
          "height": 34
        },
        "outputId": "2311eda0-4441-4c18-9fa4-a8ee0784b8a0"
      },
      "source": [
        "tokenizer.unk_token, tokenizer.unk_token_id"
      ],
      "execution_count": 20,
      "outputs": [
        {
          "output_type": "execute_result",
          "data": {
            "text/plain": [
              "('[UNK]', 100)"
            ]
          },
          "metadata": {
            "tags": []
          },
          "execution_count": 20
        }
      ]
    },
    {
      "cell_type": "code",
      "metadata": {
        "id": "UN-GhwPc3rxJ",
        "colab_type": "code",
        "colab": {
          "base_uri": "https://localhost:8080/",
          "height": 34
        },
        "outputId": "fcaf1bc8-993d-4d13-86c3-2207dd37a37e"
      },
      "source": [
        "encoding = tokenizer.encode_plus(\n",
        "  sample_txt,\n",
        "  max_length=32,\n",
        "  add_special_tokens=True, # Add '[CLS]' and '[SEP]'\n",
        "  return_token_type_ids=False,\n",
        "  pad_to_max_length=True,\n",
        "  return_attention_mask=True,\n",
        "  return_tensors='pt',  # Return PyTorch tensors\n",
        ")\n",
        "\n",
        "encoding.keys()"
      ],
      "execution_count": 21,
      "outputs": [
        {
          "output_type": "execute_result",
          "data": {
            "text/plain": [
              "dict_keys(['input_ids', 'attention_mask'])"
            ]
          },
          "metadata": {
            "tags": []
          },
          "execution_count": 21
        }
      ]
    },
    {
      "cell_type": "code",
      "metadata": {
        "id": "b336DbCC4MlK",
        "colab_type": "code",
        "colab": {
          "base_uri": "https://localhost:8080/",
          "height": 85
        },
        "outputId": "1a434ed3-ed38-4531-f75c-6e1ca1904a92"
      },
      "source": [
        "print(len(encoding['input_ids'][0]))\n",
        "encoding['input_ids'][0]"
      ],
      "execution_count": 22,
      "outputs": [
        {
          "output_type": "stream",
          "text": [
            "32\n"
          ],
          "name": "stdout"
        },
        {
          "output_type": "execute_result",
          "data": {
            "text/plain": [
              "tensor([ 101, 2043, 2001, 1045, 2197, 2648, 1029, 1045, 2572, 5881, 2012, 2188,\n",
              "        2005, 1016, 3134, 1012,  102,    0,    0,    0,    0,    0,    0,    0,\n",
              "           0,    0,    0,    0,    0,    0,    0,    0])"
            ]
          },
          "metadata": {
            "tags": []
          },
          "execution_count": 22
        }
      ]
    },
    {
      "cell_type": "code",
      "metadata": {
        "id": "t6106Z9S4QfS",
        "colab_type": "code",
        "colab": {
          "base_uri": "https://localhost:8080/",
          "height": 68
        },
        "outputId": "819b629c-b44e-428c-dcd8-472df66ad2ea"
      },
      "source": [
        "print(len(encoding['attention_mask'][0]))\n",
        "encoding['attention_mask']"
      ],
      "execution_count": 23,
      "outputs": [
        {
          "output_type": "stream",
          "text": [
            "32\n"
          ],
          "name": "stdout"
        },
        {
          "output_type": "execute_result",
          "data": {
            "text/plain": [
              "tensor([[1, 1, 1, 1, 1, 1, 1, 1, 1, 1, 1, 1, 1, 1, 1, 1, 1, 0, 0, 0, 0, 0, 0, 0,\n",
              "         0, 0, 0, 0, 0, 0, 0, 0]])"
            ]
          },
          "metadata": {
            "tags": []
          },
          "execution_count": 23
        }
      ]
    },
    {
      "cell_type": "code",
      "metadata": {
        "id": "dHnMAuZp4uRj",
        "colab_type": "code",
        "colab": {
          "base_uri": "https://localhost:8080/",
          "height": 561
        },
        "outputId": "8cf9d313-d8de-4cd6-83cc-50df5881abdd"
      },
      "source": [
        "tokenizer.convert_ids_to_tokens(encoding['input_ids'][0])"
      ],
      "execution_count": 24,
      "outputs": [
        {
          "output_type": "execute_result",
          "data": {
            "text/plain": [
              "['[CLS]',\n",
              " 'when',\n",
              " 'was',\n",
              " 'i',\n",
              " 'last',\n",
              " 'outside',\n",
              " '?',\n",
              " 'i',\n",
              " 'am',\n",
              " 'stuck',\n",
              " 'at',\n",
              " 'home',\n",
              " 'for',\n",
              " '2',\n",
              " 'weeks',\n",
              " '.',\n",
              " '[SEP]',\n",
              " '[PAD]',\n",
              " '[PAD]',\n",
              " '[PAD]',\n",
              " '[PAD]',\n",
              " '[PAD]',\n",
              " '[PAD]',\n",
              " '[PAD]',\n",
              " '[PAD]',\n",
              " '[PAD]',\n",
              " '[PAD]',\n",
              " '[PAD]',\n",
              " '[PAD]',\n",
              " '[PAD]',\n",
              " '[PAD]',\n",
              " '[PAD]']"
            ]
          },
          "metadata": {
            "tags": []
          },
          "execution_count": 24
        }
      ]
    },
    {
      "cell_type": "markdown",
      "metadata": {
        "id": "M91kjq_n5I3v",
        "colab_type": "text"
      },
      "source": [
        "### Choosing Sequence Length\n",
        "\n",
        "BERT works with fixed-length sequences. We'll use a simple strategy to choose the max length. Let's store the token length of each review:"
      ]
    },
    {
      "cell_type": "code",
      "metadata": {
        "id": "YSfwf6HL4yrW",
        "colab_type": "code",
        "colab": {}
      },
      "source": [
        "token_lens = []\n",
        "\n",
        "for txt in df.content:\n",
        "  tokens = tokenizer.encode(txt, max_length=512)\n",
        "  token_lens.append(len(tokens))"
      ],
      "execution_count": 0,
      "outputs": []
    },
    {
      "cell_type": "code",
      "metadata": {
        "id": "qTn-3YKW5O2I",
        "colab_type": "code",
        "colab": {
          "base_uri": "https://localhost:8080/",
          "height": 523
        },
        "outputId": "9c4d1d66-1166-4753-d48e-4570be44a282"
      },
      "source": [
        "sns.distplot(token_lens)\n",
        "plt.xlim([0, 256]);\n",
        "plt.xlabel('Token count')"
      ],
      "execution_count": 26,
      "outputs": [
        {
          "output_type": "execute_result",
          "data": {
            "text/plain": [
              "Text(0.5, 0, 'Token count')"
            ]
          },
          "metadata": {
            "tags": []
          },
          "execution_count": 26
        },
        {
          "output_type": "display_data",
          "data": {
            "image/png": "[encoded data removed]",
            "text/plain": [
              "<Figure size 864x576 with 1 Axes>"
            ]
          },
          "metadata": {
            "tags": [],
            "image/png": {
              "width": 739,
              "height": 489
            }
          }
        }
      ]
    },
    {
      "cell_type": "code",
      "metadata": {
        "id": "ctrkYA2f5TLo",
        "colab_type": "code",
        "colab": {}
      },
      "source": [
        "MAX_LEN = 160"
      ],
      "execution_count": 0,
      "outputs": []
    },
    {
      "cell_type": "code",
      "metadata": {
        "id": "FmriK8fmUyDd",
        "colab_type": "code",
        "colab": {}
      },
      "source": [
        "class GPReviewDataset(Dataset):\n",
        "\n",
        "  def __init__(self, reviews, targets, tokenizer, max_len):\n",
        "    self.reviews = reviews\n",
        "    self.targets = targets\n",
        "    self.tokenizer = tokenizer\n",
        "    self.max_len = max_len\n",
        "  \n",
        "  def __len__(self):\n",
        "    return len(self.reviews)\n",
        "  \n",
        "  def __getitem__(self, item):\n",
        "    review = str(self.reviews[item])\n",
        "    target = self.targets[item]\n",
        "\n",
        "    encoding = self.tokenizer.encode_plus(\n",
        "      review,\n",
        "      add_special_tokens=True,\n",
        "      max_length=self.max_len,\n",
        "      return_token_type_ids=False,\n",
        "      pad_to_max_length=True,\n",
        "      return_attention_mask=True,\n",
        "      return_tensors='pt',\n",
        "    )\n",
        "\n",
        "    return {\n",
        "      'review_text': review,\n",
        "      'input_ids': encoding['input_ids'].flatten(),\n",
        "      'attention_mask': encoding['attention_mask'].flatten(),\n",
        "      'targets': torch.tensor(target, dtype=torch.long)\n",
        "    }"
      ],
      "execution_count": 0,
      "outputs": []
    },
    {
      "cell_type": "code",
      "metadata": {
        "id": "-X_6emwoU1nE",
        "colab_type": "code",
        "colab": {}
      },
      "source": [
        "df_train, df_test = train_test_split(df, test_size=0.1, random_state=RANDOM_SEED)\n",
        "df_val, df_test = train_test_split(df_test, test_size=0.5, random_state=RANDOM_SEED)"
      ],
      "execution_count": 0,
      "outputs": []
    },
    {
      "cell_type": "code",
      "metadata": {
        "id": "yukrwm2JZSxd",
        "colab_type": "code",
        "colab": {
          "base_uri": "https://localhost:8080/",
          "height": 34
        },
        "outputId": "8e247143-4845-4add-c0d9-21d2a8d8b0d0"
      },
      "source": [
        "df_train.shape, df_val.shape, df_test.shape"
      ],
      "execution_count": 30,
      "outputs": [
        {
          "output_type": "execute_result",
          "data": {
            "text/plain": [
              "((14333, 13), (796, 13), (797, 13))"
            ]
          },
          "metadata": {
            "tags": []
          },
          "execution_count": 30
        }
      ]
    },
    {
      "cell_type": "code",
      "metadata": {
        "id": "p5LLVV7lZWbU",
        "colab_type": "code",
        "colab": {}
      },
      "source": [
        "def create_data_loader(df, tokenizer, max_len, batch_size):\n",
        "  ds = GPReviewDataset(\n",
        "    reviews=df.content.to_numpy(),\n",
        "    targets=df.sentiment.to_numpy(),\n",
        "    tokenizer=tokenizer,\n",
        "    max_len=max_len\n",
        "  )\n",
        "\n",
        "  return DataLoader(\n",
        "    ds,\n",
        "    batch_size=batch_size,\n",
        "    num_workers=4\n",
        "  )"
      ],
      "execution_count": 0,
      "outputs": []
    },
    {
      "cell_type": "code",
      "metadata": {
        "id": "FwVvErpda3Se",
        "colab_type": "code",
        "colab": {}
      },
      "source": [
        "BATCH_SIZE = 16\n",
        "\n",
        "train_data_loader = create_data_loader(df_train, tokenizer, MAX_LEN, BATCH_SIZE)\n",
        "val_data_loader = create_data_loader(df_val, tokenizer, MAX_LEN, BATCH_SIZE)\n",
        "test_data_loader = create_data_loader(df_test, tokenizer, MAX_LEN, BATCH_SIZE)"
      ],
      "execution_count": 0,
      "outputs": []
    },
    {
      "cell_type": "code",
      "metadata": {
        "id": "F6L0ziCia-Bc",
        "colab_type": "code",
        "colab": {
          "base_uri": "https://localhost:8080/",
          "height": 34
        },
        "outputId": "d1183d33-2dd5-4e58-e336-69b32fa7b80d"
      },
      "source": [
        "data = next(iter(train_data_loader))\n",
        "data.keys()"
      ],
      "execution_count": 33,
      "outputs": [
        {
          "output_type": "execute_result",
          "data": {
            "text/plain": [
              "dict_keys(['review_text', 'input_ids', 'attention_mask', 'targets'])"
            ]
          },
          "metadata": {
            "tags": []
          },
          "execution_count": 33
        }
      ]
    },
    {
      "cell_type": "code",
      "metadata": {
        "id": "qcf4_emvbHgs",
        "colab_type": "code",
        "colab": {
          "base_uri": "https://localhost:8080/",
          "height": 68
        },
        "outputId": "41ba2156-8c53-41e4-faf2-3599e359ccea"
      },
      "source": [
        "print(data['input_ids'].shape)\n",
        "print(data['attention_mask'].shape)\n",
        "print(data['targets'].shape)"
      ],
      "execution_count": 34,
      "outputs": [
        {
          "output_type": "stream",
          "text": [
            "torch.Size([16, 160])\n",
            "torch.Size([16, 160])\n",
            "torch.Size([16])\n"
          ],
          "name": "stdout"
        }
      ]
    },
    {
      "cell_type": "markdown",
      "metadata": {
        "id": "UwDZFh-owWEq",
        "colab_type": "text"
      },
      "source": [
        "## Sentiment Classification with BERT and Hugging Face\n",
        "There are a lot of helpers that make using BERT easy with the Transformers library. Depending on the task you might want to use BertForSequenceClassification, BertForQuestionAnswering or something else.\n",
        "\n",
        "But who cares, right? We're hardcore! We'll use the basic BertModel and build our sentiment classifier on top of it. Let's load the model:"
      ]
    },
    {
      "cell_type": "code",
      "metadata": {
        "id": "XJk0aGdDbSzk",
        "colab_type": "code",
        "colab": {
          "base_uri": "https://localhost:8080/",
          "height": 115,
          "referenced_widgets": [
            "c71294b3ebb74f4caf75fc8bb91f0ddb",
            "7f27d80df6a541ecbbdafefd748234e2",
            "649aaefeeea84f81a57594e1ba229366",
            "82b344435a4c4218adcb147187b138e7",
            "5a864d99f7ed4e93bcb5a407e80d067d",
            "15978290ecf04c20bf1b3ffd1a2f0d07",
            "66d778ac9c8f412bb1af57cf75ef33ee",
            "3d55c024b5b74e26985f2782376979df",
            "dc8deb8da77b493dac0c97af23679734",
            "76af7fbfb4e34f64b570187c9d60574d",
            "015e3a52abd94921816ef5bb668ef022",
            "186892616a7545cf926b05c341a1e872",
            "632c1ddbfb5349d49cb07bf028c6f4ea",
            "9ab4442977484a98b76207d6394ac507",
            "f73cb48e7c3f4a9eb7ec5d3a25540965",
            "aa6f4afd03f247228fcdebf54ddbcff5"
          ]
        },
        "outputId": "9b5aaac5-b688-4e54-8958-e69768b62bff"
      },
      "source": [
        "bert_model = BertModel.from_pretrained(PRE_TRAINED_MODEL_NAME)"
      ],
      "execution_count": 39,
      "outputs": [
        {
          "output_type": "display_data",
          "data": {
            "application/vnd.jupyter.widget-view+json": {
              "model_id": "c71294b3ebb74f4caf75fc8bb91f0ddb",
              "version_minor": 0,
              "version_major": 2
            },
            "text/plain": [
              "HBox(children=(FloatProgress(value=0.0, description='Downloading', max=433.0, style=ProgressStyle(description_…"
            ]
          },
          "metadata": {
            "tags": []
          }
        },
        {
          "output_type": "stream",
          "text": [
            "\n"
          ],
          "name": "stdout"
        },
        {
          "output_type": "display_data",
          "data": {
            "application/vnd.jupyter.widget-view+json": {
              "model_id": "dc8deb8da77b493dac0c97af23679734",
              "version_minor": 0,
              "version_major": 2
            },
            "text/plain": [
              "HBox(children=(FloatProgress(value=0.0, description='Downloading', max=435779157.0, style=ProgressStyle(descri…"
            ]
          },
          "metadata": {
            "tags": []
          }
        },
        {
          "output_type": "stream",
          "text": [
            "\n"
          ],
          "name": "stdout"
        }
      ]
    },
    {
      "cell_type": "code",
      "metadata": {
        "id": "AEQkjo6MwUuC",
        "colab_type": "code",
        "colab": {}
      },
      "source": [
        "last_hidden_state, pooled_output = bert_model(\n",
        "  input_ids=encoding['input_ids'], \n",
        "  attention_mask=encoding['attention_mask']\n",
        ")"
      ],
      "execution_count": 0,
      "outputs": []
    },
    {
      "cell_type": "code",
      "metadata": {
        "id": "Z_NGR6IRwyaK",
        "colab_type": "code",
        "colab": {
          "base_uri": "https://localhost:8080/",
          "height": 34
        },
        "outputId": "921f7713-d8f7-489f-ef1c-79ac169ea30a"
      },
      "source": [
        "last_hidden_state.shape"
      ],
      "execution_count": 41,
      "outputs": [
        {
          "output_type": "execute_result",
          "data": {
            "text/plain": [
              "torch.Size([1, 32, 768])"
            ]
          },
          "metadata": {
            "tags": []
          },
          "execution_count": 41
        }
      ]
    },
    {
      "cell_type": "code",
      "metadata": {
        "id": "Hz5SJZZbw129",
        "colab_type": "code",
        "colab": {
          "base_uri": "https://localhost:8080/",
          "height": 34
        },
        "outputId": "952aca23-9fd5-4400-e414-0528095f1c13"
      },
      "source": [
        "pooled_output.shape"
      ],
      "execution_count": 42,
      "outputs": [
        {
          "output_type": "execute_result",
          "data": {
            "text/plain": [
              "torch.Size([1, 768])"
            ]
          },
          "metadata": {
            "tags": []
          },
          "execution_count": 42
        }
      ]
    },
    {
      "cell_type": "code",
      "metadata": {
        "id": "Z5kQHUNF1zQw",
        "colab_type": "code",
        "colab": {}
      },
      "source": [
        "class SentimentClassifier(nn.Module):\n",
        "\n",
        "  def __init__(self, n_classes):\n",
        "    super(SentimentClassifier, self).__init__()\n",
        "    self.bert = BertModel.from_pretrained(PRE_TRAINED_MODEL_NAME)\n",
        "    self.drop = nn.Dropout(p=0.3)\n",
        "    self.out = nn.Linear(self.bert.config.hidden_size, n_classes)\n",
        "  \n",
        "  def forward(self, input_ids, attention_mask):\n",
        "    _, pooled_output = self.bert(\n",
        "      input_ids=input_ids,\n",
        "      attention_mask=attention_mask\n",
        "    )\n",
        "    output = self.drop(pooled_output)\n",
        "    return self.out(output)"
      ],
      "execution_count": 0,
      "outputs": []
    },
    {
      "cell_type": "code",
      "metadata": {
        "id": "IoirP8vnxPRX",
        "colab_type": "code",
        "colab": {}
      },
      "source": [
        "model = SentimentClassifier(len(class_names))\n",
        "model = model.to(device)"
      ],
      "execution_count": 0,
      "outputs": []
    },
    {
      "cell_type": "code",
      "metadata": {
        "id": "5oiXTQKy1qAT",
        "colab_type": "code",
        "colab": {
          "base_uri": "https://localhost:8080/",
          "height": 51
        },
        "outputId": "39e1195d-5717-4ab7-c4a1-f2c1b822280c"
      },
      "source": [
        "input_ids = data['input_ids'].to(device)\n",
        "attention_mask = data['attention_mask'].to(device)\n",
        "\n",
        "print(input_ids.shape) # batch size x seq length\n",
        "print(attention_mask.shape) # batch size x seq length\n"
      ],
      "execution_count": 45,
      "outputs": [
        {
          "output_type": "stream",
          "text": [
            "torch.Size([16, 160])\n",
            "torch.Size([16, 160])\n"
          ],
          "name": "stdout"
        }
      ]
    },
    {
      "cell_type": "code",
      "metadata": {
        "id": "uL4QPdUk16vY",
        "colab_type": "code",
        "colab": {
          "base_uri": "https://localhost:8080/",
          "height": 289
        },
        "outputId": "39a2e6c2-d4af-4ed3-dc99-0143e8cade81"
      },
      "source": [
        "F.softmax(model(input_ids, attention_mask), dim=1)"
      ],
      "execution_count": 46,
      "outputs": [
        {
          "output_type": "execute_result",
          "data": {
            "text/plain": [
              "tensor([[0.4269, 0.1980, 0.3751],\n",
              "        [0.4884, 0.1612, 0.3504],\n",
              "        [0.2818, 0.1670, 0.5512],\n",
              "        [0.5034, 0.1440, 0.3526],\n",
              "        [0.5797, 0.1701, 0.2502],\n",
              "        [0.3199, 0.2013, 0.4788],\n",
              "        [0.3815, 0.1547, 0.4638],\n",
              "        [0.2783, 0.2836, 0.4381],\n",
              "        [0.3175, 0.1686, 0.5139],\n",
              "        [0.2346, 0.2115, 0.5539],\n",
              "        [0.4180, 0.2026, 0.3793],\n",
              "        [0.3948, 0.2491, 0.3561],\n",
              "        [0.5298, 0.1231, 0.3471],\n",
              "        [0.4801, 0.2090, 0.3109],\n",
              "        [0.4068, 0.1931, 0.4001],\n",
              "        [0.3511, 0.2193, 0.4296]], device='cuda:0', grad_fn=<SoftmaxBackward>)"
            ]
          },
          "metadata": {
            "tags": []
          },
          "execution_count": 46
        }
      ]
    },
    {
      "cell_type": "markdown",
      "metadata": {
        "id": "f4dk0ib53AjH",
        "colab_type": "text"
      },
      "source": [
        "# Training"
      ]
    },
    {
      "cell_type": "code",
      "metadata": {
        "id": "wBmxIv_F2FiI",
        "colab_type": "code",
        "colab": {}
      },
      "source": [
        "EPOCHS = 10\n",
        "\n",
        "optimizer = AdamW(model.parameters(), lr=2e-5, correct_bias=False)\n",
        "total_steps = len(train_data_loader) * EPOCHS\n",
        "\n",
        "scheduler = get_linear_schedule_with_warmup(\n",
        "  optimizer,\n",
        "  num_warmup_steps=0,\n",
        "  num_training_steps=total_steps\n",
        ")\n",
        "\n",
        "loss_fn = nn.CrossEntropyLoss().to(device)"
      ],
      "execution_count": 0,
      "outputs": []
    },
    {
      "cell_type": "code",
      "metadata": {
        "id": "QTlPC4r92_ls",
        "colab_type": "code",
        "colab": {}
      },
      "source": [
        "def train_epoch(\n",
        "  model, \n",
        "  data_loader, \n",
        "  loss_fn, \n",
        "  optimizer, \n",
        "  device, \n",
        "  scheduler, \n",
        "  n_examples\n",
        "):\n",
        "  model = model.train()\n",
        "\n",
        "  losses = []\n",
        "  correct_predictions = 0\n",
        "  \n",
        "  for d in data_loader:\n",
        "    input_ids = d[\"input_ids\"].to(device)\n",
        "    attention_mask = d[\"attention_mask\"].to(device)\n",
        "    targets = d[\"targets\"].to(device)\n",
        "\n",
        "    outputs = model(\n",
        "      input_ids=input_ids,\n",
        "      attention_mask=attention_mask\n",
        "    )\n",
        "\n",
        "    _, preds = torch.max(outputs, dim=1)\n",
        "    loss = loss_fn(outputs, targets)\n",
        "\n",
        "    correct_predictions += torch.sum(preds == targets)\n",
        "    losses.append(loss.item())\n",
        "\n",
        "    loss.backward()\n",
        "    nn.utils.clip_grad_norm_(model.parameters(), max_norm=1.0)\n",
        "    optimizer.step()\n",
        "    scheduler.step()\n",
        "    optimizer.zero_grad()\n",
        "\n",
        "  return correct_predictions.double() / n_examples, np.mean(losses)"
      ],
      "execution_count": 0,
      "outputs": []
    },
    {
      "cell_type": "code",
      "metadata": {
        "id": "vsm1T6HA3PC8",
        "colab_type": "code",
        "colab": {}
      },
      "source": [
        "def eval_model(model, data_loader, loss_fn, device, n_examples):\n",
        "  model = model.eval()\n",
        "\n",
        "  losses = []\n",
        "  correct_predictions = 0\n",
        "\n",
        "  with torch.no_grad():\n",
        "    for d in data_loader:\n",
        "      input_ids = d[\"input_ids\"].to(device)\n",
        "      attention_mask = d[\"attention_mask\"].to(device)\n",
        "      targets = d[\"targets\"].to(device)\n",
        "\n",
        "      outputs = model(\n",
        "        input_ids=input_ids,\n",
        "        attention_mask=attention_mask\n",
        "      )\n",
        "      _, preds = torch.max(outputs, dim=1)\n",
        "\n",
        "      loss = loss_fn(outputs, targets)\n",
        "\n",
        "      correct_predictions += torch.sum(preds == targets)\n",
        "      losses.append(loss.item())\n",
        "\n",
        "  return correct_predictions.double() / n_examples, np.mean(losses)"
      ],
      "execution_count": 0,
      "outputs": []
    },
    {
      "cell_type": "code",
      "metadata": {
        "id": "vrAKi6XG4fcH",
        "colab_type": "code",
        "colab": {
          "base_uri": "https://localhost:8080/",
          "height": 901
        },
        "outputId": "f01cf095-f2ed-4843-c6d2-59f5706329d2"
      },
      "source": [
        "%%time\n",
        "\n",
        "history = defaultdict(list)\n",
        "best_accuracy = 0\n",
        "\n",
        "for epoch in range(EPOCHS):\n",
        "\n",
        "  print(f'Epoch {epoch + 1}/{EPOCHS}')\n",
        "  print('-' * 10)\n",
        "\n",
        "  train_acc, train_loss = train_epoch(\n",
        "    model,\n",
        "    train_data_loader,    \n",
        "    loss_fn, \n",
        "    optimizer, \n",
        "    device, \n",
        "    scheduler, \n",
        "    len(df_train)\n",
        "  )\n",
        "\n",
        "  print(f'Train loss {train_loss} accuracy {train_acc}')\n",
        "\n",
        "  val_acc, val_loss = eval_model(\n",
        "    model,\n",
        "    val_data_loader,\n",
        "    loss_fn, \n",
        "    device, \n",
        "    len(df_val)\n",
        "  )\n",
        "\n",
        "  print(f'Val   loss {val_loss} accuracy {val_acc}')\n",
        "  print()\n",
        "\n",
        "  history['train_acc'].append(train_acc)\n",
        "  history['train_loss'].append(train_loss)\n",
        "  history['val_acc'].append(val_acc)\n",
        "  history['val_loss'].append(val_loss)\n",
        "\n",
        "  if val_acc > best_accuracy:\n",
        "    torch.save(model.state_dict(), '/content/drive/My Drive/Data/Models/sentiment analysis/best_model_state.bin')\n",
        "    best_accuracy = val_acc"
      ],
      "execution_count": 51,
      "outputs": [
        {
          "output_type": "stream",
          "text": [
            "Epoch 1/10\n",
            "----------\n",
            "Train loss 0.6799370528398347 accuracy 0.7105979208818809\n",
            "Val   loss 0.7544888716936111 accuracy 0.6834170854271356\n",
            "\n",
            "Epoch 2/10\n",
            "----------\n",
            "Train loss 0.5097753935177545 accuracy 0.8072978441359101\n",
            "Val   loss 0.7301386284828186 accuracy 0.7386934673366834\n",
            "\n",
            "Epoch 3/10\n",
            "----------\n",
            "Train loss 0.37550796540121417 accuracy 0.8714853833810088\n",
            "Val   loss 0.7691546058654786 accuracy 0.7613065326633166\n",
            "\n",
            "Epoch 4/10\n",
            "----------\n",
            "Train loss 0.29662666670628823 accuracy 0.9061606083862415\n",
            "Val   loss 0.8508723491430282 accuracy 0.7839195979899498\n",
            "\n",
            "Epoch 5/10\n",
            "----------\n",
            "Train loss 0.23867029119927402 accuracy 0.9287657852508198\n",
            "Val   loss 0.9017799423635006 accuracy 0.8128140703517588\n",
            "\n",
            "Epoch 6/10\n",
            "----------\n",
            "Train loss 0.20243745912115887 accuracy 0.9447429009976975\n",
            "Val   loss 0.9243114826083183 accuracy 0.8241206030150754\n",
            "\n",
            "Epoch 7/10\n",
            "----------\n",
            "Train loss 0.17331175933733384 accuracy 0.9524872671457475\n",
            "Val   loss 1.026999969780445 accuracy 0.8128140703517588\n",
            "\n",
            "Epoch 8/10\n",
            "----------\n",
            "Train loss 0.1386737882954289 accuracy 0.9616967836461312\n",
            "Val   loss 1.0801711758971215 accuracy 0.8253768844221105\n",
            "\n",
            "Epoch 9/10\n",
            "----------\n",
            "Train loss 0.13125212795603147 accuracy 0.9634410102560523\n",
            "Val   loss 1.0404985204339028 accuracy 0.8253768844221105\n",
            "\n",
            "Epoch 10/10\n",
            "----------\n",
            "Train loss 0.12746737498569669 accuracy 0.964487546222005\n",
            "Val   loss 1.0404985204339028 accuracy 0.8253768844221105\n",
            "\n",
            "CPU times: user 1h 24min 58s, sys: 48min 39s, total: 2h 13min 37s\n",
            "Wall time: 2h 14min 21s\n"
          ],
          "name": "stdout"
        }
      ]
    },
    {
      "cell_type": "code",
      "metadata": {
        "id": "Z7xMnxnI5C1k",
        "colab_type": "code",
        "colab": {}
      },
      "source": [
        ""
      ],
      "execution_count": 0,
      "outputs": []
    }
  ]
}